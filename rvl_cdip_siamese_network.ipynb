{
 "cells": [
  {
   "metadata": {},
   "cell_type": "markdown",
   "source": "# (down)loading the dataset",
   "id": "70ee398b2e6096f1"
  },
  {
   "cell_type": "code",
   "id": "initial_id",
   "metadata": {
    "collapsed": true,
    "ExecuteTime": {
     "end_time": "2025-05-21T12:05:02.814618Z",
     "start_time": "2025-05-21T12:05:02.810618Z"
    }
   },
   "source": "from datasets import load_dataset",
   "outputs": [],
   "execution_count": 4
  },
  {
   "metadata": {
    "ExecuteTime": {
     "end_time": "2025-05-21T12:13:02.893755Z",
     "start_time": "2025-05-21T12:12:14.409086Z"
    }
   },
   "cell_type": "code",
   "source": "data_tr = load_dataset(\"aharley/rvl_cdip\", split=\"train[:10]\", trust_remote_code=True)",
   "id": "c05caf8fda31d828",
   "outputs": [
    {
     "name": "stderr",
     "output_type": "stream",
     "text": [
      "\n",
      "KeyboardInterrupt\n",
      "\n"
     ]
    }
   ],
   "execution_count": 7
  },
  {
   "metadata": {},
   "cell_type": "code",
   "outputs": [],
   "execution_count": null,
   "source": "print(data_tr)",
   "id": "35e06aee5a7a0ad7"
  },
  {
   "metadata": {},
   "cell_type": "code",
   "outputs": [],
   "execution_count": null,
   "source": "",
   "id": "a3d351aa78c0b681"
  }
 ],
 "metadata": {
  "kernelspec": {
   "display_name": "Python 3",
   "language": "python",
   "name": "python3"
  },
  "language_info": {
   "codemirror_mode": {
    "name": "ipython",
    "version": 2
   },
   "file_extension": ".py",
   "mimetype": "text/x-python",
   "name": "python",
   "nbconvert_exporter": "python",
   "pygments_lexer": "ipython2",
   "version": "2.7.6"
  }
 },
 "nbformat": 4,
 "nbformat_minor": 5
}
