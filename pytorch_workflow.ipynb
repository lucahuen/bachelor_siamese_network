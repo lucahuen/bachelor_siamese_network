{
 "cells": [
  {
   "metadata": {},
   "cell_type": "markdown",
   "source": "# Pytorch Workflow",
   "id": "a7400326fccae069"
  },
  {
   "metadata": {
    "ExecuteTime": {
     "end_time": "2025-05-14T19:11:49.285478Z",
     "start_time": "2025-05-14T19:11:49.279479Z"
    }
   },
   "cell_type": "code",
   "source": [
    "what_were_covering = {1: \"data (prepare and load)\",\n",
    "                      2: \"build model\",\n",
    "                      3: \"fitting the model to data (training)\",\n",
    "                      4: \"making predictions and evaluating the model (inference)\",\n",
    "                      5: \"saving and loading a model\",\n",
    "                      6: \"putting it all together\"}\n",
    "\n",
    "what_were_covering"
   ],
   "id": "1a555be1834674a2",
   "outputs": [
    {
     "data": {
      "text/plain": [
       "{1: 'data (prepare and load)',\n",
       " 2: 'build model',\n",
       " 3: 'fitting the model to data (training)',\n",
       " 4: 'making predictions and evaluating the model (inference)',\n",
       " 5: 'saving and loading a model',\n",
       " 6: 'putting it all together'}"
      ]
     },
     "execution_count": 103,
     "metadata": {},
     "output_type": "execute_result"
    }
   ],
   "execution_count": 103
  },
  {
   "metadata": {
    "ExecuteTime": {
     "end_time": "2025-05-14T19:11:49.347277Z",
     "start_time": "2025-05-14T19:11:49.342755Z"
    }
   },
   "cell_type": "code",
   "source": [
    "import torch\n",
    "from torch import nn\n",
    "import matplotlib.pyplot as plt\n",
    "\n",
    "torch.__version__"
   ],
   "id": "2a3146bcfa579907",
   "outputs": [
    {
     "data": {
      "text/plain": [
       "'2.7.0+cpu'"
      ]
     },
     "execution_count": 104,
     "metadata": {},
     "output_type": "execute_result"
    }
   ],
   "execution_count": 104
  },
  {
   "metadata": {
    "ExecuteTime": {
     "end_time": "2025-05-14T19:11:49.406789Z",
     "start_time": "2025-05-14T19:11:49.400790Z"
    }
   },
   "cell_type": "code",
   "source": [
    "# Create known parameters\n",
    "weight = 0.7\n",
    "bias = 0.3\n",
    "\n",
    "# Create\n",
    "start = 0\n",
    "end = 1\n",
    "step = 0.02\n",
    "X = torch.arange(start, end, step).unsqueeze(dim=1)\n",
    "y = weight * X + bias\n",
    "\n",
    "X[:10], y[:10]"
   ],
   "id": "a769771953a41e70",
   "outputs": [
    {
     "data": {
      "text/plain": [
       "(tensor([[0.0000],\n",
       "         [0.0200],\n",
       "         [0.0400],\n",
       "         [0.0600],\n",
       "         [0.0800],\n",
       "         [0.1000],\n",
       "         [0.1200],\n",
       "         [0.1400],\n",
       "         [0.1600],\n",
       "         [0.1800]]),\n",
       " tensor([[0.3000],\n",
       "         [0.3140],\n",
       "         [0.3280],\n",
       "         [0.3420],\n",
       "         [0.3560],\n",
       "         [0.3700],\n",
       "         [0.3840],\n",
       "         [0.3980],\n",
       "         [0.4120],\n",
       "         [0.4260]]))"
      ]
     },
     "execution_count": 105,
     "metadata": {},
     "output_type": "execute_result"
    }
   ],
   "execution_count": 105
  },
  {
   "metadata": {
    "ExecuteTime": {
     "end_time": "2025-05-14T19:11:49.466999Z",
     "start_time": "2025-05-14T19:11:49.462950Z"
    }
   },
   "cell_type": "code",
   "source": "len(X), len(y)",
   "id": "e8411ca759555984",
   "outputs": [
    {
     "data": {
      "text/plain": [
       "(50, 50)"
      ]
     },
     "execution_count": 106,
     "metadata": {},
     "output_type": "execute_result"
    }
   ],
   "execution_count": 106
  },
  {
   "metadata": {
    "ExecuteTime": {
     "end_time": "2025-05-14T19:11:49.513517Z",
     "start_time": "2025-05-14T19:11:49.508995Z"
    }
   },
   "cell_type": "code",
   "source": [
    "# Splitting data into training and test sets\n",
    "train_split = int(0.8 * len(X))\n",
    "X_train, y_train = X[:train_split], y[:train_split]\n",
    "X_test, y_test = X[train_split:], y[train_split:]\n",
    "\n",
    "len(X_train), len(y_train), len(X_test), len(y_test)"
   ],
   "id": "9082de0e97a84751",
   "outputs": [
    {
     "data": {
      "text/plain": [
       "(40, 40, 10, 10)"
      ]
     },
     "execution_count": 107,
     "metadata": {},
     "output_type": "execute_result"
    }
   ],
   "execution_count": 107
  },
  {
   "metadata": {
    "ExecuteTime": {
     "end_time": "2025-05-14T19:11:49.567025Z",
     "start_time": "2025-05-14T19:11:49.562026Z"
    }
   },
   "cell_type": "code",
   "source": [
    "def plot_predictions(train_data=X_train,\n",
    "                     train_labels=y_train,\n",
    "                     test_data=X_test,\n",
    "                     test_labels=y_test,\n",
    "                     predictions=None):\n",
    "    \"\"\"\n",
    "    Plots training data, test data and compares predictions.\n",
    "    \"\"\"\n",
    "    plt.figure(figsize=(10, 7))\n",
    "\n",
    "    # Plot training data in blue\n",
    "    plt.scatter(train_data, train_labels, c=\"b\", s=4, label=\"training data\")\n",
    "\n",
    "    # Plot test data in green\n",
    "    plt.scatter(test_data, test_labels, c=\"g\", s=4, label=\"testing data\")\n",
    "\n",
    "    # Are there predictions?\n",
    "    if predictions is not None:\n",
    "        # Plot predictions if they exist\n",
    "        plt.scatter(test_data, predictions, c=\"r\", s=4, label=\"predictions\")\n",
    "\n",
    "    # Show legend\n",
    "    plt.legend(prop={\"size\": 14})"
   ],
   "id": "6a72324140e45dcf",
   "outputs": [],
   "execution_count": 108
  },
  {
   "metadata": {
    "ExecuteTime": {
     "end_time": "2025-05-14T19:11:49.776663Z",
     "start_time": "2025-05-14T19:11:49.615661Z"
    }
   },
   "cell_type": "code",
   "source": "plot_predictions()",
   "id": "26b1cb003276f8e7",
   "outputs": [
    {
     "data": {
      "text/plain": [
       "<Figure size 1000x700 with 1 Axes>"
      ],
      "image/png": "[encoded data removed]"
     },
     "metadata": {},
     "output_type": "display_data"
    }
   ],
   "execution_count": 109
  },
  {
   "metadata": {},
   "cell_type": "markdown",
   "source": "# Building the Model",
   "id": "6603847a4a545bdb"
  },
  {
   "metadata": {
    "ExecuteTime": {
     "end_time": "2025-05-14T19:11:49.806329Z",
     "start_time": "2025-05-14T19:11:49.802328Z"
    }
   },
   "cell_type": "code",
   "source": [
    "# Create linear regression model class\n",
    "class LinearRegressionModel(nn.Module):\n",
    "    def __init__(self):\n",
    "        super().__init__()\n",
    "        self.weights = nn.Parameter(torch.randn(1,\n",
    "                                                requires_grad=True,\n",
    "                                                dtype=torch.float))\n",
    "        self.bias = nn.Parameter(torch.randn(1,\n",
    "                                             requires_grad=True,\n",
    "                                             dtype=torch.float))\n",
    "\n",
    "    # Forward method to define the computation in the model\n",
    "    def forward(self, x: torch.Tensor) -> torch.Tensor:\n",
    "        return self.weights * x + self.bias"
   ],
   "id": "15a741cfe4424329",
   "outputs": [],
   "execution_count": 110
  },
  {
   "metadata": {
    "ExecuteTime": {
     "end_time": "2025-05-14T19:11:49.840882Z",
     "start_time": "2025-05-14T19:11:49.833743Z"
    }
   },
   "cell_type": "code",
   "source": [
    "# Create random seed\n",
    "torch.manual_seed(42)\n",
    "\n",
    "# Create instance of the model\n",
    "model_0 = LinearRegressionModel()\n",
    "\n",
    "list(model_0.parameters())"
   ],
   "id": "f6a289b968abfc6a",
   "outputs": [
    {
     "data": {
      "text/plain": [
       "[Parameter containing:\n",
       " tensor([0.3367], requires_grad=True),\n",
       " Parameter containing:\n",
       " tensor([0.1288], requires_grad=True)]"
      ]
     },
     "execution_count": 111,
     "metadata": {},
     "output_type": "execute_result"
    }
   ],
   "execution_count": 111
  },
  {
   "metadata": {
    "ExecuteTime": {
     "end_time": "2025-05-14T19:11:49.884987Z",
     "start_time": "2025-05-14T19:11:49.879987Z"
    }
   },
   "cell_type": "code",
   "source": [
    "# List named parameters\n",
    "model_0.state_dict()"
   ],
   "id": "75916c4a83039cd5",
   "outputs": [
    {
     "data": {
      "text/plain": [
       "OrderedDict([('weights', tensor([0.3367])), ('bias', tensor([0.1288]))])"
      ]
     },
     "execution_count": 112,
     "metadata": {},
     "output_type": "execute_result"
    }
   ],
   "execution_count": 112
  },
  {
   "metadata": {},
   "cell_type": "markdown",
   "source": "### Making predictions using torch.inference_mode()",
   "id": "2de0b8933e3ca0d5"
  },
  {
   "metadata": {
    "ExecuteTime": {
     "end_time": "2025-05-14T19:11:49.922609Z",
     "start_time": "2025-05-14T19:11:49.919217Z"
    }
   },
   "cell_type": "code",
   "source": [
    "with torch.inference_mode():\n",
    "    y_preds = model_0(X_test)"
   ],
   "id": "82fd059385b9f16a",
   "outputs": [],
   "execution_count": 113
  },
  {
   "metadata": {
    "ExecuteTime": {
     "end_time": "2025-05-14T19:11:50.100370Z",
     "start_time": "2025-05-14T19:11:49.958120Z"
    }
   },
   "cell_type": "code",
   "source": "plot_predictions(predictions=y_preds)",
   "id": "d285539aca42d1f3",
   "outputs": [
    {
     "data": {
      "text/plain": [
       "<Figure size 1000x700 with 1 Axes>"
      ],
      "image/png": "[encoded data removed]"
     },
     "metadata": {},
     "output_type": "display_data"
    }
   ],
   "execution_count": 114
  },
  {
   "metadata": {},
   "cell_type": "markdown",
   "source": "## Train model",
   "id": "f0933cf26f9eed0"
  },
  {
   "metadata": {
    "ExecuteTime": {
     "end_time": "2025-05-14T19:11:50.128754Z",
     "start_time": "2025-05-14T19:11:50.124021Z"
    }
   },
   "cell_type": "code",
   "source": [
    "# Check out our model's parameters\n",
    "model_0.state_dict()"
   ],
   "id": "113c2d8a097d95d",
   "outputs": [
    {
     "data": {
      "text/plain": [
       "OrderedDict([('weights', tensor([0.3367])), ('bias', tensor([0.1288]))])"
      ]
     },
     "execution_count": 115,
     "metadata": {},
     "output_type": "execute_result"
    }
   ],
   "execution_count": 115
  },
  {
   "metadata": {
    "ExecuteTime": {
     "end_time": "2025-05-14T19:11:50.157499Z",
     "start_time": "2025-05-14T19:11:50.154680Z"
    }
   },
   "cell_type": "code",
   "source": [
    "# Setup loss function\n",
    "loss_fn = nn.L1Loss()\n",
    "\n",
    "# Setup an optimizer (stochastic gradient descent)\n",
    "optimizer = torch.optim.SGD(params=model_0.parameters(),\n",
    "                            lr=0.01)  # learning rate probably the most important hyperparameter"
   ],
   "id": "124e640fcaf5804",
   "outputs": [],
   "execution_count": 116
  },
  {
   "metadata": {
    "ExecuteTime": {
     "end_time": "2025-05-14T19:11:50.272969Z",
     "start_time": "2025-05-14T19:11:50.194208Z"
    }
   },
   "cell_type": "code",
   "source": [
    "# An epoch is one loop through the data... (hyperparameter)\n",
    "epochs = 200\n",
    "\n",
    "# Track different values\n",
    "epoch_count = []\n",
    "train_loss_values = []\n",
    "test_loss_values = []\n",
    "\n",
    "# 0. Loop through data\n",
    "for epoch in range(epochs):\n",
    "    # Set the model to training mode\n",
    "    model_0.train()  # sets all parameters that require gradients to require gradients\n",
    "\n",
    "    # 1. Forward pass\n",
    "    y_pred = model_0(X_train)\n",
    "\n",
    "    # 2. Calculate the loss\n",
    "    loss = loss_fn(y_pred, y_train)  # input first (y_pred), target next (y_train)\n",
    "\n",
    "    # 3. Optimizer zero grad\n",
    "    optimizer.zero_grad()\n",
    "\n",
    "    # 4. Perform backpropagation on the loss with respect to the parameters of the model\n",
    "    loss.backward()\n",
    "\n",
    "    # 5. Step the optimizer (perform gradient descent)\n",
    "    optimizer.step()\n",
    "\n",
    "    # Testing\n",
    "    model_0.eval()  # turn off gradient tracking\n",
    "\n",
    "    with torch.inference_mode():\n",
    "        # 1. Forward pass\n",
    "        test_pred = model_0(X_test)\n",
    "\n",
    "        # 2. Calculate loss\n",
    "        test_loss = loss_fn(test_pred, y_test)\n",
    "\n",
    "    # print out what's happening\n",
    "    if epoch % 10 == 0:\n",
    "        epoch_count.append(epoch)\n",
    "        train_loss_values.append(loss)\n",
    "        test_loss_values.append(test_loss)\n",
    "        print(f\"Epoch: {epoch} | Loss: {loss} | Test loss: {test_loss}\")\n",
    "        print(model_0.state_dict())"
   ],
   "id": "293f7092a8c78208",
   "outputs": [
    {
     "name": "stdout",
     "output_type": "stream",
     "text": [
      "Epoch: 0 | Loss: 0.31288138031959534 | Test loss: 0.48106518387794495\n",
      "OrderedDict({'weights': tensor([0.3406]), 'bias': tensor([0.1388])})\n",
      "Epoch: 10 | Loss: 0.1976713240146637 | Test loss: 0.3463551998138428\n",
      "OrderedDict({'weights': tensor([0.3796]), 'bias': tensor([0.2388])})\n",
      "Epoch: 20 | Loss: 0.08908725529909134 | Test loss: 0.21729660034179688\n",
      "OrderedDict({'weights': tensor([0.4184]), 'bias': tensor([0.3333])})\n",
      "Epoch: 30 | Loss: 0.053148526698350906 | Test loss: 0.14464017748832703\n",
      "OrderedDict({'weights': tensor([0.4512]), 'bias': tensor([0.3768])})\n",
      "Epoch: 40 | Loss: 0.04543796554207802 | Test loss: 0.11360953003168106\n",
      "OrderedDict({'weights': tensor([0.4748]), 'bias': tensor([0.3868])})\n",
      "Epoch: 50 | Loss: 0.04167863354086876 | Test loss: 0.09919948130846024\n",
      "OrderedDict({'weights': tensor([0.4938]), 'bias': tensor([0.3843])})\n",
      "Epoch: 60 | Loss: 0.03818932920694351 | Test loss: 0.08886633068323135\n",
      "OrderedDict({'weights': tensor([0.5116]), 'bias': tensor([0.3788])})\n",
      "Epoch: 70 | Loss: 0.03476089984178543 | Test loss: 0.0805937647819519\n",
      "OrderedDict({'weights': tensor([0.5288]), 'bias': tensor([0.3718])})\n",
      "Epoch: 80 | Loss: 0.03132382780313492 | Test loss: 0.07232122868299484\n",
      "OrderedDict({'weights': tensor([0.5459]), 'bias': tensor([0.3648])})\n",
      "Epoch: 90 | Loss: 0.02788739837706089 | Test loss: 0.06473556160926819\n",
      "OrderedDict({'weights': tensor([0.5629]), 'bias': tensor([0.3573])})\n",
      "Epoch: 100 | Loss: 0.024458957836031914 | Test loss: 0.05646304413676262\n",
      "OrderedDict({'weights': tensor([0.5800]), 'bias': tensor([0.3503])})\n",
      "Epoch: 110 | Loss: 0.021020207554101944 | Test loss: 0.04819049686193466\n",
      "OrderedDict({'weights': tensor([0.5972]), 'bias': tensor([0.3433])})\n",
      "Epoch: 120 | Loss: 0.01758546568453312 | Test loss: 0.04060482233762741\n",
      "OrderedDict({'weights': tensor([0.6141]), 'bias': tensor([0.3358])})\n",
      "Epoch: 130 | Loss: 0.014155393466353416 | Test loss: 0.03233227878808975\n",
      "OrderedDict({'weights': tensor([0.6313]), 'bias': tensor([0.3288])})\n",
      "Epoch: 140 | Loss: 0.010716589167714119 | Test loss: 0.024059748277068138\n",
      "OrderedDict({'weights': tensor([0.6485]), 'bias': tensor([0.3218])})\n",
      "Epoch: 150 | Loss: 0.0072835334576666355 | Test loss: 0.016474086791276932\n",
      "OrderedDict({'weights': tensor([0.6654]), 'bias': tensor([0.3143])})\n",
      "Epoch: 160 | Loss: 0.0038517764769494534 | Test loss: 0.008201557211577892\n",
      "OrderedDict({'weights': tensor([0.6826]), 'bias': tensor([0.3073])})\n",
      "Epoch: 170 | Loss: 0.008932482451200485 | Test loss: 0.005023092031478882\n",
      "OrderedDict({'weights': tensor([0.6951]), 'bias': tensor([0.2993])})\n",
      "Epoch: 180 | Loss: 0.008932482451200485 | Test loss: 0.005023092031478882\n",
      "OrderedDict({'weights': tensor([0.6951]), 'bias': tensor([0.2993])})\n",
      "Epoch: 190 | Loss: 0.008932482451200485 | Test loss: 0.005023092031478882\n",
      "OrderedDict({'weights': tensor([0.6951]), 'bias': tensor([0.2993])})\n"
     ]
    }
   ],
   "execution_count": 117
  },
  {
   "metadata": {
    "ExecuteTime": {
     "end_time": "2025-05-14T19:11:50.299901Z",
     "start_time": "2025-05-14T19:11:50.297284Z"
    }
   },
   "cell_type": "code",
   "source": "import numpy as np",
   "id": "efad77be0766e268",
   "outputs": [],
   "execution_count": 118
  },
  {
   "metadata": {
    "ExecuteTime": {
     "end_time": "2025-05-14T19:11:50.436907Z",
     "start_time": "2025-05-14T19:11:50.325093Z"
    }
   },
   "cell_type": "code",
   "source": [
    "plt.plot(epoch_count, np.array(torch.tensor(train_loss_values).numpy()), label=\"Training Loss\")\n",
    "plt.plot(epoch_count, test_loss_values, label=\"Test Loss\")\n",
    "plt.title(\"Training Loss and Test Loss\")\n",
    "plt.ylabel(\"Loss\")\n",
    "plt.xlabel(\"Epoch\")\n",
    "plt.legend()"
   ],
   "id": "681197225b0f695e",
   "outputs": [
    {
     "data": {
      "text/plain": [
       "<matplotlib.legend.Legend at 0x1da8ebb44a0>"
      ]
     },
     "execution_count": 119,
     "metadata": {},
     "output_type": "execute_result"
    },
    {
     "data": {
      "text/plain": [
       "<Figure size 640x480 with 1 Axes>"
      ],
      "image/png": "[encoded data removed]"
     },
     "metadata": {},
     "output_type": "display_data"
    }
   ],
   "execution_count": 119
  },
  {
   "metadata": {},
   "cell_type": "markdown",
   "source": "## Saving a model",
   "id": "93d185bf48144663"
  },
  {
   "metadata": {
    "ExecuteTime": {
     "end_time": "2025-05-14T19:11:50.473078Z",
     "start_time": "2025-05-14T19:11:50.468424Z"
    }
   },
   "cell_type": "code",
   "source": [
    "from pathlib import Path\n",
    "\n",
    "# 1. Create dir\n",
    "MODEL_PATH = Path(\"models\")\n",
    "MODEL_PATH.mkdir(parents=True, exist_ok=True)\n",
    "\n",
    "# 2. Create model save path\n",
    "MODEL_NAME = \"01_pytorch_workflow_model_0.pth\"\n",
    "MODEL_SAVE_PATH = MODEL_PATH / MODEL_NAME\n",
    "\n",
    "# 3. Save model state dict\n",
    "print(f\"Saving model to {MODEL_SAVE_PATH}\")\n",
    "torch.save(model_0.state_dict(), MODEL_SAVE_PATH)"
   ],
   "id": "cdca541d2a374997",
   "outputs": [
    {
     "name": "stdout",
     "output_type": "stream",
     "text": [
      "Saving model to models\\01_pytorch_workflow_model_0.pth\n"
     ]
    }
   ],
   "execution_count": 120
  },
  {
   "metadata": {},
   "cell_type": "markdown",
   "source": "## Loading a model",
   "id": "38a059aeae184c44"
  },
  {
   "metadata": {
    "ExecuteTime": {
     "end_time": "2025-05-14T19:11:50.505531Z",
     "start_time": "2025-05-14T19:11:50.500532Z"
    }
   },
   "cell_type": "code",
   "source": "model_0.state_dict()",
   "id": "f6149094f87f8080",
   "outputs": [
    {
     "data": {
      "text/plain": [
       "OrderedDict([('weights', tensor([0.6990])), ('bias', tensor([0.3093]))])"
      ]
     },
     "execution_count": 121,
     "metadata": {},
     "output_type": "execute_result"
    }
   ],
   "execution_count": 121
  },
  {
   "metadata": {
    "ExecuteTime": {
     "end_time": "2025-05-14T19:11:50.550012Z",
     "start_time": "2025-05-14T19:11:50.544886Z"
    }
   },
   "cell_type": "code",
   "source": [
    "# we will load only the state dict -> new instance of our class\n",
    "loaded_model_0 = LinearRegressionModel()\n",
    "loaded_model_0.load_state_dict(torch.load(MODEL_SAVE_PATH))"
   ],
   "id": "b032d20aefb9aebe",
   "outputs": [
    {
     "data": {
      "text/plain": [
       "<All keys matched successfully>"
      ]
     },
     "execution_count": 122,
     "metadata": {},
     "output_type": "execute_result"
    }
   ],
   "execution_count": 122
  },
  {
   "metadata": {
    "ExecuteTime": {
     "end_time": "2025-05-14T19:11:50.589878Z",
     "start_time": "2025-05-14T19:11:50.584952Z"
    }
   },
   "cell_type": "code",
   "source": "loaded_model_0.state_dict()",
   "id": "b48c85b05d7381c8",
   "outputs": [
    {
     "data": {
      "text/plain": [
       "OrderedDict([('weights', tensor([0.6990])), ('bias', tensor([0.3093]))])"
      ]
     },
     "execution_count": 123,
     "metadata": {},
     "output_type": "execute_result"
    }
   ],
   "execution_count": 123
  },
  {
   "metadata": {
    "ExecuteTime": {
     "end_time": "2025-05-14T19:11:50.629064Z",
     "start_time": "2025-05-14T19:11:50.624213Z"
    }
   },
   "cell_type": "code",
   "source": [
    "loaded_model_0.eval()\n",
    "with torch.inference_mode():\n",
    "    loaded_model_0_preds = loaded_model_0(X_test)\n",
    "loaded_model_0_preds"
   ],
   "id": "e8a4b03808d3831d",
   "outputs": [
    {
     "data": {
      "text/plain": [
       "tensor([[0.8685],\n",
       "        [0.8825],\n",
       "        [0.8965],\n",
       "        [0.9105],\n",
       "        [0.9245],\n",
       "        [0.9384],\n",
       "        [0.9524],\n",
       "        [0.9664],\n",
       "        [0.9804],\n",
       "        [0.9944]])"
      ]
     },
     "execution_count": 124,
     "metadata": {},
     "output_type": "execute_result"
    }
   ],
   "execution_count": 124
  },
  {
   "metadata": {
    "ExecuteTime": {
     "end_time": "2025-05-14T19:11:50.697930Z",
     "start_time": "2025-05-14T19:11:50.693170Z"
    }
   },
   "cell_type": "code",
   "source": [
    "model_0.eval()\n",
    "with torch.inference_mode():\n",
    "    y_preds = model_0(X_test)\n",
    "y_preds"
   ],
   "id": "4ceaf8225005cc1b",
   "outputs": [
    {
     "data": {
      "text/plain": [
       "tensor([[0.8685],\n",
       "        [0.8825],\n",
       "        [0.8965],\n",
       "        [0.9105],\n",
       "        [0.9245],\n",
       "        [0.9384],\n",
       "        [0.9524],\n",
       "        [0.9664],\n",
       "        [0.9804],\n",
       "        [0.9944]])"
      ]
     },
     "execution_count": 125,
     "metadata": {},
     "output_type": "execute_result"
    }
   ],
   "execution_count": 125
  },
  {
   "metadata": {
    "ExecuteTime": {
     "end_time": "2025-05-14T19:11:50.820293Z",
     "start_time": "2025-05-14T19:11:50.815716Z"
    }
   },
   "cell_type": "code",
   "source": "loaded_model_0_preds == y_preds",
   "id": "a896f26d65e7be4f",
   "outputs": [
    {
     "data": {
      "text/plain": [
       "tensor([[True],\n",
       "        [True],\n",
       "        [True],\n",
       "        [True],\n",
       "        [True],\n",
       "        [True],\n",
       "        [True],\n",
       "        [True],\n",
       "        [True],\n",
       "        [True]])"
      ]
     },
     "execution_count": 126,
     "metadata": {},
     "output_type": "execute_result"
    }
   ],
   "execution_count": 126
  },
  {
   "metadata": {},
   "cell_type": "markdown",
   "source": "# Putting it all together",
   "id": "c783fad4eaaddc33"
  },
  {
   "metadata": {
    "ExecuteTime": {
     "end_time": "2025-05-14T19:11:50.929433Z",
     "start_time": "2025-05-14T19:11:50.926074Z"
    }
   },
   "cell_type": "code",
   "source": [
    "import torch\n",
    "from torch import nn\n",
    "import matplotlib.pyplot as plt\n",
    "\n",
    "print(f\"Using torch version {torch.__version__}\")"
   ],
   "id": "2275f7d9bd5635cc",
   "outputs": [
    {
     "name": "stdout",
     "output_type": "stream",
     "text": [
      "Using torch version 2.7.0+cpu\n"
     ]
    }
   ],
   "execution_count": 127
  },
  {
   "metadata": {
    "ExecuteTime": {
     "end_time": "2025-05-14T19:11:51.007674Z",
     "start_time": "2025-05-14T19:11:51.004055Z"
    }
   },
   "cell_type": "code",
   "source": [
    "device = \"cuda\" if torch.cuda.is_available() else \"cpu\"\n",
    "print(f\"Using {device} as device\")"
   ],
   "id": "40ef3016a1ee8965",
   "outputs": [
    {
     "name": "stdout",
     "output_type": "stream",
     "text": [
      "Using cpu as device\n"
     ]
    }
   ],
   "execution_count": 128
  },
  {
   "metadata": {
    "ExecuteTime": {
     "end_time": "2025-05-14T19:11:51.073346Z",
     "start_time": "2025-05-14T19:11:51.066673Z"
    }
   },
   "cell_type": "code",
   "source": [
    "# Creating some data using linear regression formula y = weight * X + bias\n",
    "weight = 0.7\n",
    "bias = 0.3\n",
    "\n",
    "start = 0\n",
    "end = 1\n",
    "step = 0.02\n",
    "\n",
    "X = torch.arange(start, end, step).unsqueeze(1)\n",
    "y = weight * X + bias\n",
    "X[:10], y[:10]"
   ],
   "id": "7827578adb28a114",
   "outputs": [
    {
     "data": {
      "text/plain": [
       "(tensor([[0.0000],\n",
       "         [0.0200],\n",
       "         [0.0400],\n",
       "         [0.0600],\n",
       "         [0.0800],\n",
       "         [0.1000],\n",
       "         [0.1200],\n",
       "         [0.1400],\n",
       "         [0.1600],\n",
       "         [0.1800]]),\n",
       " tensor([[0.3000],\n",
       "         [0.3140],\n",
       "         [0.3280],\n",
       "         [0.3420],\n",
       "         [0.3560],\n",
       "         [0.3700],\n",
       "         [0.3840],\n",
       "         [0.3980],\n",
       "         [0.4120],\n",
       "         [0.4260]]))"
      ]
     },
     "execution_count": 129,
     "metadata": {},
     "output_type": "execute_result"
    }
   ],
   "execution_count": 129
  },
  {
   "metadata": {
    "ExecuteTime": {
     "end_time": "2025-05-14T19:11:51.107286Z",
     "start_time": "2025-05-14T19:11:51.102570Z"
    }
   },
   "cell_type": "code",
   "source": [
    "# Split data\n",
    "train_split = int(0.8 * len(X))\n",
    "X_train, y_train = X[:train_split], y[:train_split]\n",
    "X_test, y_test = X[train_split:], y[train_split:]\n",
    "len(X_train), len(y_train), len(X_test), len(y_test)"
   ],
   "id": "dc78aed0d08f822c",
   "outputs": [
    {
     "data": {
      "text/plain": [
       "(40, 40, 10, 10)"
      ]
     },
     "execution_count": 130,
     "metadata": {},
     "output_type": "execute_result"
    }
   ],
   "execution_count": 130
  },
  {
   "metadata": {
    "ExecuteTime": {
     "end_time": "2025-05-14T19:11:51.284343Z",
     "start_time": "2025-05-14T19:11:51.156345Z"
    }
   },
   "cell_type": "code",
   "source": [
    "# Plot data\n",
    "plot_predictions(X_train, y_train, X_test, y_test)"
   ],
   "id": "2a18184e31ffb43",
   "outputs": [
    {
     "data": {
      "text/plain": [
       "<Figure size 1000x700 with 1 Axes>"
      ],
      "image/png": "[encoded data removed]"
     },
     "metadata": {},
     "output_type": "display_data"
    }
   ],
   "execution_count": 131
  },
  {
   "metadata": {},
   "cell_type": "markdown",
   "source": "## Creating model",
   "id": "d6307c2adb1b5d55"
  },
  {
   "metadata": {
    "ExecuteTime": {
     "end_time": "2025-05-14T19:11:51.316629Z",
     "start_time": "2025-05-14T19:11:51.307627Z"
    }
   },
   "cell_type": "code",
   "source": [
    "# Create a linear model by subclassing nn.Module\n",
    "class LinearRegressionModelV2(nn.Module):\n",
    "    def __init__(self):\n",
    "        super().__init__()\n",
    "        # Use nn.Linear() for creating model parameters\n",
    "        self.linear_layer = nn.Linear(in_features=1, out_features=1)\n",
    "\n",
    "    def forward(self, x: torch.Tensor) -> torch.Tensor:\n",
    "        return self.linear_layer(x)\n",
    "\n",
    "\n",
    "# Set manual seed\n",
    "torch.manual_seed(42)\n",
    "model_1 = LinearRegressionModelV2()\n",
    "model_1, model_1.state_dict()"
   ],
   "id": "38841a9d7cf1bff2",
   "outputs": [
    {
     "data": {
      "text/plain": [
       "(LinearRegressionModelV2(\n",
       "   (linear_layer): Linear(in_features=1, out_features=1, bias=True)\n",
       " ),\n",
       " OrderedDict([('linear_layer.weight', tensor([[0.7645]])),\n",
       "              ('linear_layer.bias', tensor([0.8300]))]))"
      ]
     },
     "execution_count": 132,
     "metadata": {},
     "output_type": "execute_result"
    }
   ],
   "execution_count": 132
  },
  {
   "metadata": {},
   "cell_type": "markdown",
   "source": "## Training",
   "id": "a30d2d6ac4b8534e"
  },
  {
   "metadata": {
    "ExecuteTime": {
     "end_time": "2025-05-14T19:11:51.345543Z",
     "start_time": "2025-05-14T19:11:51.342543Z"
    }
   },
   "cell_type": "code",
   "source": [
    "# Loss function + optimizer\n",
    "loss_fn = nn.L1Loss()\n",
    "optimizer = torch.optim.SGD(lr=0.01, params=model_1.parameters())"
   ],
   "id": "da2640fbb25a9fc5",
   "outputs": [],
   "execution_count": 133
  },
  {
   "metadata": {
    "ExecuteTime": {
     "end_time": "2025-05-14T19:14:38.065579Z",
     "start_time": "2025-05-14T19:14:37.989540Z"
    }
   },
   "cell_type": "code",
   "source": [
    "torch.manual_seed(42)\n",
    "\n",
    "epochs = 200\n",
    "\n",
    "for epoch in range(epochs):\n",
    "    model_1.train()\n",
    "\n",
    "    y_pred = model_1(X_train)\n",
    "\n",
    "    loss = loss_fn(y_pred, y_train)\n",
    "\n",
    "    optimizer.zero_grad()\n",
    "\n",
    "    loss.backward()\n",
    "\n",
    "    optimizer.step()\n",
    "\n",
    "    # TESTING\n",
    "    model_1.eval()\n",
    "    with torch.inference_mode():\n",
    "        test_pred = model_1(X_test)\n",
    "        test_loss = loss_fn(test_pred, y_test)\n",
    "\n",
    "    if epoch % 10 == 0:\n",
    "        print(f\"Epoch: {epoch} | Loss: {loss} | Test loss: {test_loss}\")"
   ],
   "id": "431b1e718c1a6bb6",
   "outputs": [
    {
     "name": "stdout",
     "output_type": "stream",
     "text": [
      "Epoch: 0 | Loss: 0.010256484150886536 | Test loss: 0.0003308236482553184\n",
      "Epoch: 10 | Loss: 0.010256484150886536 | Test loss: 0.0003308236482553184\n",
      "Epoch: 20 | Loss: 0.010256484150886536 | Test loss: 0.0003308236482553184\n",
      "Epoch: 30 | Loss: 0.010256484150886536 | Test loss: 0.0003308236482553184\n",
      "Epoch: 40 | Loss: 0.010256484150886536 | Test loss: 0.0003308236482553184\n",
      "Epoch: 50 | Loss: 0.010256484150886536 | Test loss: 0.0003308236482553184\n",
      "Epoch: 60 | Loss: 0.010256484150886536 | Test loss: 0.0003308236482553184\n",
      "Epoch: 70 | Loss: 0.010256484150886536 | Test loss: 0.0003308236482553184\n",
      "Epoch: 80 | Loss: 0.010256484150886536 | Test loss: 0.0003308236482553184\n",
      "Epoch: 90 | Loss: 0.010256484150886536 | Test loss: 0.0003308236482553184\n",
      "Epoch: 100 | Loss: 0.010256484150886536 | Test loss: 0.0003308236482553184\n",
      "Epoch: 110 | Loss: 0.010256484150886536 | Test loss: 0.0003308236482553184\n",
      "Epoch: 120 | Loss: 0.010256484150886536 | Test loss: 0.0003308236482553184\n",
      "Epoch: 130 | Loss: 0.010256484150886536 | Test loss: 0.0003308236482553184\n",
      "Epoch: 140 | Loss: 0.010256484150886536 | Test loss: 0.0003308236482553184\n",
      "Epoch: 150 | Loss: 0.010256484150886536 | Test loss: 0.0003308236482553184\n",
      "Epoch: 160 | Loss: 0.010256484150886536 | Test loss: 0.0003308236482553184\n",
      "Epoch: 170 | Loss: 0.010256484150886536 | Test loss: 0.0003308236482553184\n",
      "Epoch: 180 | Loss: 0.010256484150886536 | Test loss: 0.0003308236482553184\n",
      "Epoch: 190 | Loss: 0.010256484150886536 | Test loss: 0.0003308236482553184\n"
     ]
    }
   ],
   "execution_count": 140
  },
  {
   "metadata": {},
   "cell_type": "markdown",
   "source": "## Plotting",
   "id": "bc71cd885d79ad2f"
  },
  {
   "metadata": {
    "ExecuteTime": {
     "end_time": "2025-05-14T19:14:38.477130Z",
     "start_time": "2025-05-14T19:14:38.472524Z"
    }
   },
   "cell_type": "code",
   "source": "model_1.state_dict()",
   "id": "4858acf9e9b45023",
   "outputs": [
    {
     "data": {
      "text/plain": [
       "OrderedDict([('linear_layer.weight', tensor([[0.6929]])),\n",
       "             ('linear_layer.bias', tensor([0.2925]))])"
      ]
     },
     "execution_count": 141,
     "metadata": {},
     "output_type": "execute_result"
    }
   ],
   "execution_count": 141
  },
  {
   "metadata": {
    "ExecuteTime": {
     "end_time": "2025-05-14T19:14:39.090032Z",
     "start_time": "2025-05-14T19:14:38.949422Z"
    }
   },
   "cell_type": "code",
   "source": [
    "model_1.eval()\n",
    "with torch.inference_mode():\n",
    "    y_pred = model_1(X_test)\n",
    "plot_predictions(predictions=y_pred)"
   ],
   "id": "49b87f2968aca50",
   "outputs": [
    {
     "data": {
      "text/plain": [
       "<Figure size 1000x700 with 1 Axes>"
      ],
      "image/png": "[encoded data removed]"
     },
     "metadata": {},
     "output_type": "display_data"
    }
   ],
   "execution_count": 142
  },
  {
   "metadata": {},
   "cell_type": "markdown",
   "source": "## Saving",
   "id": "19de3d95359036ba"
  },
  {
   "metadata": {
    "ExecuteTime": {
     "end_time": "2025-05-14T19:19:03.433605Z",
     "start_time": "2025-05-14T19:19:03.428711Z"
    }
   },
   "cell_type": "code",
   "source": [
    "from pathlib import Path\n",
    "\n",
    "MODEL_PATH = Path(\"models\")\n",
    "MODEL_PATH.mkdir(parents=True, exist_ok=True)\n",
    "\n",
    "MODEL_NAME = \"01_pytorch_workflow_model_1.pth\"\n",
    "\n",
    "MODEL_SAVE_PATH = MODEL_PATH / MODEL_NAME\n",
    "print(f\"Saving model to {MODEL_SAVE_PATH}\")\n",
    "\n",
    "torch.save(model_1.state_dict(), MODEL_SAVE_PATH)"
   ],
   "id": "e3cbf4c2629b0b83",
   "outputs": [
    {
     "name": "stdout",
     "output_type": "stream",
     "text": [
      "Saving model to models\\01_pytorch_workflow_model_1.pth\n"
     ]
    }
   ],
   "execution_count": 146
  },
  {
   "metadata": {},
   "cell_type": "markdown",
   "source": "## Loading",
   "id": "6e941d688c749485"
  },
  {
   "metadata": {
    "ExecuteTime": {
     "end_time": "2025-05-14T19:23:03.315885Z",
     "start_time": "2025-05-14T19:23:03.308887Z"
    }
   },
   "cell_type": "code",
   "source": [
    "loaded_model_1 = LinearRegressionModelV2()\n",
    "loaded_model_1.load_state_dict(torch.load(MODEL_SAVE_PATH))\n",
    "loaded_model_1.state_dict()"
   ],
   "id": "15f05db267133feb",
   "outputs": [
    {
     "data": {
      "text/plain": [
       "OrderedDict([('linear_layer.weight', tensor([[0.6929]])),\n",
       "             ('linear_layer.bias', tensor([0.2925]))])"
      ]
     },
     "execution_count": 151,
     "metadata": {},
     "output_type": "execute_result"
    }
   ],
   "execution_count": 151
  },
  {
   "metadata": {},
   "cell_type": "markdown",
   "source": "## Eval loaded model",
   "id": "2ac1ac2a48092de8"
  },
  {
   "metadata": {
    "ExecuteTime": {
     "end_time": "2025-05-14T19:24:51.766209Z",
     "start_time": "2025-05-14T19:24:51.762184Z"
    }
   },
   "cell_type": "code",
   "source": [
    "## loaded model eval\n",
    "loaded_model_1.eval()\n",
    "with torch.inference_mode():\n",
    "    loaded_model_1_preds = loaded_model_1(X_test)\n",
    "\n",
    "## original model eval\n",
    "model_1.eval()\n",
    "with torch.inference_mode():\n",
    "    y_pred = model_1(X_test)\n",
    "\n",
    "## output the same?\n",
    "y_pred == loaded_model_1_preds"
   ],
   "id": "55c65e38cf1f034",
   "outputs": [
    {
     "data": {
      "text/plain": [
       "tensor([[True],\n",
       "        [True],\n",
       "        [True],\n",
       "        [True],\n",
       "        [True],\n",
       "        [True],\n",
       "        [True],\n",
       "        [True],\n",
       "        [True],\n",
       "        [True]])"
      ]
     },
     "execution_count": 153,
     "metadata": {},
     "output_type": "execute_result"
    }
   ],
   "execution_count": 153
  },
  {
   "metadata": {},
   "cell_type": "code",
   "outputs": [],
   "execution_count": null,
   "source": "",
   "id": "605c67e595c19f1e"
  }
 ],
 "metadata": {
  "kernelspec": {
   "display_name": "Python 3",
   "language": "python",
   "name": "python3"
  },
  "language_info": {
   "codemirror_mode": {
    "name": "ipython",
    "version": 2
   },
   "file_extension": ".py",
   "mimetype": "text/x-python",
   "name": "python",
   "nbconvert_exporter": "python",
   "pygments_lexer": "ipython2",
   "version": "2.7.6"
  }
 },
 "nbformat": 4,
 "nbformat_minor": 5
}
