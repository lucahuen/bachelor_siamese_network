{
 "cells": [
  {
   "metadata": {},
   "cell_type": "markdown",
   "source": "# CNN",
   "id": "94e2b62bcaf5b9f"
  },
  {
   "metadata": {
    "ExecuteTime": {
     "end_time": "2025-05-20T05:56:25.951949Z",
     "start_time": "2025-05-20T05:56:20.284965Z"
    }
   },
   "cell_type": "code",
   "source": [
    "import torch\n",
    "import torchmetrics\n",
    "from ipykernel.kernelapp import kernel_flags\n",
    "from notebook.app import launch_new_instance\n",
    "from torch import nn, manual_seed, inference_mode\n",
    "\n",
    "import torchvision\n",
    "from torch.nn import CrossEntropyLoss\n",
    "from torch.utils.data import DataLoader\n",
    "from torchmetrics.functional import confusion_matrix\n",
    "from torchvision import datasets, transforms\n",
    "from torchvision.datasets import FashionMNIST\n",
    "from torchvision.transforms import ToTensor\n",
    "\n",
    "import matplotlib.pyplot as plt\n",
    "\n",
    "from pytorch_workflow import MODEL_SAVE_PATH\n",
    "\n",
    "print(f\"torch: {torch.__version__} | torchvision: {torchvision.__version__}\")"
   ],
   "id": "477491107b9ec91b",
   "outputs": [
    {
     "name": "stdout",
     "output_type": "stream",
     "text": [
      "torch: 2.7.0+cpu | torchvision: 0.22.0+cpu\n"
     ]
    }
   ],
   "execution_count": 2
  },
  {
   "metadata": {},
   "cell_type": "markdown",
   "source": "## getting a dataset",
   "id": "d7a6a23092bb9155"
  },
  {
   "metadata": {
    "ExecuteTime": {
     "end_time": "2025-05-20T05:56:26.062309Z",
     "start_time": "2025-05-20T05:56:26.003261Z"
    }
   },
   "cell_type": "code",
   "source": [
    "# setup training data\n",
    "train_data = datasets.FashionMNIST(\n",
    "    root=\"data\",\n",
    "    train=True,\n",
    "    download=True,\n",
    "    transform=ToTensor(),\n",
    "    target_transform=None\n",
    ")\n",
    "\n",
    "test_data = datasets.FashionMNIST(\n",
    "    root=\"data\",\n",
    "    train=False,\n",
    "    download=True,\n",
    "    transform=ToTensor(),\n",
    "    target_transform=None\n",
    ")"
   ],
   "id": "f536f591c82974f8",
   "outputs": [],
   "execution_count": 3
  },
  {
   "metadata": {
    "ExecuteTime": {
     "end_time": "2025-05-20T05:56:26.080388Z",
     "start_time": "2025-05-20T05:56:26.075417Z"
    }
   },
   "cell_type": "code",
   "source": "print(f\"training examples: {len(train_data)} | test examples: {len(test_data)}\")",
   "id": "2b7546e3442b83c9",
   "outputs": [
    {
     "name": "stdout",
     "output_type": "stream",
     "text": [
      "training examples: 60000 | test examples: 10000\n"
     ]
    }
   ],
   "execution_count": 4
  },
  {
   "metadata": {
    "ExecuteTime": {
     "end_time": "2025-05-20T05:56:26.152717Z",
     "start_time": "2025-05-20T05:56:26.138483Z"
    }
   },
   "cell_type": "code",
   "source": [
    "image, label = train_data[0]\n",
    "image, label"
   ],
   "id": "18d7617fa2287076",
   "outputs": [
    {
     "data": {
      "text/plain": [
       "(tensor([[[0.0000, 0.0000, 0.0000, 0.0000, 0.0000, 0.0000, 0.0000, 0.0000,\n",
       "           0.0000, 0.0000, 0.0000, 0.0000, 0.0000, 0.0000, 0.0000, 0.0000,\n",
       "           0.0000, 0.0000, 0.0000, 0.0000, 0.0000, 0.0000, 0.0000, 0.0000,\n",
       "           0.0000, 0.0000, 0.0000, 0.0000],\n",
       "          [0.0000, 0.0000, 0.0000, 0.0000, 0.0000, 0.0000, 0.0000, 0.0000,\n",
       "           0.0000, 0.0000, 0.0000, 0.0000, 0.0000, 0.0000, 0.0000, 0.0000,\n",
       "           0.0000, 0.0000, 0.0000, 0.0000, 0.0000, 0.0000, 0.0000, 0.0000,\n",
       "           0.0000, 0.0000, 0.0000, 0.0000],\n",
       "          [0.0000, 0.0000, 0.0000, 0.0000, 0.0000, 0.0000, 0.0000, 0.0000,\n",
       "           0.0000, 0.0000, 0.0000, 0.0000, 0.0000, 0.0000, 0.0000, 0.0000,\n",
       "           0.0000, 0.0000, 0.0000, 0.0000, 0.0000, 0.0000, 0.0000, 0.0000,\n",
       "           0.0000, 0.0000, 0.0000, 0.0000],\n",
       "          [0.0000, 0.0000, 0.0000, 0.0000, 0.0000, 0.0000, 0.0000, 0.0000,\n",
       "           0.0000, 0.0000, 0.0000, 0.0000, 0.0039, 0.0000, 0.0000, 0.0510,\n",
       "           0.2863, 0.0000, 0.0000, 0.0039, 0.0157, 0.0000, 0.0000, 0.0000,\n",
       "           0.0000, 0.0039, 0.0039, 0.0000],\n",
       "          [0.0000, 0.0000, 0.0000, 0.0000, 0.0000, 0.0000, 0.0000, 0.0000,\n",
       "           0.0000, 0.0000, 0.0000, 0.0000, 0.0118, 0.0000, 0.1412, 0.5333,\n",
       "           0.4980, 0.2431, 0.2118, 0.0000, 0.0000, 0.0000, 0.0039, 0.0118,\n",
       "           0.0157, 0.0000, 0.0000, 0.0118],\n",
       "          [0.0000, 0.0000, 0.0000, 0.0000, 0.0000, 0.0000, 0.0000, 0.0000,\n",
       "           0.0000, 0.0000, 0.0000, 0.0000, 0.0235, 0.0000, 0.4000, 0.8000,\n",
       "           0.6902, 0.5255, 0.5647, 0.4824, 0.0902, 0.0000, 0.0000, 0.0000,\n",
       "           0.0000, 0.0471, 0.0392, 0.0000],\n",
       "          [0.0000, 0.0000, 0.0000, 0.0000, 0.0000, 0.0000, 0.0000, 0.0000,\n",
       "           0.0000, 0.0000, 0.0000, 0.0000, 0.0000, 0.0000, 0.6078, 0.9255,\n",
       "           0.8118, 0.6980, 0.4196, 0.6118, 0.6314, 0.4275, 0.2510, 0.0902,\n",
       "           0.3020, 0.5098, 0.2824, 0.0588],\n",
       "          [0.0000, 0.0000, 0.0000, 0.0000, 0.0000, 0.0000, 0.0000, 0.0000,\n",
       "           0.0000, 0.0000, 0.0000, 0.0039, 0.0000, 0.2706, 0.8118, 0.8745,\n",
       "           0.8549, 0.8471, 0.8471, 0.6392, 0.4980, 0.4745, 0.4784, 0.5725,\n",
       "           0.5529, 0.3451, 0.6745, 0.2588],\n",
       "          [0.0000, 0.0000, 0.0000, 0.0000, 0.0000, 0.0000, 0.0000, 0.0000,\n",
       "           0.0000, 0.0039, 0.0039, 0.0039, 0.0000, 0.7843, 0.9098, 0.9098,\n",
       "           0.9137, 0.8980, 0.8745, 0.8745, 0.8431, 0.8353, 0.6431, 0.4980,\n",
       "           0.4824, 0.7686, 0.8980, 0.0000],\n",
       "          [0.0000, 0.0000, 0.0000, 0.0000, 0.0000, 0.0000, 0.0000, 0.0000,\n",
       "           0.0000, 0.0000, 0.0000, 0.0000, 0.0000, 0.7176, 0.8824, 0.8471,\n",
       "           0.8745, 0.8941, 0.9216, 0.8902, 0.8784, 0.8706, 0.8784, 0.8667,\n",
       "           0.8745, 0.9608, 0.6784, 0.0000],\n",
       "          [0.0000, 0.0000, 0.0000, 0.0000, 0.0000, 0.0000, 0.0000, 0.0000,\n",
       "           0.0000, 0.0000, 0.0000, 0.0000, 0.0000, 0.7569, 0.8941, 0.8549,\n",
       "           0.8353, 0.7765, 0.7059, 0.8314, 0.8235, 0.8275, 0.8353, 0.8745,\n",
       "           0.8627, 0.9529, 0.7922, 0.0000],\n",
       "          [0.0000, 0.0000, 0.0000, 0.0000, 0.0000, 0.0000, 0.0000, 0.0000,\n",
       "           0.0000, 0.0039, 0.0118, 0.0000, 0.0471, 0.8588, 0.8627, 0.8314,\n",
       "           0.8549, 0.7529, 0.6627, 0.8902, 0.8157, 0.8549, 0.8784, 0.8314,\n",
       "           0.8863, 0.7725, 0.8196, 0.2039],\n",
       "          [0.0000, 0.0000, 0.0000, 0.0000, 0.0000, 0.0000, 0.0000, 0.0000,\n",
       "           0.0000, 0.0000, 0.0235, 0.0000, 0.3882, 0.9569, 0.8706, 0.8627,\n",
       "           0.8549, 0.7961, 0.7765, 0.8667, 0.8431, 0.8353, 0.8706, 0.8627,\n",
       "           0.9608, 0.4667, 0.6549, 0.2196],\n",
       "          [0.0000, 0.0000, 0.0000, 0.0000, 0.0000, 0.0000, 0.0000, 0.0000,\n",
       "           0.0000, 0.0157, 0.0000, 0.0000, 0.2157, 0.9255, 0.8941, 0.9020,\n",
       "           0.8941, 0.9412, 0.9098, 0.8353, 0.8549, 0.8745, 0.9176, 0.8510,\n",
       "           0.8510, 0.8196, 0.3608, 0.0000],\n",
       "          [0.0000, 0.0000, 0.0039, 0.0157, 0.0235, 0.0275, 0.0078, 0.0000,\n",
       "           0.0000, 0.0000, 0.0000, 0.0000, 0.9294, 0.8863, 0.8510, 0.8745,\n",
       "           0.8706, 0.8588, 0.8706, 0.8667, 0.8471, 0.8745, 0.8980, 0.8431,\n",
       "           0.8549, 1.0000, 0.3020, 0.0000],\n",
       "          [0.0000, 0.0118, 0.0000, 0.0000, 0.0000, 0.0000, 0.0000, 0.0000,\n",
       "           0.0000, 0.2431, 0.5686, 0.8000, 0.8941, 0.8118, 0.8353, 0.8667,\n",
       "           0.8549, 0.8157, 0.8275, 0.8549, 0.8784, 0.8745, 0.8588, 0.8431,\n",
       "           0.8784, 0.9569, 0.6235, 0.0000],\n",
       "          [0.0000, 0.0000, 0.0000, 0.0000, 0.0706, 0.1725, 0.3216, 0.4196,\n",
       "           0.7412, 0.8941, 0.8627, 0.8706, 0.8510, 0.8863, 0.7843, 0.8039,\n",
       "           0.8275, 0.9020, 0.8784, 0.9176, 0.6902, 0.7373, 0.9804, 0.9725,\n",
       "           0.9137, 0.9333, 0.8431, 0.0000],\n",
       "          [0.0000, 0.2235, 0.7333, 0.8157, 0.8784, 0.8667, 0.8784, 0.8157,\n",
       "           0.8000, 0.8392, 0.8157, 0.8196, 0.7843, 0.6235, 0.9608, 0.7569,\n",
       "           0.8078, 0.8745, 1.0000, 1.0000, 0.8667, 0.9176, 0.8667, 0.8275,\n",
       "           0.8627, 0.9098, 0.9647, 0.0000],\n",
       "          [0.0118, 0.7922, 0.8941, 0.8784, 0.8667, 0.8275, 0.8275, 0.8392,\n",
       "           0.8039, 0.8039, 0.8039, 0.8627, 0.9412, 0.3137, 0.5882, 1.0000,\n",
       "           0.8980, 0.8667, 0.7373, 0.6039, 0.7490, 0.8235, 0.8000, 0.8196,\n",
       "           0.8706, 0.8941, 0.8824, 0.0000],\n",
       "          [0.3843, 0.9137, 0.7765, 0.8235, 0.8706, 0.8980, 0.8980, 0.9176,\n",
       "           0.9765, 0.8627, 0.7608, 0.8431, 0.8510, 0.9451, 0.2549, 0.2863,\n",
       "           0.4157, 0.4588, 0.6588, 0.8588, 0.8667, 0.8431, 0.8510, 0.8745,\n",
       "           0.8745, 0.8784, 0.8980, 0.1137],\n",
       "          [0.2941, 0.8000, 0.8314, 0.8000, 0.7569, 0.8039, 0.8275, 0.8824,\n",
       "           0.8471, 0.7255, 0.7725, 0.8078, 0.7765, 0.8353, 0.9412, 0.7647,\n",
       "           0.8902, 0.9608, 0.9373, 0.8745, 0.8549, 0.8314, 0.8196, 0.8706,\n",
       "           0.8627, 0.8667, 0.9020, 0.2627],\n",
       "          [0.1882, 0.7961, 0.7176, 0.7608, 0.8353, 0.7725, 0.7255, 0.7451,\n",
       "           0.7608, 0.7529, 0.7922, 0.8392, 0.8588, 0.8667, 0.8627, 0.9255,\n",
       "           0.8824, 0.8471, 0.7804, 0.8078, 0.7294, 0.7098, 0.6941, 0.6745,\n",
       "           0.7098, 0.8039, 0.8078, 0.4510],\n",
       "          [0.0000, 0.4784, 0.8588, 0.7569, 0.7020, 0.6706, 0.7176, 0.7686,\n",
       "           0.8000, 0.8235, 0.8353, 0.8118, 0.8275, 0.8235, 0.7843, 0.7686,\n",
       "           0.7608, 0.7490, 0.7647, 0.7490, 0.7765, 0.7529, 0.6902, 0.6118,\n",
       "           0.6549, 0.6941, 0.8235, 0.3608],\n",
       "          [0.0000, 0.0000, 0.2902, 0.7412, 0.8314, 0.7490, 0.6863, 0.6745,\n",
       "           0.6863, 0.7098, 0.7255, 0.7373, 0.7412, 0.7373, 0.7569, 0.7765,\n",
       "           0.8000, 0.8196, 0.8235, 0.8235, 0.8275, 0.7373, 0.7373, 0.7608,\n",
       "           0.7529, 0.8471, 0.6667, 0.0000],\n",
       "          [0.0078, 0.0000, 0.0000, 0.0000, 0.2588, 0.7843, 0.8706, 0.9294,\n",
       "           0.9373, 0.9490, 0.9647, 0.9529, 0.9569, 0.8667, 0.8627, 0.7569,\n",
       "           0.7490, 0.7020, 0.7137, 0.7137, 0.7098, 0.6902, 0.6510, 0.6588,\n",
       "           0.3882, 0.2275, 0.0000, 0.0000],\n",
       "          [0.0000, 0.0000, 0.0000, 0.0000, 0.0000, 0.0000, 0.0000, 0.1569,\n",
       "           0.2392, 0.1725, 0.2824, 0.1608, 0.1373, 0.0000, 0.0000, 0.0000,\n",
       "           0.0000, 0.0000, 0.0000, 0.0000, 0.0000, 0.0000, 0.0000, 0.0000,\n",
       "           0.0000, 0.0000, 0.0000, 0.0000],\n",
       "          [0.0000, 0.0000, 0.0000, 0.0000, 0.0000, 0.0000, 0.0000, 0.0000,\n",
       "           0.0000, 0.0000, 0.0000, 0.0000, 0.0000, 0.0000, 0.0000, 0.0000,\n",
       "           0.0000, 0.0000, 0.0000, 0.0000, 0.0000, 0.0000, 0.0000, 0.0000,\n",
       "           0.0000, 0.0000, 0.0000, 0.0000],\n",
       "          [0.0000, 0.0000, 0.0000, 0.0000, 0.0000, 0.0000, 0.0000, 0.0000,\n",
       "           0.0000, 0.0000, 0.0000, 0.0000, 0.0000, 0.0000, 0.0000, 0.0000,\n",
       "           0.0000, 0.0000, 0.0000, 0.0000, 0.0000, 0.0000, 0.0000, 0.0000,\n",
       "           0.0000, 0.0000, 0.0000, 0.0000]]]),\n",
       " 9)"
      ]
     },
     "execution_count": 5,
     "metadata": {},
     "output_type": "execute_result"
    }
   ],
   "execution_count": 5
  },
  {
   "metadata": {
    "ExecuteTime": {
     "end_time": "2025-05-20T05:56:26.240595Z",
     "start_time": "2025-05-20T05:56:26.235840Z"
    }
   },
   "cell_type": "code",
   "source": [
    "class_names = train_data.classes\n",
    "class_names"
   ],
   "id": "9823e14e3c6433cb",
   "outputs": [
    {
     "data": {
      "text/plain": [
       "['T-shirt/top',\n",
       " 'Trouser',\n",
       " 'Pullover',\n",
       " 'Dress',\n",
       " 'Coat',\n",
       " 'Sandal',\n",
       " 'Shirt',\n",
       " 'Sneaker',\n",
       " 'Bag',\n",
       " 'Ankle boot']"
      ]
     },
     "execution_count": 6,
     "metadata": {},
     "output_type": "execute_result"
    }
   ],
   "execution_count": 6
  },
  {
   "metadata": {
    "ExecuteTime": {
     "end_time": "2025-05-20T05:56:26.308332Z",
     "start_time": "2025-05-20T05:56:26.304339Z"
    }
   },
   "cell_type": "code",
   "source": [
    "class_to_idx = train_data.class_to_idx\n",
    "class_to_idx"
   ],
   "id": "ce696e97c666067",
   "outputs": [
    {
     "data": {
      "text/plain": [
       "{'T-shirt/top': 0,\n",
       " 'Trouser': 1,\n",
       " 'Pullover': 2,\n",
       " 'Dress': 3,\n",
       " 'Coat': 4,\n",
       " 'Sandal': 5,\n",
       " 'Shirt': 6,\n",
       " 'Sneaker': 7,\n",
       " 'Bag': 8,\n",
       " 'Ankle boot': 9}"
      ]
     },
     "execution_count": 7,
     "metadata": {},
     "output_type": "execute_result"
    }
   ],
   "execution_count": 7
  },
  {
   "metadata": {
    "ExecuteTime": {
     "end_time": "2025-05-20T05:56:26.384483Z",
     "start_time": "2025-05-20T05:56:26.379563Z"
    }
   },
   "cell_type": "code",
   "source": [
    "print(f\"image shape: {image.shape} -> [color_channels, height, width]\")\n",
    "print(f\"image label: {class_names[label]}\")"
   ],
   "id": "83cc691a29fe3b6",
   "outputs": [
    {
     "name": "stdout",
     "output_type": "stream",
     "text": [
      "image shape: torch.Size([1, 28, 28]) -> [color_channels, height, width]\n",
      "image label: Ankle boot\n"
     ]
    }
   ],
   "execution_count": 8
  },
  {
   "metadata": {
    "ExecuteTime": {
     "end_time": "2025-05-20T05:56:26.513551Z",
     "start_time": "2025-05-20T05:56:26.433018Z"
    }
   },
   "cell_type": "code",
   "source": [
    "image, label = train_data[0]\n",
    "plt.imshow(image.squeeze(), cmap=\"gray\")\n",
    "plt.title(class_names[label])\n",
    "plt.axis(False)"
   ],
   "id": "85379e8dede5bc2e",
   "outputs": [
    {
     "data": {
      "text/plain": [
       "(np.float64(-0.5), np.float64(27.5), np.float64(27.5), np.float64(-0.5))"
      ]
     },
     "execution_count": 9,
     "metadata": {},
     "output_type": "execute_result"
    },
    {
     "data": {
      "text/plain": [
       "<Figure size 640x480 with 1 Axes>"
      ],
      "image/png": "[encoded data removed]"
     },
     "metadata": {},
     "output_type": "display_data"
    }
   ],
   "execution_count": 9
  },
  {
   "metadata": {
    "ExecuteTime": {
     "end_time": "2025-05-20T05:56:26.944795Z",
     "start_time": "2025-05-20T05:56:26.529986Z"
    }
   },
   "cell_type": "code",
   "source": [
    "torch.manual_seed(42)\n",
    "fig = plt.figure(figsize=(9, 9))\n",
    "rows, cols = 4, 4\n",
    "for i in range(1, rows * cols + 1):\n",
    "    random_idx = torch.randint(0, len(train_data), size=[1]).item()\n",
    "    img, label = train_data[random_idx]\n",
    "    fig.add_subplot(rows, cols, i)\n",
    "    plt.imshow(img.squeeze(), cmap=\"gray\")\n",
    "    plt.title(class_names[label])\n",
    "    plt.axis(False)"
   ],
   "id": "3bc43367f9fff351",
   "outputs": [
    {
     "data": {
      "text/plain": [
       "<Figure size 900x900 with 16 Axes>"
      ],
      "image/png": "[encoded data removed]"
     },
     "metadata": {},
     "output_type": "display_data"
    }
   ],
   "execution_count": 10
  },
  {
   "metadata": {},
   "cell_type": "markdown",
   "source": "## prepare dataloader",
   "id": "e0c6b64594c189d0"
  },
  {
   "metadata": {
    "ExecuteTime": {
     "end_time": "2025-05-20T05:56:26.971928Z",
     "start_time": "2025-05-20T05:56:26.966853Z"
    }
   },
   "cell_type": "code",
   "source": [
    "from torch.utils.data import DataLoader\n",
    "\n",
    "# hyperparam\n",
    "BATCH_SIZE = 32\n",
    "\n",
    "train_dataloader = DataLoader(\n",
    "    dataset=train_data,\n",
    "    batch_size=BATCH_SIZE,\n",
    "    shuffle=True\n",
    ")\n",
    "\n",
    "test_dataloader = DataLoader(\n",
    "    dataset=test_data,\n",
    "    batch_size=BATCH_SIZE,\n",
    "    shuffle=False\n",
    ")\n",
    "\n",
    "train_dataloader, test_dataloader"
   ],
   "id": "afbee0d9aa0fba65",
   "outputs": [
    {
     "data": {
      "text/plain": [
       "(<torch.utils.data.dataloader.DataLoader at 0x194477d37a0>,\n",
       " <torch.utils.data.dataloader.DataLoader at 0x1944763dbb0>)"
      ]
     },
     "execution_count": 11,
     "metadata": {},
     "output_type": "execute_result"
    }
   ],
   "execution_count": 11
  },
  {
   "metadata": {
    "ExecuteTime": {
     "end_time": "2025-05-20T05:56:27.028008Z",
     "start_time": "2025-05-20T05:56:27.021252Z"
    }
   },
   "cell_type": "code",
   "source": [
    "print(f\"Dataloaders: {train_dataloader, test_dataloader}\")\n",
    "print(f\"Length of train_dataloader: {len(train_dataloader)}, batches of: {BATCH_SIZE}\")\n",
    "print(f\"Length of test_dataloader: {len(test_dataloader)}, batches of: {BATCH_SIZE}\")"
   ],
   "id": "8a703a4061db9765",
   "outputs": [
    {
     "name": "stdout",
     "output_type": "stream",
     "text": [
      "Dataloaders: (<torch.utils.data.dataloader.DataLoader object at 0x00000194477D37A0>, <torch.utils.data.dataloader.DataLoader object at 0x000001944763DBB0>)\n",
      "Length of train_dataloader: 1875, batches of: 32\n",
      "Length of test_dataloader: 313, batches of: 32\n"
     ]
    }
   ],
   "execution_count": 12
  },
  {
   "metadata": {
    "ExecuteTime": {
     "end_time": "2025-05-20T05:56:27.113527Z",
     "start_time": "2025-05-20T05:56:27.099285Z"
    }
   },
   "cell_type": "code",
   "source": [
    "train_features_batch, train_labels_batch = next(iter(train_dataloader))\n",
    "train_features_batch.shape, train_labels_batch.shape"
   ],
   "id": "409c1d683474df92",
   "outputs": [
    {
     "data": {
      "text/plain": [
       "(torch.Size([32, 1, 28, 28]), torch.Size([32]))"
      ]
     },
     "execution_count": 13,
     "metadata": {},
     "output_type": "execute_result"
    }
   ],
   "execution_count": 13
  },
  {
   "metadata": {
    "ExecuteTime": {
     "end_time": "2025-05-20T05:56:27.263142Z",
     "start_time": "2025-05-20T05:56:27.185093Z"
    }
   },
   "cell_type": "code",
   "source": [
    "torch.manual_seed(42)\n",
    "random_idx = torch.randint(0, len(train_features_batch), size=[1]).item()\n",
    "img, label = train_features_batch[random_idx], train_labels_batch[random_idx]\n",
    "plt.imshow(img.squeeze(), cmap=\"gray\")\n",
    "plt.title(class_names[label])\n",
    "plt.axis(False)\n",
    "print(f\"img size: {img.shape}\")\n",
    "print(f\"label: {label}, label size: {label.shape}\")"
   ],
   "id": "3c7041a26bb26d0b",
   "outputs": [
    {
     "name": "stdout",
     "output_type": "stream",
     "text": [
      "img size: torch.Size([1, 28, 28])\n",
      "label: 6, label size: torch.Size([])\n"
     ]
    },
    {
     "data": {
      "text/plain": [
       "<Figure size 640x480 with 1 Axes>"
      ],
      "image/png": "[encoded data removed]"
     },
     "metadata": {},
     "output_type": "display_data"
    }
   ],
   "execution_count": 14
  },
  {
   "metadata": {},
   "cell_type": "markdown",
   "source": "## building a baseline model",
   "id": "e0556256cd7dd2ff"
  },
  {
   "metadata": {
    "ExecuteTime": {
     "end_time": "2025-05-20T05:56:27.306998Z",
     "start_time": "2025-05-20T05:56:27.299101Z"
    }
   },
   "cell_type": "code",
   "source": [
    "# create a flatten layer\n",
    "flatten_model = nn.Flatten()\n",
    "\n",
    "# get single sample\n",
    "x = train_features_batch[0]\n",
    "\n",
    "# flatten the sample\n",
    "output = flatten_model(x)  # perform forward pass\n",
    "\n",
    "print(f\"shape before: {x.shape}\")\n",
    "print(f\"shape after: {output.shape}\")\n",
    "print(f\"shape after squeezing: {output.squeeze().shape}\")"
   ],
   "id": "339ae7c0ce3d70f6",
   "outputs": [
    {
     "name": "stdout",
     "output_type": "stream",
     "text": [
      "shape before: torch.Size([1, 28, 28])\n",
      "shape after: torch.Size([1, 784])\n",
      "shape after squeezing: torch.Size([784])\n"
     ]
    }
   ],
   "execution_count": 15
  },
  {
   "metadata": {
    "ExecuteTime": {
     "end_time": "2025-05-20T05:56:27.381878Z",
     "start_time": "2025-05-20T05:56:27.377996Z"
    }
   },
   "cell_type": "code",
   "source": [
    "from torch import nn\n",
    "\n",
    "\n",
    "class FashionMNISTModelV0(nn.Module):\n",
    "    def __init__(self,\n",
    "                 input_shape: int,\n",
    "                 hidden_units: int,\n",
    "                 output_shape: int):\n",
    "        super().__init__()\n",
    "        self.layer_stack = nn.Sequential(\n",
    "            nn.Flatten(),\n",
    "            nn.Linear(in_features=input_shape, out_features=hidden_units),\n",
    "            nn.Linear(in_features=hidden_units, out_features=output_shape)\n",
    "        )\n",
    "\n",
    "    def forward(self, x):\n",
    "        return self.layer_stack(x)"
   ],
   "id": "7f856bbf68ed17b0",
   "outputs": [],
   "execution_count": 16
  },
  {
   "metadata": {
    "ExecuteTime": {
     "end_time": "2025-05-20T05:56:27.424616Z",
     "start_time": "2025-05-20T05:56:27.418120Z"
    }
   },
   "cell_type": "code",
   "source": [
    "torch.manual_seed(42)\n",
    "\n",
    "# setup model w/ input params\n",
    "model_0 = FashionMNISTModelV0(784, 10, len(class_names))  # 784 = output of flatten (28 * 28)\n",
    "model_0"
   ],
   "id": "a761497fb940de91",
   "outputs": [
    {
     "data": {
      "text/plain": [
       "FashionMNISTModelV0(\n",
       "  (layer_stack): Sequential(\n",
       "    (0): Flatten(start_dim=1, end_dim=-1)\n",
       "    (1): Linear(in_features=784, out_features=10, bias=True)\n",
       "    (2): Linear(in_features=10, out_features=10, bias=True)\n",
       "  )\n",
       ")"
      ]
     },
     "execution_count": 17,
     "metadata": {},
     "output_type": "execute_result"
    }
   ],
   "execution_count": 17
  },
  {
   "metadata": {
    "ExecuteTime": {
     "end_time": "2025-05-20T05:56:27.470940Z",
     "start_time": "2025-05-20T05:56:27.465308Z"
    }
   },
   "cell_type": "code",
   "source": [
    "dummy_x = torch.rand([1, 1, 28, 28])\n",
    "print(model_0(dummy_x))"
   ],
   "id": "8aa8a8b0ee7702cc",
   "outputs": [
    {
     "name": "stdout",
     "output_type": "stream",
     "text": [
      "tensor([[-0.0315,  0.3171,  0.0531, -0.2525,  0.5959,  0.2112,  0.3233,  0.2694,\n",
      "         -0.1004,  0.0157]], grad_fn=<AddmmBackward0>)\n"
     ]
    }
   ],
   "execution_count": 18
  },
  {
   "metadata": {},
   "cell_type": "markdown",
   "source": "## downloading helper funcs",
   "id": "b20d264b787a35d8"
  },
  {
   "metadata": {
    "ExecuteTime": {
     "end_time": "2025-05-20T05:56:27.543164Z",
     "start_time": "2025-05-20T05:56:27.538644Z"
    }
   },
   "cell_type": "code",
   "source": [
    "import requests\n",
    "from pathlib import Path\n",
    "\n",
    "# Download helper funcs\n",
    "if Path(\"helper_functions.py\").is_file():\n",
    "    print(\"helper_functions.py already exists, skipping download\")\n",
    "else:\n",
    "    print(\"downloading helper_funcitons.py\")\n",
    "    request = requests.get(\n",
    "        \"https://raw.githubusercontent.com/mrdbourke/pytorch-deep-learning/refs/heads/main/helper_functions.py\")\n",
    "    with open(\"helper_functions.py\", \"wb\") as f:\n",
    "        f.write(request.content)"
   ],
   "id": "2aa10ced06495f55",
   "outputs": [
    {
     "name": "stdout",
     "output_type": "stream",
     "text": [
      "helper_functions.py already exists, skipping download\n"
     ]
    }
   ],
   "execution_count": 19
  },
  {
   "metadata": {},
   "cell_type": "markdown",
   "source": "## loss and optim and eval-metrics",
   "id": "6163517f4eb77d61"
  },
  {
   "metadata": {
    "ExecuteTime": {
     "end_time": "2025-05-20T05:56:27.600213Z",
     "start_time": "2025-05-20T05:56:27.594419Z"
    }
   },
   "cell_type": "code",
   "source": [
    "from helper_functions import accuracy_fn\n",
    "\n",
    "loss_fn = nn.CrossEntropyLoss()\n",
    "optimizer = torch.optim.SGD(params=model_0.parameters(),\n",
    "                            lr=0.1)"
   ],
   "id": "1c24c3c088c80941",
   "outputs": [],
   "execution_count": 20
  },
  {
   "metadata": {},
   "cell_type": "markdown",
   "source": "## creating a function to time our experiments",
   "id": "fcf8981c8a275284"
  },
  {
   "metadata": {
    "ExecuteTime": {
     "end_time": "2025-05-20T05:56:27.645102Z",
     "start_time": "2025-05-20T05:56:27.641189Z"
    }
   },
   "cell_type": "code",
   "source": [
    "from timeit import default_timer as timer\n",
    "\n",
    "\n",
    "def print_train_time(start: float,\n",
    "                     end: float,\n",
    "                     device: torch.device = None):\n",
    "    \"\"\"prints difference btw start and end time\"\"\"\n",
    "    total_time = end - start\n",
    "    print(f\"Train time on {device}: {total_time:.3f} seconds\")\n",
    "    return total_time"
   ],
   "id": "cf3a2228db816e23",
   "outputs": [],
   "execution_count": 21
  },
  {
   "metadata": {
    "ExecuteTime": {
     "end_time": "2025-05-20T05:56:27.688292Z",
     "start_time": "2025-05-20T05:56:27.682778Z"
    }
   },
   "cell_type": "code",
   "source": [
    "start_time = timer()\n",
    "# some code...\n",
    "end_time = timer()\n",
    "print_train_time(start_time, end_time, device=\"cpu\")"
   ],
   "id": "9d5042582cc5c711",
   "outputs": [
    {
     "name": "stdout",
     "output_type": "stream",
     "text": [
      "Train time on cpu: 0.000 seconds\n"
     ]
    },
    {
     "data": {
      "text/plain": [
       "2.9199989512562752e-05"
      ]
     },
     "execution_count": 22,
     "metadata": {},
     "output_type": "execute_result"
    }
   ],
   "execution_count": 22
  },
  {
   "metadata": {},
   "cell_type": "markdown",
   "source": "## training loop on batches of data",
   "id": "b2ecdb56c568f721"
  },
  {
   "metadata": {
    "ExecuteTime": {
     "end_time": "2025-05-20T05:56:48.412373Z",
     "start_time": "2025-05-20T05:56:27.729475Z"
    }
   },
   "cell_type": "code",
   "source": [
    "from tqdm.auto import tqdm\n",
    "\n",
    "torch.manual_seed(42)\n",
    "train_time_start = timer()\n",
    "\n",
    "epochs = 3\n",
    "\n",
    "for epoch in tqdm(range(epochs)):\n",
    "    print(f\"epoch: {epoch}\\n-----\")\n",
    "\n",
    "    # TRAINING\n",
    "    train_loss = 0\n",
    "\n",
    "    for batch, (X, y) in enumerate(train_dataloader):\n",
    "        model_0.train()\n",
    "        y_pred = model_0(X)\n",
    "\n",
    "        loss = loss_fn(y_pred, y)\n",
    "        train_loss += loss\n",
    "\n",
    "        optimizer.zero_grad()\n",
    "        loss.backward()\n",
    "        optimizer.step()\n",
    "\n",
    "        if batch % 400 == 0:\n",
    "            print(f\"looked at {batch * len(X)}/{len(train_dataloader.dataset)} samples.\")\n",
    "\n",
    "    train_loss /= len(train_dataloader)\n",
    "\n",
    "    # TESTING\n",
    "    test_loss, test_acc = 0, 0\n",
    "    model_0.eval()\n",
    "    with torch.inference_mode():\n",
    "        for X_test, y_test in test_dataloader:\n",
    "            test_pred = model_0(X_test)\n",
    "\n",
    "            test_loss += loss_fn(test_pred, y_test)\n",
    "            test_acc += accuracy_fn(y_test, test_pred.argmax(dim=1))\n",
    "\n",
    "        test_loss /= len(test_dataloader)\n",
    "        test_acc /= len(test_dataloader)\n",
    "\n",
    "    print(f\"\\ntrain loss: {train_loss:.4f} | test loss: {test_loss:.4f}, test acc: {test_acc:.4f}%\")\n",
    "\n",
    "train_time_end = timer()\n",
    "total_train_time_model_0 = print_train_time(train_time_start, train_time_end,\n",
    "                                            device=next(model_0.parameters()).device)"
   ],
   "id": "94bf0e4394c9969d",
   "outputs": [
    {
     "name": "stderr",
     "output_type": "stream",
     "text": [
      "C:\\Users\\lhuen\\PycharmProjects\\MNIST-SiameseNetwork\\.venv\\Lib\\site-packages\\tqdm\\auto.py:21: TqdmWarning: IProgress not found. Please update jupyter and ipywidgets. See https://ipywidgets.readthedocs.io/en/stable/user_install.html\n",
      "  from .autonotebook import tqdm as notebook_tqdm\n",
      "  0%|          | 0/3 [00:00<?, ?it/s]"
     ]
    },
    {
     "name": "stdout",
     "output_type": "stream",
     "text": [
      "epoch: 0\n",
      "-----\n",
      "looked at 0/60000 samples.\n",
      "looked at 12800/60000 samples.\n",
      "looked at 25600/60000 samples.\n",
      "looked at 38400/60000 samples.\n",
      "looked at 51200/60000 samples.\n",
      "\n",
      "train loss: 0.5904 | test loss: 0.5095, test acc: 82.0387%\n"
     ]
    },
    {
     "name": "stderr",
     "output_type": "stream",
     "text": [
      " 33%|███▎      | 1/3 [00:07<00:14,  7.04s/it]"
     ]
    },
    {
     "name": "stdout",
     "output_type": "stream",
     "text": [
      "epoch: 1\n",
      "-----\n",
      "looked at 0/60000 samples.\n",
      "looked at 12800/60000 samples.\n",
      "looked at 25600/60000 samples.\n",
      "looked at 38400/60000 samples.\n",
      "looked at 51200/60000 samples.\n",
      "\n",
      "train loss: 0.4763 | test loss: 0.4799, test acc: 83.1969%\n"
     ]
    },
    {
     "name": "stderr",
     "output_type": "stream",
     "text": [
      " 67%|██████▋   | 2/3 [00:13<00:06,  6.99s/it]"
     ]
    },
    {
     "name": "stdout",
     "output_type": "stream",
     "text": [
      "epoch: 2\n",
      "-----\n",
      "looked at 0/60000 samples.\n",
      "looked at 12800/60000 samples.\n",
      "looked at 25600/60000 samples.\n",
      "looked at 38400/60000 samples.\n",
      "looked at 51200/60000 samples.\n",
      "\n",
      "train loss: 0.4550 | test loss: 0.4766, test acc: 83.4265%\n"
     ]
    },
    {
     "name": "stderr",
     "output_type": "stream",
     "text": [
      "100%|██████████| 3/3 [00:20<00:00,  6.89s/it]\n"
     ]
    },
    {
     "name": "stdout",
     "output_type": "stream",
     "text": [
      "Train time on cpu: 20.669 seconds\n"
     ]
    }
   ],
   "execution_count": 23
  },
  {
   "metadata": {},
   "cell_type": "markdown",
   "source": "## make preds and get model_0 results",
   "id": "328079a284128a3e"
  },
  {
   "metadata": {
    "ExecuteTime": {
     "end_time": "2025-05-20T05:58:15.437307Z",
     "start_time": "2025-05-20T05:58:14.513169Z"
    }
   },
   "cell_type": "code",
   "source": [
    "torch.manual_seed(42)\n",
    "\n",
    "\n",
    "def eval_model(model: torch.nn.Module,\n",
    "               data_loader: torch.utils.data.DataLoader,\n",
    "               loss_fn: torch.nn.Module,\n",
    "               accuracy_fn):\n",
    "    \"\"\"returns a dict containing the results of model predicting on data_loader\"\"\"\n",
    "    loss, acc = 0, 0\n",
    "    model.eval()\n",
    "    with torch.inference_mode():\n",
    "        for X, y in tqdm(data_loader):\n",
    "            # X, y = X.to(device), y.to(device)\n",
    "            # make preds\n",
    "            y_pred = model(X)\n",
    "            loss += loss_fn(y_pred, y)\n",
    "            acc += accuracy_fn(y, y_pred.argmax(dim=1))\n",
    "        # avg loss and acc\n",
    "        loss /= len(data_loader)\n",
    "        acc /= len(data_loader)\n",
    "\n",
    "    return {\"model_name\": model.__class__.__name__,\n",
    "            \"model_loss\": loss.item(),\n",
    "            \"model_acc\": acc}\n",
    "\n",
    "\n",
    "model_0_results = eval_model(\n",
    "    model=model_0,\n",
    "    data_loader=test_dataloader,\n",
    "    loss_fn=loss_fn,\n",
    "    accuracy_fn=accuracy_fn\n",
    ")\n",
    "model_0_results"
   ],
   "id": "a26727d146bcb751",
   "outputs": [
    {
     "name": "stderr",
     "output_type": "stream",
     "text": [
      "100%|██████████| 313/313 [00:00<00:00, 342.45it/s]\n"
     ]
    },
    {
     "data": {
      "text/plain": [
       "{'model_name': 'FashionMNISTModelV0',\n",
       " 'model_loss': 0.47663894295692444,\n",
       " 'model_acc': 83.42651757188499}"
      ]
     },
     "execution_count": 26,
     "metadata": {},
     "output_type": "execute_result"
    }
   ],
   "execution_count": 26
  },
  {
   "metadata": {
    "ExecuteTime": {
     "end_time": "2025-05-20T05:58:15.485263Z",
     "start_time": "2025-05-20T05:58:15.480890Z"
    }
   },
   "cell_type": "code",
   "source": [
    "import torch\n",
    "\n",
    "device = \"cuda\" if torch.cuda.is_available() else \"cpu\"\n",
    "device"
   ],
   "id": "55370080f039f823",
   "outputs": [
    {
     "data": {
      "text/plain": [
       "'cpu'"
      ]
     },
     "execution_count": 27,
     "metadata": {},
     "output_type": "execute_result"
    }
   ],
   "execution_count": 27
  },
  {
   "metadata": {},
   "cell_type": "markdown",
   "source": "# model 1: building a better model with non linerarity",
   "id": "ffe63b14e552d229"
  },
  {
   "metadata": {
    "ExecuteTime": {
     "end_time": "2025-05-20T05:58:15.554838Z",
     "start_time": "2025-05-20T05:58:15.550603Z"
    }
   },
   "cell_type": "code",
   "source": [
    "import torch\n",
    "from torch import nn\n",
    "\n",
    "\n",
    "class FashionMNISTModelV1(nn.Module):\n",
    "    def __init__(self,\n",
    "                 input_shape: int,\n",
    "                 hidden_units: int,\n",
    "                 output_shape: int):\n",
    "        super().__init__()\n",
    "        self.layer_stack = nn.Sequential(\n",
    "            nn.Flatten(),\n",
    "            nn.Linear(in_features=input_shape, out_features=hidden_units),\n",
    "            nn.ReLU(),\n",
    "            nn.Linear(in_features=hidden_units, out_features=output_shape),\n",
    "            nn.ReLU()\n",
    "        )\n",
    "\n",
    "    def forward(self, x: torch.Tensor) -> torch.Tensor:\n",
    "        return self.layer_stack(x)"
   ],
   "id": "934617eb91496579",
   "outputs": [],
   "execution_count": 28
  },
  {
   "metadata": {
    "ExecuteTime": {
     "end_time": "2025-05-20T05:58:15.613255Z",
     "start_time": "2025-05-20T05:58:15.605692Z"
    }
   },
   "cell_type": "code",
   "source": [
    "torch.manual_seed(42)\n",
    "model_1 = FashionMNISTModelV1(input_shape=784,\n",
    "                              hidden_units=10,\n",
    "                              output_shape=len(class_names)).to(device)"
   ],
   "id": "663d5d729abd2832",
   "outputs": [],
   "execution_count": 29
  },
  {
   "metadata": {
    "ExecuteTime": {
     "end_time": "2025-05-20T05:58:15.672849Z",
     "start_time": "2025-05-20T05:58:15.669796Z"
    }
   },
   "cell_type": "code",
   "source": [
    "from helper_functions import accuracy_fn\n",
    "\n",
    "loss_fn = nn.CrossEntropyLoss()\n",
    "optimizer = torch.optim.SGD(model_1.parameters(), lr=0.1)"
   ],
   "id": "593e86d84aadeaf6",
   "outputs": [],
   "execution_count": 30
  },
  {
   "metadata": {},
   "cell_type": "markdown",
   "source": "## functionizing training and testing loops",
   "id": "3f3599b5da79fb91"
  },
  {
   "metadata": {
    "ExecuteTime": {
     "end_time": "2025-05-20T05:58:15.716134Z",
     "start_time": "2025-05-20T05:58:15.712154Z"
    }
   },
   "cell_type": "code",
   "source": [
    "def train_step(model: torch.nn.Module,\n",
    "               data_loader: torch.utils.data.DataLoader,\n",
    "               loss_fn: torch.nn.Module,\n",
    "               optimizer: torch.optim.Optimizer,\n",
    "               accuracy_fn,\n",
    "               device: torch.device = device):\n",
    "    \"\"\"performs a training with model trying to learn on data_loader\"\"\"\n",
    "    train_loss, train_acc = 0, 0\n",
    "    model.train()\n",
    "\n",
    "    for batch, (X, y) in enumerate(data_loader):\n",
    "        X, y = X.to(device), y.to(device)\n",
    "\n",
    "        y_pred = model(X)\n",
    "\n",
    "        loss = loss_fn(y_pred, y)\n",
    "        train_loss += loss\n",
    "        train_acc += accuracy_fn(y_true=y, y_pred=y_pred.argmax(dim=1))\n",
    "\n",
    "        optimizer.zero_grad()\n",
    "        loss.backward()\n",
    "        optimizer.step()\n",
    "\n",
    "    train_loss /= len(data_loader)\n",
    "    train_acc /= len(data_loader)\n",
    "    print(f\"train loss: {train_loss:.5f}, train acc: {train_acc:.2f}%\")"
   ],
   "id": "3c507c3fff7789d6",
   "outputs": [],
   "execution_count": 31
  },
  {
   "metadata": {
    "ExecuteTime": {
     "end_time": "2025-05-20T05:58:15.762736Z",
     "start_time": "2025-05-20T05:58:15.759029Z"
    }
   },
   "cell_type": "code",
   "source": [
    "def test_step(model: torch.nn.Module,\n",
    "              data_loader: torch.utils.data.DataLoader,\n",
    "              loss_fn: torch.nn.Module,\n",
    "              accuracy_fn,\n",
    "              device: torch.device = device):\n",
    "    # TESTING\n",
    "    test_loss, test_acc = 0, 0\n",
    "    model.eval()\n",
    "    with torch.inference_mode():\n",
    "        for X, y in data_loader:\n",
    "            X, y = X.to(device), y.to(device)\n",
    "            test_pred = model(X)\n",
    "\n",
    "            test_loss += loss_fn(test_pred, y)\n",
    "            test_acc += accuracy_fn(y, test_pred.argmax(dim=1))\n",
    "\n",
    "        test_loss /= len(data_loader)\n",
    "        test_acc /= len(data_loader)\n",
    "        print(f\"test loss: {test_loss:.5f}, test acc: {test_acc:.2f}%\")"
   ],
   "id": "c4e307af9292c266",
   "outputs": [],
   "execution_count": 32
  },
  {
   "metadata": {},
   "cell_type": "markdown",
   "source": "## train test loop",
   "id": "e54aa06e62aa2cab"
  },
  {
   "metadata": {
    "ExecuteTime": {
     "end_time": "2025-05-20T05:58:49.345399Z",
     "start_time": "2025-05-20T05:58:15.804116Z"
    }
   },
   "cell_type": "code",
   "source": [
    "from tqdm.auto import tqdm\n",
    "from timeit import default_timer as timer\n",
    "\n",
    "torch.manual_seed(42)\n",
    "train_time_start = timer()\n",
    "\n",
    "epochs = 3\n",
    "\n",
    "for epoch in tqdm(range(epochs)):\n",
    "    print(f\"epoch: {epoch}\\n-------------------\")\n",
    "    train_step(model_1, train_dataloader, loss_fn, optimizer, accuracy_fn)\n",
    "    test_step(model_1, train_dataloader, loss_fn, accuracy_fn)\n",
    "\n",
    "train_time_end = timer()\n",
    "total_train_time_model_1 = print_train_time(train_time_start, train_time_end,\n",
    "                                            device=device)"
   ],
   "id": "243afc7bb2b9e181",
   "outputs": [
    {
     "name": "stderr",
     "output_type": "stream",
     "text": [
      "  0%|          | 0/3 [00:00<?, ?it/s]"
     ]
    },
    {
     "name": "stdout",
     "output_type": "stream",
     "text": [
      "epoch: 0\n",
      "-------------------\n",
      "train loss: 1.09199, train acc: 61.34%\n",
      "test loss: 0.92727, test acc: 66.00%\n"
     ]
    },
    {
     "name": "stderr",
     "output_type": "stream",
     "text": [
      " 33%|███▎      | 1/3 [00:11<00:23, 11.85s/it]"
     ]
    },
    {
     "name": "stdout",
     "output_type": "stream",
     "text": [
      "epoch: 1\n",
      "-------------------\n",
      "train loss: 0.73779, train acc: 73.69%\n",
      "test loss: 0.68793, test acc: 75.43%\n"
     ]
    },
    {
     "name": "stderr",
     "output_type": "stream",
     "text": [
      " 67%|██████▋   | 2/3 [00:23<00:11, 11.45s/it]"
     ]
    },
    {
     "name": "stdout",
     "output_type": "stream",
     "text": [
      "epoch: 2\n",
      "-------------------\n",
      "train loss: 0.66776, train acc: 76.08%\n",
      "test loss: 0.64329, test acc: 76.87%\n"
     ]
    },
    {
     "name": "stderr",
     "output_type": "stream",
     "text": [
      "100%|██████████| 3/3 [00:33<00:00, 11.18s/it]\n"
     ]
    },
    {
     "name": "stdout",
     "output_type": "stream",
     "text": [
      "Train time on cpu: 33.535 seconds\n"
     ]
    }
   ],
   "execution_count": 33
  },
  {
   "metadata": {
    "ExecuteTime": {
     "end_time": "2025-05-20T05:58:49.392459Z",
     "start_time": "2025-05-20T05:58:49.387565Z"
    }
   },
   "cell_type": "code",
   "source": "model_0_results",
   "id": "7213050fc3b51415",
   "outputs": [
    {
     "data": {
      "text/plain": [
       "{'model_name': 'FashionMNISTModelV0',\n",
       " 'model_loss': 0.47663894295692444,\n",
       " 'model_acc': 83.42651757188499}"
      ]
     },
     "execution_count": 34,
     "metadata": {},
     "output_type": "execute_result"
    }
   ],
   "execution_count": 34
  },
  {
   "metadata": {
    "ExecuteTime": {
     "end_time": "2025-05-20T05:58:50.287809Z",
     "start_time": "2025-05-20T05:58:49.444896Z"
    }
   },
   "cell_type": "code",
   "source": [
    "model_1_results = eval_model(model=model_1, data_loader=test_dataloader, loss_fn=loss_fn, accuracy_fn=accuracy_fn)\n",
    "model_1_results"
   ],
   "id": "9d261f9cd505174",
   "outputs": [
    {
     "name": "stderr",
     "output_type": "stream",
     "text": [
      "100%|██████████| 313/313 [00:00<00:00, 374.40it/s]\n"
     ]
    },
    {
     "data": {
      "text/plain": [
       "{'model_name': 'FashionMNISTModelV1',\n",
       " 'model_loss': 0.68743497133255,\n",
       " 'model_acc': 75.65894568690096}"
      ]
     },
     "execution_count": 35,
     "metadata": {},
     "output_type": "execute_result"
    }
   ],
   "execution_count": 35
  },
  {
   "metadata": {},
   "cell_type": "markdown",
   "source": "# model 2: building a cnn",
   "id": "e3e6d29f5aec6f24"
  },
  {
   "metadata": {
    "ExecuteTime": {
     "end_time": "2025-05-20T05:58:50.338169Z",
     "start_time": "2025-05-20T05:58:50.333463Z"
    }
   },
   "cell_type": "code",
   "source": [
    "class FashionMNISTModelV2(nn.Module):\n",
    "    \"\"\"\n",
    "    model architecture that replicates the TinyVGG\n",
    "    model from cnn explainer website.\n",
    "    \"\"\"\n",
    "\n",
    "    def __init__(self,\n",
    "                 input_shape: int,\n",
    "                 hidden_units: int,\n",
    "                 output_shape: int):\n",
    "        super().__init__()\n",
    "        self.conv_block_1 = nn.Sequential(\n",
    "            nn.Conv2d(in_channels=input_shape,\n",
    "                      out_channels=hidden_units,\n",
    "                      kernel_size=3,\n",
    "                      stride=1,\n",
    "                      padding=1),\n",
    "            nn.ReLU(),\n",
    "            nn.Conv2d(in_channels=hidden_units,\n",
    "                      out_channels=hidden_units,\n",
    "                      kernel_size=3,\n",
    "                      stride=1,\n",
    "                      padding=1),\n",
    "            nn.ReLU(),\n",
    "            nn.MaxPool2d(kernel_size=2)\n",
    "        )\n",
    "        self.conv_block_2 = nn.Sequential(\n",
    "            nn.Conv2d(in_channels=hidden_units,\n",
    "                      out_channels=hidden_units,\n",
    "                      kernel_size=3,\n",
    "                      stride=1,\n",
    "                      padding=1),\n",
    "            nn.ReLU(),\n",
    "            nn.Conv2d(in_channels=hidden_units,\n",
    "                      out_channels=hidden_units,\n",
    "                      kernel_size=3,\n",
    "                      stride=1,\n",
    "                      padding=1),\n",
    "            nn.ReLU(),\n",
    "            nn.MaxPool2d(kernel_size=2)\n",
    "        )\n",
    "        self.classifier = nn.Sequential(\n",
    "            nn.Flatten(),\n",
    "            nn.Linear(in_features=hidden_units * 7 * 7,\n",
    "                      out_features=output_shape)\n",
    "        )\n",
    "\n",
    "    def forward(self, x: torch.Tensor):\n",
    "        x = self.conv_block_1(x)\n",
    "        # print(x.shape)\n",
    "        x = self.conv_block_2(x)\n",
    "        # print(x.shape)\n",
    "        x = self.classifier(x)\n",
    "        # print(x.shape)\n",
    "        return x"
   ],
   "id": "df1edfd9fc17895a",
   "outputs": [],
   "execution_count": 36
  },
  {
   "metadata": {
    "ExecuteTime": {
     "end_time": "2025-05-20T05:58:50.392552Z",
     "start_time": "2025-05-20T05:58:50.385427Z"
    }
   },
   "cell_type": "code",
   "source": [
    "torch.manual_seed(42)\n",
    "model_2 = FashionMNISTModelV2(input_shape=1,\n",
    "                              hidden_units=10,\n",
    "                              output_shape=len(class_names)).to(device)"
   ],
   "id": "fdcb44f6a0565f1f",
   "outputs": [],
   "execution_count": 37
  },
  {
   "metadata": {
    "ExecuteTime": {
     "end_time": "2025-05-20T05:58:50.443171Z",
     "start_time": "2025-05-20T05:58:50.438451Z"
    }
   },
   "cell_type": "code",
   "source": [
    "rand_image_tensor = torch.randn(size=(1, 28, 28))\n",
    "rand_image_tensor.shape"
   ],
   "id": "7b181fd2f7c802c8",
   "outputs": [
    {
     "data": {
      "text/plain": [
       "torch.Size([1, 28, 28])"
      ]
     },
     "execution_count": 38,
     "metadata": {},
     "output_type": "execute_result"
    }
   ],
   "execution_count": 38
  },
  {
   "metadata": {
    "ExecuteTime": {
     "end_time": "2025-05-20T05:58:50.526610Z",
     "start_time": "2025-05-20T05:58:50.516700Z"
    }
   },
   "cell_type": "code",
   "source": [
    "torch.manual_seed(42)\n",
    "model_2_output = model_2(rand_image_tensor.unsqueeze(0))\n",
    "print(model_2_output)\n",
    "print(model_2_output.argmax(1))"
   ],
   "id": "f82344cea16c81e2",
   "outputs": [
    {
     "name": "stdout",
     "output_type": "stream",
     "text": [
      "tensor([[ 0.0366, -0.0940,  0.0686, -0.0485,  0.0068,  0.0290,  0.0132,  0.0084,\n",
      "         -0.0030, -0.0185]], grad_fn=<AddmmBackward0>)\n",
      "tensor([2])\n"
     ]
    }
   ],
   "execution_count": 39
  },
  {
   "metadata": {
    "ExecuteTime": {
     "end_time": "2025-05-20T05:58:50.611233Z",
     "start_time": "2025-05-20T05:58:50.596536Z"
    }
   },
   "cell_type": "code",
   "source": [
    "torch.manual_seed(42)\n",
    "images = torch.randn(size=(32, 3, 64, 64))\n",
    "test_image = images[0]\n",
    "\n",
    "print(f\"image batch shape: {images.shape}\")\n",
    "print(f\"single image shape: {test_image.shape}\")\n",
    "print(f\"test image: {test_image}\")"
   ],
   "id": "4845e93ad97bd62d",
   "outputs": [
    {
     "name": "stdout",
     "output_type": "stream",
     "text": [
      "image batch shape: torch.Size([32, 3, 64, 64])\n",
      "single image shape: torch.Size([3, 64, 64])\n",
      "test image: tensor([[[ 1.9269,  1.4873,  0.9007,  ...,  1.8446, -1.1845,  1.3835],\n",
      "         [ 1.4451,  0.8564,  2.2181,  ...,  0.3399,  0.7200,  0.4114],\n",
      "         [ 1.9312,  1.0119, -1.4364,  ..., -0.5558,  0.7043,  0.7099],\n",
      "         ...,\n",
      "         [-0.5610, -0.4830,  0.4770,  ..., -0.2713, -0.9537, -0.6737],\n",
      "         [ 0.3076, -0.1277,  0.0366,  ..., -2.0060,  0.2824, -0.8111],\n",
      "         [-1.5486,  0.0485, -0.7712,  ..., -0.1403,  0.9416, -0.0118]],\n",
      "\n",
      "        [[-0.5197,  1.8524,  1.8365,  ...,  0.8935, -1.5114, -0.8515],\n",
      "         [ 2.0818,  1.0677, -1.4277,  ...,  1.6612, -2.6223, -0.4319],\n",
      "         [-0.1010, -0.4388, -1.9775,  ...,  0.2106,  0.2536, -0.7318],\n",
      "         ...,\n",
      "         [ 0.2779,  0.7342, -0.3736,  ..., -0.4601,  0.1815,  0.1850],\n",
      "         [ 0.7205, -0.2833,  0.0937,  ..., -0.1002, -2.3609,  2.2465],\n",
      "         [-1.3242, -0.1973,  0.2920,  ...,  0.5409,  0.6940,  1.8563]],\n",
      "\n",
      "        [[-0.7978,  1.0261,  1.1465,  ...,  1.2134,  0.9354, -0.0780],\n",
      "         [-1.4647, -1.9571,  0.1017,  ..., -1.9986, -0.7409,  0.7011],\n",
      "         [-1.3938,  0.8466, -1.7191,  ..., -1.1867,  0.1320,  0.3407],\n",
      "         ...,\n",
      "         [ 0.8206, -0.3745,  1.2499,  ..., -0.0676,  0.0385,  0.6335],\n",
      "         [-0.5589, -0.3393,  0.2347,  ...,  2.1181,  2.4569,  1.3083],\n",
      "         [-0.4092,  1.5199,  0.2401,  ..., -0.2558,  0.7870,  0.9924]]])\n"
     ]
    }
   ],
   "execution_count": 40
  },
  {
   "metadata": {
    "ExecuteTime": {
     "end_time": "2025-05-20T05:58:50.693364Z",
     "start_time": "2025-05-20T05:58:50.680574Z"
    }
   },
   "cell_type": "code",
   "source": [
    "torch.manual_seed(42)\n",
    "# create a single conv2d layer\n",
    "conv_layer = nn.Conv2d(in_channels=3,\n",
    "                       out_channels=10,\n",
    "                       kernel_size=3,\n",
    "                       stride=1,\n",
    "                       padding=0)\n",
    "conv_output = conv_layer(test_image)\n",
    "conv_output, conv_output.shape"
   ],
   "id": "d19167b31662ad6e",
   "outputs": [
    {
     "data": {
      "text/plain": [
       "(tensor([[[ 1.5396,  0.0516,  0.6454,  ..., -0.3673,  0.8711,  0.4256],\n",
       "          [ 0.3662,  1.0114, -0.5997,  ...,  0.8983,  0.2809, -0.2741],\n",
       "          [ 1.2664, -1.4054,  0.3727,  ..., -0.3409,  1.2191, -0.0463],\n",
       "          ...,\n",
       "          [-0.1541,  0.5132, -0.3624,  ..., -0.2360, -0.4609, -0.0035],\n",
       "          [ 0.2981, -0.2432,  1.5012,  ..., -0.6289, -0.7283, -0.5767],\n",
       "          [-0.0386, -0.0781, -0.0388,  ...,  0.2842,  0.4228, -0.1802]],\n",
       " \n",
       "         [[-0.2840, -0.0319, -0.4455,  ..., -0.7956,  1.5599, -1.2449],\n",
       "          [ 0.2753, -0.1262, -0.6541,  ..., -0.2211,  0.1999, -0.8856],\n",
       "          [-0.5404, -1.5489,  0.0249,  ..., -0.5932, -1.0913, -0.3849],\n",
       "          ...,\n",
       "          [ 0.3870, -0.4064, -0.8236,  ...,  0.1734, -0.4330, -0.4951],\n",
       "          [-0.1984, -0.6386,  1.0263,  ..., -0.9401, -0.0585, -0.7833],\n",
       "          [-0.6306, -0.2052, -0.3694,  ..., -1.3248,  0.2456, -0.7134]],\n",
       " \n",
       "         [[ 0.4414,  0.5100,  0.4846,  ..., -0.8484,  0.2638,  1.1258],\n",
       "          [ 0.8117,  0.3191, -0.0157,  ...,  1.2686,  0.2319,  0.5003],\n",
       "          [ 0.3212,  0.0485, -0.2581,  ...,  0.2258,  0.2587, -0.8804],\n",
       "          ...,\n",
       "          [-0.1144, -0.1869,  0.0160,  ..., -0.8346,  0.0974,  0.8421],\n",
       "          [ 0.2941,  0.4417,  0.5866,  ..., -0.1224,  0.4814, -0.4799],\n",
       "          [ 0.6059, -0.0415, -0.2028,  ...,  0.1170,  0.2521, -0.4372]],\n",
       " \n",
       "         ...,\n",
       " \n",
       "         [[-0.2560, -0.0477,  0.6380,  ...,  0.6436,  0.7553, -0.7055],\n",
       "          [ 1.5595, -0.2209, -0.9486,  ..., -0.4876,  0.7754,  0.0750],\n",
       "          [-0.0797,  0.2471,  1.1300,  ...,  0.1505,  0.2354,  0.9576],\n",
       "          ...,\n",
       "          [ 1.1065,  0.6839,  1.2183,  ...,  0.3015, -0.1910, -0.1902],\n",
       "          [-0.3486, -0.7173, -0.3582,  ...,  0.4917,  0.7219,  0.1513],\n",
       "          [ 0.0119,  0.1017,  0.7839,  ..., -0.3752, -0.8127, -0.1257]],\n",
       " \n",
       "         [[ 0.3841,  1.1322,  0.1620,  ...,  0.7010,  0.0109,  0.6058],\n",
       "          [ 0.1664,  0.1873,  1.5924,  ...,  0.3733,  0.9096, -0.5399],\n",
       "          [ 0.4094, -0.0861, -0.7935,  ..., -0.1285, -0.9932, -0.3013],\n",
       "          ...,\n",
       "          [ 0.2688, -0.5630, -1.1902,  ...,  0.4493,  0.5404, -0.0103],\n",
       "          [ 0.0535,  0.4411,  0.5313,  ...,  0.0148, -1.0056,  0.3759],\n",
       "          [ 0.3031, -0.1590, -0.1316,  ..., -0.5384, -0.4271, -0.4876]],\n",
       " \n",
       "         [[-1.1865, -0.7280, -1.2331,  ..., -0.9013, -0.0542, -1.5949],\n",
       "          [-0.6345, -0.5920,  0.5326,  ..., -1.0395, -0.7963, -0.0647],\n",
       "          [-0.1132,  0.5166,  0.2569,  ...,  0.5595, -1.6881,  0.9485],\n",
       "          ...,\n",
       "          [-0.0254, -0.2669,  0.1927,  ..., -0.2917,  0.1088, -0.4807],\n",
       "          [-0.2609, -0.2328,  0.1404,  ..., -0.1325, -0.8436, -0.7524],\n",
       "          [-1.1399, -0.1751, -0.8705,  ...,  0.1589,  0.3377,  0.3493]]],\n",
       "        grad_fn=<SqueezeBackward1>),\n",
       " torch.Size([10, 62, 62]))"
      ]
     },
     "execution_count": 41,
     "metadata": {},
     "output_type": "execute_result"
    }
   ],
   "execution_count": 41
  },
  {
   "metadata": {
    "ExecuteTime": {
     "end_time": "2025-05-20T05:58:50.778759Z",
     "start_time": "2025-05-20T05:58:50.769290Z"
    }
   },
   "cell_type": "code",
   "source": [
    "torch.manual_seed(42)\n",
    "# create single maxpool2d layer\n",
    "maxpool_layer = nn.MaxPool2d(kernel_size=2)\n",
    "maxpool_output = maxpool_layer(test_image)\n",
    "maxpool_output, maxpool_output.shape"
   ],
   "id": "f94a0d85de44d50",
   "outputs": [
    {
     "data": {
      "text/plain": [
       "(tensor([[[ 1.9269,  2.2181,  0.6784,  ...,  0.7642,  1.8446,  1.3835],\n",
       "          [ 1.9312,  0.9624,  1.6354,  ...,  0.8539,  1.0229,  0.7099],\n",
       "          [ 0.5636,  1.0554,  0.4652,  ...,  0.4485,  0.8541,  1.2049],\n",
       "          ...,\n",
       "          [ 1.1233,  2.1158,  1.4051,  ...,  1.4307,  1.9144,  1.5664],\n",
       "          [ 0.0515,  1.0802,  1.7977,  ...,  0.9106,  0.9991,  0.2425],\n",
       "          [ 0.3076,  0.6421,  0.9172,  ...,  0.3761,  2.6678,  0.9416]],\n",
       " \n",
       "         [[ 2.0818,  2.0741,  1.7054,  ...,  1.1078,  1.6612, -0.4319],\n",
       "          [-0.1010,  0.8919,  0.5042,  ...,  0.5441,  1.2990,  1.8377],\n",
       "          [ 0.6289,  1.0303,  0.1668,  ...,  1.2482,  2.4611,  1.8377],\n",
       "          ...,\n",
       "          [ 1.6984,  0.1371,  1.2942,  ...,  1.3265,  1.5168,  0.8127],\n",
       "          [ 0.7342,  2.1091, -0.4260,  ...,  0.2568, -0.0400,  0.5846],\n",
       "          [ 0.7205,  1.6574,  1.1300,  ...,  0.2673,  0.5409,  2.2465]],\n",
       " \n",
       "         [[ 1.0261,  1.1465,  1.2445,  ...,  1.1764,  1.2134,  0.9354],\n",
       "          [ 0.8466,  1.3186,  1.6730,  ...,  1.6594,  0.4404,  1.1274],\n",
       "          [ 1.1844,  1.0616,  2.0886,  ...,  2.3976,  1.6354,  0.3337],\n",
       "          ...,\n",
       "          [ 1.4768, -0.1624,  1.4376,  ...,  0.8074,  1.1391,  0.5194],\n",
       "          [ 2.2066,  1.2499,  1.2472,  ...,  2.2406,  1.3770,  2.3369],\n",
       "          [ 1.5199,  0.2401,  0.4262,  ...,  2.0263,  2.1181,  2.4569]]]),\n",
       " torch.Size([3, 32, 32]))"
      ]
     },
     "execution_count": 42,
     "metadata": {},
     "output_type": "execute_result"
    }
   ],
   "execution_count": 42
  },
  {
   "metadata": {
    "ExecuteTime": {
     "end_time": "2025-05-20T05:58:50.858104Z",
     "start_time": "2025-05-20T05:58:50.854026Z"
    }
   },
   "cell_type": "code",
   "source": "test_image.shape",
   "id": "1a36042fe4146266",
   "outputs": [
    {
     "data": {
      "text/plain": [
       "torch.Size([3, 64, 64])"
      ]
     },
     "execution_count": 43,
     "metadata": {},
     "output_type": "execute_result"
    }
   ],
   "execution_count": 43
  },
  {
   "metadata": {
    "ExecuteTime": {
     "end_time": "2025-05-20T05:58:50.954433Z",
     "start_time": "2025-05-20T05:58:50.946455Z"
    }
   },
   "cell_type": "code",
   "source": [
    "torch.manual_seed(42)\n",
    "random_tensor = torch.randn(size=(1, 1, 4, 4))\n",
    "\n",
    "maxpool_layer = nn.MaxPool2d(kernel_size=2)\n",
    "maxpool_output = maxpool_layer(random_tensor)\n",
    "\n",
    "random_tensor, maxpool_output"
   ],
   "id": "554ab236e0590fac",
   "outputs": [
    {
     "data": {
      "text/plain": [
       "(tensor([[[[ 1.9269,  1.4873,  0.9007, -2.1055],\n",
       "           [ 0.6784, -1.2345, -0.0431, -1.6047],\n",
       "           [-0.7521,  1.6487, -0.3925, -1.4036],\n",
       "           [-0.7279, -0.5594, -0.7688,  0.7624]]]]),\n",
       " tensor([[[[1.9269, 0.9007],\n",
       "           [1.6487, 0.7624]]]]))"
      ]
     },
     "execution_count": 44,
     "metadata": {},
     "output_type": "execute_result"
    }
   ],
   "execution_count": 44
  },
  {
   "metadata": {},
   "cell_type": "markdown",
   "source": "## setup loss and optim",
   "id": "d91f25510e5d8b3e"
  },
  {
   "metadata": {
    "ExecuteTime": {
     "end_time": "2025-05-20T05:58:51.030779Z",
     "start_time": "2025-05-20T05:58:51.027472Z"
    }
   },
   "cell_type": "code",
   "source": [
    "from helper_functions import accuracy_fn\n",
    "\n",
    "loss_fn = nn.CrossEntropyLoss()\n",
    "optimizer = torch.optim.SGD(model_2.parameters(), lr=0.1)"
   ],
   "id": "890cc3080bf97673",
   "outputs": [],
   "execution_count": 45
  },
  {
   "metadata": {
    "ExecuteTime": {
     "end_time": "2025-05-20T06:00:11.602116Z",
     "start_time": "2025-05-20T05:58:51.089600Z"
    }
   },
   "cell_type": "code",
   "source": [
    "torch.manual_seed(42)\n",
    "torch.cuda.manual_seed(42)\n",
    "\n",
    "from timeit import default_timer as timer\n",
    "\n",
    "start_time = timer()\n",
    "# train and test model\n",
    "epochs = 3\n",
    "for epoch in tqdm(range(epochs)):\n",
    "    print(f\"epoch: {epoch}\")\n",
    "    train_step(model=model_2, data_loader=train_dataloader, loss_fn=loss_fn, optimizer=optimizer,\n",
    "               accuracy_fn=accuracy_fn, device=device)\n",
    "    test_step(model=model_2, data_loader=train_dataloader, loss_fn=loss_fn, accuracy_fn=accuracy_fn, device=device)\n",
    "end_time = timer()\n",
    "total_train_time_model_2 = print_train_time(start_time, end_time, device=device)\n"
   ],
   "id": "7bfda7e3945b92ef",
   "outputs": [
    {
     "name": "stderr",
     "output_type": "stream",
     "text": [
      "  0%|          | 0/3 [00:00<?, ?it/s]"
     ]
    },
    {
     "name": "stdout",
     "output_type": "stream",
     "text": [
      "epoch: 0\n",
      "train loss: 0.58819, train acc: 78.67%\n",
      "test loss: 0.38070, test acc: 86.23%\n"
     ]
    },
    {
     "name": "stderr",
     "output_type": "stream",
     "text": [
      " 33%|███▎      | 1/3 [00:26<00:52, 26.34s/it]"
     ]
    },
    {
     "name": "stdout",
     "output_type": "stream",
     "text": [
      "epoch: 1\n",
      "train loss: 0.36067, train acc: 86.93%\n",
      "test loss: 0.35126, test acc: 87.72%\n"
     ]
    },
    {
     "name": "stderr",
     "output_type": "stream",
     "text": [
      " 67%|██████▋   | 2/3 [00:52<00:26, 26.14s/it]"
     ]
    },
    {
     "name": "stdout",
     "output_type": "stream",
     "text": [
      "epoch: 2\n",
      "train loss: 0.32556, train acc: 88.24%\n",
      "test loss: 0.31571, test acc: 88.51%\n"
     ]
    },
    {
     "name": "stderr",
     "output_type": "stream",
     "text": [
      "100%|██████████| 3/3 [01:20<00:00, 26.83s/it]\n"
     ]
    },
    {
     "name": "stdout",
     "output_type": "stream",
     "text": [
      "Train time on cpu: 80.505 seconds\n"
     ]
    }
   ],
   "execution_count": 46
  },
  {
   "metadata": {
    "ExecuteTime": {
     "end_time": "2025-05-20T06:00:13.424043Z",
     "start_time": "2025-05-20T06:00:11.708307Z"
    }
   },
   "cell_type": "code",
   "source": "model_2_results = eval_model(model_2, test_dataloader, loss_fn, accuracy_fn)",
   "id": "912754dfa0c69a53",
   "outputs": [
    {
     "name": "stderr",
     "output_type": "stream",
     "text": [
      "100%|██████████| 313/313 [00:01<00:00, 183.15it/s]\n"
     ]
    }
   ],
   "execution_count": 47
  },
  {
   "metadata": {
    "ExecuteTime": {
     "end_time": "2025-05-20T06:00:13.503170Z",
     "start_time": "2025-05-20T06:00:13.499077Z"
    }
   },
   "cell_type": "code",
   "source": "model_2_results",
   "id": "eb29311a6a0aa6d3",
   "outputs": [
    {
     "data": {
      "text/plain": [
       "{'model_name': 'FashionMNISTModelV2',\n",
       " 'model_loss': 0.3381359279155731,\n",
       " 'model_acc': 87.59984025559105}"
      ]
     },
     "execution_count": 48,
     "metadata": {},
     "output_type": "execute_result"
    }
   ],
   "execution_count": 48
  },
  {
   "metadata": {
    "ExecuteTime": {
     "end_time": "2025-05-20T06:00:14.198204Z",
     "start_time": "2025-05-20T06:00:13.587648Z"
    }
   },
   "cell_type": "code",
   "source": [
    "import pandas as pd\n",
    "\n",
    "compare_results = pd.DataFrame([model_0_results, model_1_results, model_2_results])\n",
    "compare_results"
   ],
   "id": "9bb8d5e2e81e0fb0",
   "outputs": [
    {
     "data": {
      "text/plain": [
       "            model_name  model_loss  model_acc\n",
       "0  FashionMNISTModelV0    0.476639  83.426518\n",
       "1  FashionMNISTModelV1    0.687435  75.658946\n",
       "2  FashionMNISTModelV2    0.338136  87.599840"
      ],
      "text/html": [
       "<div>\n",
       "<style scoped>\n",
       "    .dataframe tbody tr th:only-of-type {\n",
       "        vertical-align: middle;\n",
       "    }\n",
       "\n",
       "    .dataframe tbody tr th {\n",
       "        vertical-align: top;\n",
       "    }\n",
       "\n",
       "    .dataframe thead th {\n",
       "        text-align: right;\n",
       "    }\n",
       "</style>\n",
       "<table border=\"1\" class=\"dataframe\">\n",
       "  <thead>\n",
       "    <tr style=\"text-align: right;\">\n",
       "      <th></th>\n",
       "      <th>model_name</th>\n",
       "      <th>model_loss</th>\n",
       "      <th>model_acc</th>\n",
       "    </tr>\n",
       "  </thead>\n",
       "  <tbody>\n",
       "    <tr>\n",
       "      <th>0</th>\n",
       "      <td>FashionMNISTModelV0</td>\n",
       "      <td>0.476639</td>\n",
       "      <td>83.426518</td>\n",
       "    </tr>\n",
       "    <tr>\n",
       "      <th>1</th>\n",
       "      <td>FashionMNISTModelV1</td>\n",
       "      <td>0.687435</td>\n",
       "      <td>75.658946</td>\n",
       "    </tr>\n",
       "    <tr>\n",
       "      <th>2</th>\n",
       "      <td>FashionMNISTModelV2</td>\n",
       "      <td>0.338136</td>\n",
       "      <td>87.599840</td>\n",
       "    </tr>\n",
       "  </tbody>\n",
       "</table>\n",
       "</div>"
      ]
     },
     "execution_count": 49,
     "metadata": {},
     "output_type": "execute_result"
    }
   ],
   "execution_count": 49
  },
  {
   "metadata": {
    "ExecuteTime": {
     "end_time": "2025-05-20T06:00:14.339884Z",
     "start_time": "2025-05-20T06:00:14.332175Z"
    }
   },
   "cell_type": "code",
   "source": [
    "compare_results[\"training_time\"] = [total_train_time_model_0, total_train_time_model_1, total_train_time_model_2]\n",
    "compare_results"
   ],
   "id": "979b20826f852d1f",
   "outputs": [
    {
     "data": {
      "text/plain": [
       "            model_name  model_loss  model_acc  training_time\n",
       "0  FashionMNISTModelV0    0.476639  83.426518      20.669476\n",
       "1  FashionMNISTModelV1    0.687435  75.658946      33.534933\n",
       "2  FashionMNISTModelV2    0.338136  87.599840      80.504676"
      ],
      "text/html": [
       "<div>\n",
       "<style scoped>\n",
       "    .dataframe tbody tr th:only-of-type {\n",
       "        vertical-align: middle;\n",
       "    }\n",
       "\n",
       "    .dataframe tbody tr th {\n",
       "        vertical-align: top;\n",
       "    }\n",
       "\n",
       "    .dataframe thead th {\n",
       "        text-align: right;\n",
       "    }\n",
       "</style>\n",
       "<table border=\"1\" class=\"dataframe\">\n",
       "  <thead>\n",
       "    <tr style=\"text-align: right;\">\n",
       "      <th></th>\n",
       "      <th>model_name</th>\n",
       "      <th>model_loss</th>\n",
       "      <th>model_acc</th>\n",
       "      <th>training_time</th>\n",
       "    </tr>\n",
       "  </thead>\n",
       "  <tbody>\n",
       "    <tr>\n",
       "      <th>0</th>\n",
       "      <td>FashionMNISTModelV0</td>\n",
       "      <td>0.476639</td>\n",
       "      <td>83.426518</td>\n",
       "      <td>20.669476</td>\n",
       "    </tr>\n",
       "    <tr>\n",
       "      <th>1</th>\n",
       "      <td>FashionMNISTModelV1</td>\n",
       "      <td>0.687435</td>\n",
       "      <td>75.658946</td>\n",
       "      <td>33.534933</td>\n",
       "    </tr>\n",
       "    <tr>\n",
       "      <th>2</th>\n",
       "      <td>FashionMNISTModelV2</td>\n",
       "      <td>0.338136</td>\n",
       "      <td>87.599840</td>\n",
       "      <td>80.504676</td>\n",
       "    </tr>\n",
       "  </tbody>\n",
       "</table>\n",
       "</div>"
      ]
     },
     "execution_count": 50,
     "metadata": {},
     "output_type": "execute_result"
    }
   ],
   "execution_count": 50
  },
  {
   "metadata": {
    "ExecuteTime": {
     "end_time": "2025-05-20T06:00:14.689291Z",
     "start_time": "2025-05-20T06:00:14.588500Z"
    }
   },
   "cell_type": "code",
   "source": [
    "compare_results.set_index(\"model_name\")[\"model_acc\"].plot(kind=\"barh\")\n",
    "plt.xlabel(\"accuracy (%)\")\n",
    "plt.ylabel(\"model\")"
   ],
   "id": "2fac16d56600f17c",
   "outputs": [
    {
     "data": {
      "text/plain": [
       "Text(0, 0.5, 'model')"
      ]
     },
     "execution_count": 51,
     "metadata": {},
     "output_type": "execute_result"
    },
    {
     "data": {
      "text/plain": [
       "<Figure size 640x480 with 1 Axes>"
      ],
      "image/png": "[encoded data removed]"
     },
     "metadata": {},
     "output_type": "display_data"
    }
   ],
   "execution_count": 51
  },
  {
   "metadata": {},
   "cell_type": "markdown",
   "source": "## make and eval random preds",
   "id": "c88b8c0ce16189ff"
  },
  {
   "metadata": {
    "ExecuteTime": {
     "end_time": "2025-05-20T06:00:14.904366Z",
     "start_time": "2025-05-20T06:00:14.900238Z"
    }
   },
   "cell_type": "code",
   "source": [
    "def make_predictions(model: torch.nn.Module, data: list, device: torch.device = device):\n",
    "    pred_probs = []\n",
    "    model.to(device)\n",
    "    model.eval()\n",
    "    with torch.inference_mode():\n",
    "        for sample in data:\n",
    "            sample = torch.unsqueeze(sample, dim=0).to(device)\n",
    "            pred_logits = model(sample)\n",
    "            pred_prob = torch.softmax(pred_logits.squeeze(), dim=0)\n",
    "            pred_probs.append(pred_prob.cpu())\n",
    "    return torch.stack(pred_probs)"
   ],
   "id": "fb87eec5dd4be201",
   "outputs": [],
   "execution_count": 52
  },
  {
   "metadata": {},
   "cell_type": "markdown",
   "source": "## visualize preds",
   "id": "ba05154e5620398"
  },
  {
   "metadata": {
    "ExecuteTime": {
     "end_time": "2025-05-20T06:00:16.182386Z",
     "start_time": "2025-05-20T06:00:15.004978Z"
    }
   },
   "cell_type": "code",
   "source": [
    "import random\n",
    "\n",
    "\n",
    "def visualize_preds():\n",
    "    # random.seed(42)\n",
    "    test_samples = []\n",
    "    test_labels = []\n",
    "    for sample, label in random.sample(list(test_data), k=9):\n",
    "        test_samples.append(sample)\n",
    "        test_labels.append(label)\n",
    "\n",
    "    pred_probs = make_predictions(model_2, test_samples)\n",
    "    pred_classes = pred_probs.argmax(dim=1)\n",
    "\n",
    "    plt.figure(figsize=(9, 9))\n",
    "    nrows = 3\n",
    "    ncols = 3\n",
    "    for i, sample in enumerate(test_samples):\n",
    "        plt.subplot(nrows, ncols, i + 1)\n",
    "\n",
    "        plt.imshow(sample.squeeze(), cmap=\"gray\")\n",
    "\n",
    "        pred_label = class_names[pred_classes[i]]\n",
    "\n",
    "        truth_label = class_names[test_labels[i]]\n",
    "\n",
    "        title_text = f\"Pred: {pred_label} | Truth: {truth_label}\"\n",
    "\n",
    "        # check for equality\n",
    "        if pred_label == truth_label:\n",
    "            plt.title(title_text, fontsize=10, c=\"g\")  # green if pred true\n",
    "        else:\n",
    "            plt.title(title_text, fontsize=10, c=\"r\")  # red if pred false\n",
    "\n",
    "        plt.axis(False)\n",
    "\n",
    "\n",
    "visualize_preds()"
   ],
   "id": "9e48349139ba1945",
   "outputs": [
    {
     "data": {
      "text/plain": [
       "<Figure size 900x900 with 9 Axes>"
      ],
      "image/png": "[encoded data removed]"
     },
     "metadata": {},
     "output_type": "display_data"
    }
   ],
   "execution_count": 53
  },
  {
   "metadata": {},
   "cell_type": "markdown",
   "source": "## making a confusion matrix",
   "id": "6d8dfec63d6616d1"
  },
  {
   "metadata": {
    "ExecuteTime": {
     "end_time": "2025-05-20T06:00:16.246517Z",
     "start_time": "2025-05-20T06:00:16.241348Z"
    }
   },
   "cell_type": "code",
   "source": [
    "import mlxtend\n",
    "\n",
    "mlxtend.__version__"
   ],
   "id": "18c5f8965c3ebc7c",
   "outputs": [
    {
     "data": {
      "text/plain": [
       "'0.23.4'"
      ]
     },
     "execution_count": 54,
     "metadata": {},
     "output_type": "execute_result"
    }
   ],
   "execution_count": 54
  },
  {
   "metadata": {
    "ExecuteTime": {
     "end_time": "2025-05-20T06:00:18.007369Z",
     "start_time": "2025-05-20T06:00:16.303585Z"
    }
   },
   "cell_type": "code",
   "source": [
    "from tqdm.auto import tqdm\n",
    "\n",
    "# make preds with trained model\n",
    "y_preds = []\n",
    "model_2.eval()\n",
    "with torch.inference_mode():\n",
    "    for X, y in tqdm(test_dataloader, desc=\"Making preds...\"):\n",
    "        X, y = X.to(device), y.to(device)\n",
    "        y_logit = model_2(X)\n",
    "        y_pred = torch.softmax(y_logit.squeeze(), dim=0).argmax(dim=1)\n",
    "        y_preds.append(y_pred.cpu())\n",
    "    print(y_preds)\n",
    "    y_pred_tensor = torch.cat(y_preds)\n",
    "y_pred_tensor"
   ],
   "id": "f784c93d0abc1a8f",
   "outputs": [
    {
     "name": "stderr",
     "output_type": "stream",
     "text": [
      "Making preds...: 100%|██████████| 313/313 [00:01<00:00, 190.16it/s]\n"
     ]
    },
    {
     "name": "stdout",
     "output_type": "stream",
     "text": [
      "[tensor([9, 2, 1, 1, 6, 1, 4, 6, 5, 7, 4, 5, 5, 3, 4, 3, 2, 4, 8, 0, 2, 5, 7, 5,\n",
      "        1, 6, 6, 0, 9, 6, 8, 8]), tensor([3, 3, 8, 0, 7, 5, 7, 9, 6, 1, 3, 7, 6, 7, 2, 1, 4, 6, 4, 4, 5, 8, 2, 2,\n",
      "        8, 4, 8, 0, 7, 7, 8, 5]), tensor([1, 3, 3, 3, 7, 8, 7, 0, 2, 6, 4, 3, 1, 2, 8, 4, 3, 8, 5, 9, 5, 0, 3, 2,\n",
      "        0, 2, 5, 3, 6, 7, 3, 8]), tensor([6, 1, 4, 2, 3, 6, 7, 6, 7, 8, 5, 7, 9, 4, 2, 5, 7, 0, 5, 2, 8, 4, 7, 8,\n",
      "        0, 0, 9, 9, 3, 0, 8, 4]), tensor([1, 5, 4, 1, 9, 1, 8, 6, 2, 1, 2, 8, 1, 6, 0, 0, 1, 6, 1, 3, 2, 2, 2, 4,\n",
      "        1, 4, 5, 6, 4, 7, 9, 3]), tensor([7, 2, 3, 8, 0, 9, 4, 7, 8, 2, 6, 5, 4, 1, 2, 1, 3, 6, 9, 1, 0, 9, 3, 6,\n",
      "        7, 9, 9, 4, 4, 7, 3, 2]), tensor([3, 2, 3, 2, 8, 3, 6, 1, 1, 0, 2, 9, 2, 4, 0, 7, 9, 8, 4, 1, 8, 4, 1, 3,\n",
      "        1, 6, 7, 2, 8, 5, 6, 0]), tensor([7, 7, 3, 6, 7, 6, 7, 8, 9, 2, 9, 0, 5, 1, 4, 2, 5, 4, 9, 2, 2, 8, 6, 4,\n",
      "        3, 4, 9, 7, 3, 5, 5, 4]), tensor([8, 5, 2, 3, 0, 4, 8, 6, 0, 6, 3, 8, 9, 6, 1, 3, 6, 2, 3, 0, 8, 3, 7, 4,\n",
      "        6, 1, 2, 4, 6, 4, 6, 7]), tensor([5, 3, 5, 9, 5, 6, 5, 5, 1, 9, 8, 3, 3, 3, 6, 8, 0, 0, 2, 9, 7, 7, 1, 3,\n",
      "        6, 6, 2, 4, 7, 1, 6, 4]), tensor([8, 2, 6, 5, 4, 2, 8, 7, 7, 3, 3, 7, 0, 7, 1, 3, 7, 8, 2, 3, 4, 0, 8, 1,\n",
      "        6, 1, 9, 4, 9, 9, 1, 7]), tensor([8, 3, 6, 0, 2, 4, 8, 6, 1, 2, 2, 4, 4, 7, 3, 4, 2, 5, 0, 7, 9, 4, 0, 9,\n",
      "        3, 9, 8, 2, 5, 6, 0, 3]), tensor([5, 8, 1, 6, 2, 2, 6, 4, 9, 5, 2, 0, 6, 6, 1, 2, 0, 9, 7, 3, 3, 4, 3, 6,\n",
      "        2, 3, 3, 6, 7, 3, 9, 4]), tensor([2, 1, 5, 4, 5, 3, 6, 5, 8, 4, 4, 8, 9, 8, 6, 2, 4, 4, 2, 4, 1, 6, 1, 3,\n",
      "        0, 7, 8, 8, 6, 5, 3, 1]), tensor([7, 5, 3, 3, 6, 1, 2, 2, 9, 4, 6, 6, 6, 4, 2, 6, 6, 3, 3, 8, 2, 8, 9, 4,\n",
      "        0, 7, 6, 4, 6, 9, 4, 9]), tensor([7, 9, 3, 7, 5, 7, 8, 1, 6, 0, 6, 4, 8, 9, 7, 9, 1, 2, 7, 6, 2, 0, 5, 7,\n",
      "        1, 8, 2, 2, 2, 2, 4, 4]), tensor([6, 1, 9, 0, 7, 1, 9, 1, 2, 8, 3, 6, 7, 2, 6, 6, 8, 0, 2, 0, 5, 0, 7, 5,\n",
      "        0, 9, 4, 3, 4, 2, 7, 1]), tensor([3, 1, 2, 6, 2, 9, 6, 3, 5, 1, 3, 1, 9, 3, 4, 5, 3, 6, 2, 6, 4, 6, 0, 5,\n",
      "        8, 2, 3, 4, 6, 7, 7, 8]), tensor([9, 3, 3, 8, 7, 6, 7, 9, 3, 2, 6, 3, 8, 0, 1, 1, 5, 9, 4, 2, 5, 7, 8, 1,\n",
      "        2, 9, 7, 7, 1, 0, 9, 3]), tensor([4, 9, 0, 7, 1, 8, 2, 7, 1, 2, 3, 8, 2, 4, 6, 9, 3, 0, 5, 8, 8, 2, 9, 4,\n",
      "        1, 6, 4, 1, 0, 1, 4, 1]), tensor([7, 5, 8, 4, 9, 1, 6, 5, 4, 4, 4, 6, 0, 4, 5, 6, 0, 4, 5, 2, 1, 3, 1, 6,\n",
      "        6, 2, 3, 8, 2, 8, 6, 7]), tensor([0, 4, 1, 8, 5, 0, 8, 2, 7, 2, 8, 7, 6, 4, 4, 9, 6, 4, 5, 0, 9, 5, 3, 6,\n",
      "        6, 8, 3, 3, 8, 1, 4, 0]), tensor([9, 7, 9, 4, 8, 9, 1, 3, 7, 3, 0, 2, 4, 7, 1, 0, 6, 8, 7, 2, 6, 4, 4, 4,\n",
      "        1, 5, 9, 3, 0, 3, 6, 5]), tensor([6, 6, 4, 3, 3, 8, 1, 1, 8, 5, 7, 9, 8, 7, 2, 0, 7, 6, 8, 0, 9, 7, 6, 1,\n",
      "        6, 2, 4, 8, 2, 6, 3, 6]), tensor([8, 4, 0, 8, 9, 2, 4, 5, 9, 3, 4, 4, 9, 2, 3, 7, 9, 7, 8, 3, 7, 7, 1, 1,\n",
      "        1, 6, 9, 5, 3, 8, 4, 2]), tensor([9, 0, 8, 3, 2, 2, 4, 7, 1, 4, 9, 0, 5, 8, 5, 4, 7, 2, 8, 5, 9, 0, 3, 6,\n",
      "        7, 1, 7, 0, 5, 4, 6, 5]), tensor([8, 3, 7, 1, 2, 6, 1, 9, 8, 2, 7, 1, 3, 7, 5, 9, 9, 1, 8, 4, 5, 7, 1, 9,\n",
      "        8, 1, 0, 0, 6, 1, 7, 1]), tensor([1, 8, 7, 1, 5, 2, 2, 3, 3, 1, 1, 4, 9, 4, 3, 7, 7, 6, 8, 9, 9, 6, 1, 3,\n",
      "        4, 0, 3, 5, 9, 2, 3, 5]), tensor([5, 1, 7, 7, 8, 7, 7, 3, 6, 4, 0, 4, 0, 4, 0, 2, 5, 5, 1, 2, 0, 9, 3, 7,\n",
      "        8, 4, 8, 3, 4, 7, 6, 7]), tensor([4, 8, 6, 3, 4, 4, 3, 6, 9, 6, 2, 4, 9, 1, 8, 1, 7, 5, 5, 6, 6, 2, 1, 6,\n",
      "        5, 4, 0, 0, 2, 7, 5, 6]), tensor([2, 5, 9, 4, 8, 2, 6, 4, 6, 2, 9, 0, 7, 7, 1, 4, 4, 0, 5, 0, 9, 9, 8, 8,\n",
      "        4, 0, 2, 4, 6, 6, 3, 2]), tensor([3, 7, 4, 9, 3, 4, 7, 7, 6, 3, 5, 5, 6, 4, 5, 9, 6, 3, 7, 5, 1, 9, 8, 8,\n",
      "        9, 9, 2, 7, 2, 2, 3, 8]), tensor([7, 4, 4, 5, 4, 8, 6, 1, 8, 9, 3, 1, 6, 8, 0, 5, 7, 5, 2, 3, 3, 9, 4, 3,\n",
      "        6, 0, 4, 8, 0, 4, 8, 4]), tensor([6, 3, 2, 7, 0, 2, 1, 3, 4, 4, 6, 5, 9, 0, 1, 6, 5, 1, 4, 4, 8, 4, 7, 7,\n",
      "        3, 8, 3, 1, 9, 8, 1, 3]), tensor([3, 7, 5, 0, 0, 7, 8, 9, 2, 0, 5, 8, 4, 6, 3, 8, 6, 0, 5, 2, 7, 1, 0, 3,\n",
      "        5, 4, 8, 6, 2, 1, 1, 7]), tensor([9, 6, 2, 7, 1, 4, 8, 2, 2, 0, 1, 4, 4, 9, 6, 8, 4, 5, 8, 0, 3, 9, 6, 9,\n",
      "        8, 7, 4, 2, 2, 5, 1, 7]), tensor([0, 7, 2, 9, 3, 7, 0, 9, 3, 8, 4, 4, 7, 2, 3, 6, 2, 0, 7, 8, 4, 2, 2, 5,\n",
      "        5, 6, 4, 5, 5, 8, 1, 3]), tensor([7, 4, 6, 9, 6, 8, 7, 2, 2, 1, 2, 7, 7, 4, 9, 8, 5, 1, 3, 3, 2, 3, 3, 3,\n",
      "        1, 9, 3, 5, 5, 2, 0, 7]), tensor([0, 2, 3, 1, 3, 3, 3, 8, 7, 2, 4, 9, 5, 4, 9, 6, 3, 4, 4, 6, 6, 8, 2, 2,\n",
      "        8, 6, 1, 4, 2, 7, 4, 4]), tensor([8, 6, 2, 4, 0, 6, 4, 6, 8, 3, 8, 2, 0, 4, 4, 8, 8, 4, 5, 2, 2, 3, 6, 1,\n",
      "        7, 0, 9, 1, 7, 6, 5, 2]), tensor([2, 7, 4, 8, 9, 6, 8, 6, 9, 5, 8, 9, 5, 6, 6, 0, 3, 2, 4, 4, 2, 7, 1, 3,\n",
      "        4, 6, 2, 5, 1, 6, 7, 3]), tensor([4, 8, 8, 4, 8, 7, 4, 1, 6, 5, 2, 7, 8, 5, 3, 8, 5, 2, 2, 8, 9, 8, 3, 3,\n",
      "        3, 8, 8, 3, 0, 7, 4, 4]), tensor([8, 1, 3, 6, 1, 9, 2, 1, 6, 2, 7, 9, 2, 6, 0, 4, 4, 2, 4, 5, 0, 2, 8, 3,\n",
      "        7, 4, 4, 0, 0, 5, 4, 8]), tensor([2, 6, 4, 0, 2, 1, 7, 9, 5, 2, 7, 2, 4, 7, 3, 3, 1, 3, 6, 6, 6, 1, 9, 6,\n",
      "        4, 7, 1, 0, 6, 5, 8, 4]), tensor([2, 7, 9, 5, 0, 7, 9, 5, 1, 2, 9, 8, 8, 3, 9, 9, 1, 4, 7, 8, 0, 1, 7, 4,\n",
      "        7, 1, 1, 5, 5, 6, 4, 5]), tensor([9, 5, 5, 2, 3, 9, 3, 8, 5, 4, 6, 3, 6, 5, 7, 6, 5, 2, 6, 4, 4, 7, 2, 0,\n",
      "        5, 1, 7, 2, 3, 6, 8, 9]), tensor([8, 7, 1, 2, 3, 2, 9, 7, 5, 6, 0, 0, 7, 3, 2, 4, 9, 3, 6, 4, 4, 3, 0, 6,\n",
      "        6, 3, 6, 1, 3, 7, 6, 5]), tensor([3, 9, 1, 1, 8, 2, 9, 5, 0, 7, 4, 6, 7, 1, 1, 5, 3, 8, 7, 8, 3, 8, 9, 6,\n",
      "        2, 1, 1, 3, 5, 6, 7, 1]), tensor([9, 9, 2, 2, 7, 0, 1, 3, 9, 6, 3, 7, 2, 8, 1, 8, 0, 7, 9, 8, 5, 3, 2, 6,\n",
      "        4, 6, 4, 5, 8, 3, 8, 7]), tensor([5, 7, 3, 7, 6, 7, 0, 2, 2, 5, 3, 5, 1, 1, 7, 7, 6, 6, 6, 4, 2, 8, 6, 3,\n",
      "        1, 4, 9, 9, 4, 5, 2, 2]), tensor([7, 8, 6, 7, 9, 1, 2, 9, 4, 9, 3, 4, 3, 3, 1, 8, 8, 5, 3, 8, 0, 2, 6, 0,\n",
      "        2, 0, 2, 7, 3, 2, 8, 3]), tensor([9, 7, 3, 1, 7, 5, 8, 8, 6, 3, 0, 4, 4, 8, 3, 7, 0, 6, 6, 7, 7, 3, 9, 4,\n",
      "        5, 9, 7, 3, 7, 2, 4, 5]), tensor([1, 4, 7, 4, 5, 0, 4, 2, 1, 4, 4, 8, 4, 7, 9, 4, 1, 1, 7, 2, 6, 5, 6, 3,\n",
      "        9, 7, 3, 3, 8, 8, 8, 7]), tensor([1, 1, 6, 4, 1, 4, 3, 4, 9, 5, 0, 0, 6, 9, 4, 9, 6, 6, 3, 8, 9, 2, 5, 4,\n",
      "        8, 6, 7, 2, 3, 6, 4, 5]), tensor([6, 1, 9, 6, 2, 2, 5, 9, 0, 8, 3, 6, 6, 6, 0, 4, 2, 4, 6, 5, 0, 2, 7, 8,\n",
      "        7, 4, 3, 6, 0, 5, 2, 4]), tensor([2, 9, 5, 2, 6, 7, 0, 1, 9, 5, 5, 0, 7, 7, 5, 0, 5, 0, 3, 4, 7, 9, 8, 2,\n",
      "        4, 7, 3, 3, 7, 7, 7, 8]), tensor([4, 9, 8, 7, 6, 8, 7, 5, 1, 3, 0, 2, 9, 9, 8, 4, 7, 0, 2, 4, 9, 3, 2, 1,\n",
      "        7, 7, 1, 8, 7, 2, 8, 6]), tensor([5, 7, 6, 7, 5, 5, 4, 0, 7, 6, 3, 2, 6, 2, 9, 9, 0, 6, 6, 8, 4, 8, 6, 4,\n",
      "        4, 1, 8, 2, 6, 5, 0, 4]), tensor([4, 3, 0, 0, 1, 6, 8, 4, 9, 0, 7, 6, 7, 7, 1, 5, 8, 7, 4, 9, 9, 1, 2, 4,\n",
      "        1, 1, 3, 8, 8, 1, 3, 7]), tensor([5, 2, 0, 8, 4, 8, 9, 4, 1, 3, 4, 9, 8, 1, 3, 3, 8, 6, 9, 9, 7, 6, 6, 4,\n",
      "        4, 3, 1, 7, 9, 4, 2, 0]), tensor([3, 6, 4, 8, 1, 7, 2, 4, 2, 2, 3, 8, 7, 1, 8, 7, 5, 9, 9, 6, 6, 4, 9, 6,\n",
      "        4, 3, 5, 5, 0, 6, 1, 0]), tensor([3, 5, 7, 3, 7, 4, 5, 7, 9, 8, 9, 1, 4, 8, 3, 2, 3, 6, 0, 4, 3, 8, 6, 8,\n",
      "        6, 0, 8, 8, 4, 2, 9, 3]), tensor([2, 0, 8, 5, 9, 6, 3, 1, 1, 9, 5, 1, 3, 3, 6, 0, 8, 4, 1, 3, 8, 8, 6, 7,\n",
      "        5, 6, 2, 7, 3, 3, 2, 4]), tensor([6, 5, 5, 6, 2, 3, 9, 1, 1, 7, 3, 8, 7, 2, 2, 9, 3, 9, 9, 0, 1, 7, 1, 4,\n",
      "        8, 1, 2, 9, 3, 4, 0, 6]), tensor([7, 6, 9, 9, 5, 5, 7, 0, 9, 3, 3, 6, 9, 8, 4, 2, 6, 3, 9, 4, 3, 2, 7, 4,\n",
      "        0, 6, 8, 1, 8, 7, 4, 4]), tensor([5, 2, 2, 9, 3, 7, 4, 9, 1, 3, 2, 8, 8, 7, 7, 7, 7, 2, 6, 0, 7, 5, 8, 5,\n",
      "        6, 0, 4, 4, 9, 2, 4, 3]), tensor([1, 9, 3, 1, 2, 2, 2, 3, 7, 5, 7, 4, 4, 8, 1, 2, 8, 5, 4, 2, 8, 1, 8, 9,\n",
      "        4, 6, 6, 8, 0, 1, 8, 7]), tensor([4, 4, 7, 7, 6, 0, 4, 3, 4, 7, 8, 7, 2, 8, 0, 8, 7, 4, 4, 2, 7, 0, 9, 9,\n",
      "        3, 1, 5, 9, 3, 1, 6, 3]), tensor([3, 5, 9, 7, 9, 8, 3, 8, 9, 3, 7, 9, 3, 4, 6, 0, 5, 7, 7, 2, 4, 8, 3, 1,\n",
      "        1, 9, 4, 3, 9, 5, 8, 7]), tensor([2, 4, 9, 0, 2, 1, 9, 7, 1, 5, 0, 5, 5, 0, 3, 0, 6, 3, 3, 7, 4, 2, 6, 8,\n",
      "        5, 9, 2, 1, 3, 5, 5, 8]), tensor([5, 3, 7, 4, 4, 3, 9, 6, 0, 3, 9, 1, 4, 3, 1, 5, 3, 8, 5, 1, 1, 2, 9, 4,\n",
      "        0, 5, 2, 8, 6, 2, 9, 8]), tensor([2, 4, 8, 3, 8, 0, 4, 3, 6, 4, 8, 5, 4, 9, 6, 9, 5, 8, 6, 9, 1, 2, 7, 2,\n",
      "        1, 2, 6, 3, 4, 5, 2, 4]), tensor([8, 7, 5, 2, 6, 6, 8, 3, 3, 1, 9, 2, 7, 7, 2, 6, 2, 8, 3, 4, 8, 5, 6, 8,\n",
      "        3, 3, 1, 4, 4, 0, 4, 9]), tensor([6, 4, 1, 9, 9, 8, 1, 4, 8, 3, 3, 3, 8, 5, 9, 2, 4, 8, 7, 6, 3, 6, 4, 4,\n",
      "        5, 7, 5, 0, 7, 9, 1, 2]), tensor([4, 8, 9, 3, 5, 2, 6, 4, 6, 7, 8, 9, 1, 8, 2, 5, 5, 3, 1, 1, 8, 8, 3, 6,\n",
      "        7, 0, 1, 8, 2, 6, 2, 9]), tensor([8, 9, 8, 8, 6, 9, 1, 8, 2, 2, 7, 7, 0, 5, 1, 1, 0, 6, 4, 3, 0, 2, 3, 5,\n",
      "        1, 2, 3, 3, 4, 2, 5, 6]), tensor([9, 8, 3, 3, 1, 0, 2, 1, 2, 4, 2, 8, 4, 7, 0, 9, 7, 5, 3, 6, 6, 5, 6, 4,\n",
      "        9, 7, 3, 6, 1, 9, 6, 1]), tensor([6, 4, 5, 4, 1, 2, 8, 5, 9, 4, 5, 3, 4, 8, 3, 6, 6, 8, 9, 0, 5, 6, 2, 4,\n",
      "        7, 3, 2, 2, 8, 7, 9, 2]), tensor([3, 1, 6, 3, 6, 4, 7, 4, 1, 2, 4, 4, 3, 2, 8, 5, 6, 8, 5, 6, 7, 8, 1, 5,\n",
      "        9, 8, 6, 9, 0, 9, 3, 7]), tensor([5, 7, 9, 6, 0, 7, 1, 5, 5, 9, 5, 4, 4, 2, 4, 5, 9, 7, 4, 2, 6, 9, 9, 3,\n",
      "        2, 1, 3, 7, 1, 8, 7, 7]), tensor([1, 8, 9, 3, 7, 7, 7, 1, 7, 4, 4, 2, 2, 4, 5, 2, 8, 9, 6, 8, 0, 0, 7, 7,\n",
      "        5, 0, 1, 9, 4, 6, 4, 9]), tensor([2, 6, 6, 9, 1, 0, 5, 8, 9, 2, 8, 2, 3, 6, 3, 7, 4, 8, 7, 4, 1, 7, 8, 0,\n",
      "        4, 0, 4, 4, 1, 0, 6, 9]), tensor([2, 9, 4, 5, 2, 3, 3, 8, 8, 2, 0, 7, 2, 4, 0, 4, 1, 3, 8, 1, 7, 7, 2, 6,\n",
      "        3, 1, 2, 7, 2, 6, 6, 6]), tensor([2, 7, 2, 2, 3, 2, 3, 0, 9, 7, 3, 5, 4, 9, 2, 4, 5, 0, 6, 8, 4, 0, 4, 4,\n",
      "        6, 4, 1, 6, 4, 6, 7, 1]), tensor([0, 4, 3, 1, 1, 5, 6, 3, 8, 3, 4, 1, 7, 2, 9, 8, 8, 2, 5, 5, 6, 7, 2, 9,\n",
      "        1, 0, 5, 3, 7, 2, 1, 1]), tensor([8, 6, 2, 0, 5, 9, 6, 3, 8, 1, 3, 4, 6, 2, 2, 8, 3, 4, 2, 6, 9, 2, 7, 9,\n",
      "        5, 7, 2, 1, 5, 8, 8, 2]), tensor([2, 4, 2, 3, 1, 6, 4, 0, 3, 9, 8, 4, 0, 8, 4, 3, 9, 7, 1, 1, 7, 5, 1, 9,\n",
      "        2, 4, 2, 3, 8, 6, 7, 1]), tensor([3, 0, 7, 4, 5, 8, 1, 4, 2, 3, 4, 8, 8, 8, 4, 8, 1, 8, 9, 3, 0, 6, 6, 2,\n",
      "        9, 7, 3, 7, 0, 1, 4, 5]), tensor([9, 4, 0, 5, 0, 5, 8, 7, 4, 6, 2, 8, 6, 4, 9, 3, 6, 5, 8, 1, 1, 2, 6, 6,\n",
      "        4, 7, 4, 2, 3, 3, 9, 7]), tensor([4, 4, 3, 1, 8, 1, 5, 4, 0, 6, 7, 9, 3, 2, 7, 3, 7, 4, 1, 6, 2, 8, 4, 7,\n",
      "        6, 4, 9, 3, 2, 5, 6, 8]), tensor([6, 2, 6, 7, 4, 4, 1, 1, 0, 3, 5, 5, 2, 6, 4, 1, 8, 8, 4, 4, 3, 4, 4, 7,\n",
      "        6, 3, 9, 6, 6, 6, 6, 4]), tensor([5, 4, 9, 8, 3, 6, 4, 6, 4, 9, 4, 3, 5, 1, 2, 6, 0, 1, 1, 0, 2, 6, 5, 7,\n",
      "        0, 1, 2, 4, 6, 7, 4, 1]), tensor([1, 7, 7, 8, 7, 6, 5, 3, 7, 2, 0, 9, 4, 1, 4, 2, 2, 5, 8, 5, 2, 7, 8, 2,\n",
      "        6, 9, 0, 8, 1, 3, 8, 2]), tensor([8, 2, 0, 2, 3, 3, 7, 8, 2, 2, 6, 6, 6, 4, 5, 4, 4, 3, 1, 9, 7, 6, 6, 6,\n",
      "        1, 4, 2, 7, 7, 1, 8, 3]), tensor([0, 7, 9, 8, 7, 2, 7, 9, 7, 4, 2, 6, 6, 3, 3, 9, 1, 1, 4, 8, 0, 9, 7, 5,\n",
      "        4, 8, 8, 3, 6, 3, 6, 4]), tensor([2, 2, 5, 9, 2, 4, 8, 4, 2, 8, 3, 0, 2, 1, 3, 6, 1, 8, 4, 1, 5, 8, 1, 5,\n",
      "        8, 0, 7, 7, 7, 5, 6, 5]), tensor([5, 3, 6, 7, 8, 4, 5, 1, 6, 2, 2, 4, 3, 7, 7, 9, 7, 2, 5, 8, 5, 8, 5, 3,\n",
      "        0, 9, 7, 4, 0, 6, 8, 4]), tensor([6, 5, 4, 7, 6, 5, 4, 7, 0, 0, 4, 0, 4, 7, 8, 1, 3, 8, 1, 5, 3, 6, 1, 1,\n",
      "        4, 6, 9, 8, 2, 8, 2, 7]), tensor([7, 1, 3, 6, 3, 0, 7, 8, 7, 6, 5, 2, 6, 7, 5, 5, 8, 9, 7, 3, 2, 4, 8, 3,\n",
      "        9, 5, 7, 6, 2, 6, 7, 3]), tensor([8, 5, 1, 8, 9, 2, 2, 1, 4, 2, 7, 4, 0, 4, 4, 8, 5, 7, 9, 2, 2, 8, 2, 6,\n",
      "        0, 6, 3, 3, 1, 5, 2, 7]), tensor([5, 3, 7, 2, 2, 3, 5, 1, 1, 2, 7, 3, 8, 8, 7, 5, 4, 9, 5, 5, 4, 6, 7, 1,\n",
      "        4, 2, 0, 9, 7, 6, 6, 8]), tensor([6, 5, 7, 8, 2, 2, 9, 6, 6, 2, 8, 1, 6, 4, 8, 0, 7, 5, 8, 9, 9, 7, 5, 6,\n",
      "        7, 6, 2, 2, 6, 3, 4, 2]), tensor([0, 8, 9, 4, 5, 4, 4, 1, 2, 8, 9, 0, 5, 2, 2, 8, 6, 3, 8, 6, 8, 7, 2, 7,\n",
      "        2, 3, 2, 7, 1, 2, 3, 4]), tensor([2, 4, 6, 9, 9, 2, 8, 0, 4, 0, 6, 1, 9, 3, 9, 6, 8, 6, 9, 4, 7, 9, 1, 5,\n",
      "        8, 1, 0, 6, 2, 4, 8, 6]), tensor([3, 3, 0, 0, 6, 3, 3, 1, 4, 8, 4, 9, 3, 0, 4, 5, 8, 8, 8, 6, 1, 2, 8, 9,\n",
      "        8, 5, 8, 7, 6, 7, 2, 7]), tensor([3, 5, 5, 8, 3, 4, 8, 5, 9, 9, 4, 0, 4, 7, 1, 8, 8, 8, 7, 2, 0, 9, 7, 9,\n",
      "        6, 9, 4, 1, 4, 7, 2, 5]), tensor([2, 6, 2, 9, 0, 7, 1, 9, 7, 2, 5, 3, 8, 4, 9, 4, 7, 5, 7, 5, 1, 3, 3, 2,\n",
      "        0, 7, 5, 3, 5, 5, 8, 7]), tensor([9, 4, 6, 5, 5, 3, 4, 8, 3, 0, 9, 2, 3, 2, 2, 9, 4, 3, 9, 1, 4, 8, 1, 4,\n",
      "        9, 8, 2, 6, 7, 2, 6, 2]), tensor([2, 3, 2, 3, 0, 5, 2, 3, 2, 8, 8, 0, 7, 4, 6, 4, 8, 3, 5, 1, 3, 9, 1, 6,\n",
      "        9, 6, 7, 4, 2, 6, 2, 5]), tensor([6, 3, 6, 4, 5, 1, 7, 9, 4, 6, 7, 4, 0, 2, 8, 1, 0, 9, 9, 7, 8, 4, 6, 9,\n",
      "        7, 7, 5, 8, 6, 7, 5, 3]), tensor([5, 5, 0, 8, 9, 7, 2, 1, 4, 7, 1, 3, 4, 3, 4, 2, 9, 4, 7, 7, 6, 5, 0, 8,\n",
      "        8, 4, 8, 5, 6, 0, 7, 3]), tensor([6, 6, 4, 5, 2, 0, 7, 7, 7, 1, 8, 2, 4, 8, 5, 4, 4, 8, 7, 7, 6, 7, 1, 6,\n",
      "        9, 5, 3, 9, 3, 5, 0, 7]), tensor([4, 2, 0, 1, 4, 5, 9, 3, 2, 8, 5, 7, 3, 1, 4, 6, 8, 1, 8, 5, 6, 9, 3, 3,\n",
      "        8, 6, 4, 2, 0, 6, 4, 2]), tensor([3, 4, 5, 9, 1, 1, 9, 4, 7, 0, 3, 1, 6, 0, 7, 7, 0, 7, 8, 0, 5, 6, 4, 3,\n",
      "        8, 9, 7, 2, 9, 5, 3, 7]), tensor([2, 4, 1, 9, 7, 8, 1, 3, 9, 3, 6, 7, 8, 6, 5, 6, 7, 9, 9, 7, 0, 4, 2, 3,\n",
      "        4, 0, 7, 5, 3, 9, 4, 8]), tensor([8, 6, 0, 4, 1, 9, 3, 3, 5, 1, 5, 5, 9, 2, 8, 5, 5, 9, 5, 6, 6, 7, 3, 5,\n",
      "        4, 2, 0, 9, 4, 8, 1, 9]), tensor([2, 6, 2, 4, 6, 8, 7, 7, 3, 9, 3, 9, 6, 8, 2, 6, 9, 0, 3, 2, 5, 5, 6, 4,\n",
      "        6, 4, 1, 3, 1, 2, 7, 8]), tensor([8, 9, 7, 6, 5, 7, 3, 6, 0, 4, 2, 3, 6, 8, 8, 8, 0, 2, 3, 2, 8, 2, 1, 2,\n",
      "        1, 1, 6, 3, 2, 2, 8, 0]), tensor([0, 4, 1, 3, 2, 5, 0, 6, 7, 9, 9, 2, 5, 6, 9, 9, 8, 4, 8, 3, 2, 0, 9, 6,\n",
      "        2, 4, 3, 8, 2, 6, 6, 7]), tensor([6, 4, 7, 4, 7, 8, 8, 2, 4, 8, 8, 0, 1, 5, 8, 9, 8, 7, 4, 0, 3, 0, 0, 0,\n",
      "        7, 3, 9, 9, 1, 5, 9, 4]), tensor([1, 7, 6, 1, 0, 5, 3, 8, 2, 4, 1, 7, 0, 5, 0, 4, 1, 7, 1, 7, 9, 4, 3, 9,\n",
      "        2, 2, 9, 3, 5, 8, 8, 4]), tensor([4, 7, 7, 4, 6, 0, 5, 5, 3, 6, 2, 7, 6, 8, 5, 6, 9, 1, 3, 1, 4, 5, 9, 3,\n",
      "        7, 0, 3, 5, 6, 1, 5, 8]), tensor([5, 4, 6, 9, 1, 9, 1, 7, 1, 8, 0, 3, 4, 0, 2, 0, 3, 3, 4, 8, 0, 3, 4, 8,\n",
      "        1, 4, 3, 3, 2, 2, 1, 8]), tensor([0, 2, 0, 6, 4, 2, 3, 9, 2, 3, 0, 4, 5, 7, 1, 6, 1, 0, 0, 0, 8, 5, 1, 6,\n",
      "        5, 2, 8, 1, 7, 1, 6, 4]), tensor([7, 4, 6, 1, 5, 6, 6, 5, 8, 7, 7, 7, 2, 7, 5, 6, 4, 2, 0, 4, 6, 9, 9, 5,\n",
      "        8, 0, 4, 4, 1, 3, 7, 3]), tensor([6, 0, 9, 8, 5, 3, 6, 7, 1, 9, 7, 8, 2, 6, 9, 9, 1, 2, 2, 3, 2, 4, 5, 1,\n",
      "        6, 2, 8, 3, 4, 8, 3, 4]), tensor([0, 0, 3, 6, 7, 2, 4, 1, 7, 3, 6, 7, 9, 9, 3, 8, 8, 9, 1, 4, 6, 1, 2, 8,\n",
      "        3, 5, 9, 8, 0, 6, 2, 7]), tensor([2, 7, 5, 0, 8, 7, 8, 1, 4, 9, 1, 5, 5, 9, 9, 4, 4, 2, 1, 6, 0, 8, 7, 6,\n",
      "        1, 7, 5, 2, 9, 0, 3, 4]), tensor([4, 8, 4, 0, 2, 7, 3, 7, 3, 6, 3, 8, 6, 3, 2, 3, 2, 3, 5, 8, 0, 7, 0, 8,\n",
      "        9, 0, 2, 1, 2, 5, 1, 3]), tensor([4, 7, 6, 4, 9, 9, 1, 4, 3, 1, 6, 8, 0, 3, 0, 2, 2, 0, 4, 3, 6, 7, 2, 3,\n",
      "        4, 0, 8, 5, 4, 0, 1, 0]), tensor([2, 2, 6, 7, 9, 6, 2, 4, 3, 6, 8, 7, 4, 4, 0, 3, 3, 5, 2, 5, 1, 5, 5, 1,\n",
      "        7, 7, 2, 1, 8, 8, 0, 9]), tensor([6, 6, 0, 3, 2, 1, 8, 3, 4, 2, 1, 2, 0, 3, 0, 8, 5, 1, 7, 0, 2, 6, 3, 9,\n",
      "        8, 2, 8, 1, 0, 2, 6, 2]), tensor([3, 3, 7, 5, 0, 6, 2, 0, 8, 2, 4, 1, 8, 4, 8, 2, 9, 2, 6, 8, 5, 2, 7, 3,\n",
      "        2, 4, 6, 6, 4, 8, 5, 4]), tensor([1, 5, 2, 8, 2, 9, 3, 6, 3, 6, 4, 2, 7, 7, 9, 3, 2, 9, 8, 3, 5, 8, 7, 7,\n",
      "        0, 7, 7, 0, 7, 7, 2, 9]), tensor([5, 4, 2, 2, 4, 8, 0, 1, 9, 8, 6, 6, 4, 4, 3, 8, 0, 7, 6, 4, 3, 8, 1, 3,\n",
      "        8, 7, 3, 6, 3, 2, 8, 8]), tensor([9, 1, 3, 2, 1, 4, 8, 3, 4, 6, 7, 3, 9, 2, 9, 6, 4, 6, 5, 7, 0, 8, 3, 7,\n",
      "        5, 4, 9, 5, 7, 3, 2, 0]), tensor([9, 8, 7, 3, 7, 7, 4, 7, 5, 8, 8, 2, 4, 6, 2, 3, 8, 9, 7, 1, 3, 4, 2, 9,\n",
      "        7, 1, 4, 2, 6, 0, 7, 5]), tensor([4, 5, 2, 8, 7, 2, 9, 9, 0, 4, 0, 1, 5, 5, 5, 0, 8, 1, 5, 7, 7, 7, 9, 8,\n",
      "        0, 1, 3, 4, 6, 0, 9, 3]), tensor([2, 4, 4, 8, 2, 5, 4, 9, 0, 2, 8, 4, 8, 6, 3, 6, 1, 4, 3, 3, 8, 2, 9, 9,\n",
      "        0, 7, 9, 5, 3, 1, 7, 2]), tensor([8, 4, 7, 2, 1, 6, 0, 8, 8, 1, 9, 3, 6, 8, 3, 8, 4, 2, 5, 6, 9, 6, 1, 2,\n",
      "        0, 7, 9, 0, 1, 3, 7, 5]), tensor([3, 2, 1, 1, 3, 8, 3, 9, 5, 4, 4, 3, 7, 7, 7, 8, 3, 9, 3, 9, 2, 6, 0, 8,\n",
      "        6, 6, 7, 8, 6, 3, 4, 9]), tensor([0, 4, 6, 2, 7, 9, 6, 1, 3, 2, 0, 8, 8, 7, 3, 4, 7, 5, 7, 6, 1, 8, 1, 4,\n",
      "        9, 8, 9, 3, 1, 0, 6, 0]), tensor([3, 0, 6, 4, 1, 7, 7, 1, 2, 2, 5, 3, 4, 1, 7, 6, 7, 0, 2, 8, 8, 1, 4, 9,\n",
      "        7, 6, 3, 4, 9, 3, 9, 8]), tensor([5, 3, 8, 4, 7, 1, 4, 1, 9, 4, 8, 3, 2, 4, 8, 1, 1, 5, 8, 6, 1, 6, 2, 9,\n",
      "        0, 9, 5, 3, 5, 6, 6, 5]), tensor([6, 8, 3, 8, 0, 2, 9, 9, 1, 5, 3, 2, 6, 5, 3, 6, 3, 6, 7, 4, 0, 4, 1, 9,\n",
      "        5, 1, 7, 5, 5, 5, 9, 6]), tensor([8, 4, 6, 6, 4, 6, 2, 1, 1, 4, 2, 8, 2, 9, 0, 5, 8, 1, 3, 8, 3, 2, 4, 8,\n",
      "        6, 6, 9, 3, 4, 7, 7, 2]), tensor([2, 2, 6, 8, 9, 4, 6, 4, 7, 7, 9, 7, 3, 6, 7, 6, 7, 3, 0, 2, 0, 9, 4, 3,\n",
      "        3, 1, 9, 5, 8, 2, 3, 5]), tensor([0, 6, 4, 5, 2, 3, 5, 0, 7, 7, 6, 6, 9, 7, 1, 2, 2, 5, 3, 0, 6, 1, 4, 0,\n",
      "        5, 4, 8, 7, 7, 3, 0, 8]), tensor([3, 5, 2, 4, 9, 8, 9, 9, 8, 1, 7, 5, 0, 1, 5, 4, 3, 3, 2, 4, 2, 3, 6, 7,\n",
      "        8, 6, 9, 6, 3, 0, 4, 2]), tensor([7, 4, 5, 7, 3, 9, 8, 6, 6, 2, 2, 3, 1, 0, 7, 9, 6, 6, 4, 1, 1, 4, 7, 2,\n",
      "        3, 5, 9, 6, 4, 2, 4, 8]), tensor([7, 9, 2, 6, 9, 8, 3, 5, 3, 1, 4, 5, 0, 1, 8, 5, 8, 4, 6, 7, 8, 9, 2, 4,\n",
      "        6, 4, 2, 6, 4, 7, 9, 1]), tensor([9, 7, 4, 5, 6, 1, 2, 2, 5, 6, 1, 5, 8, 6, 4, 4, 9, 4, 7, 8, 3, 0, 2, 7,\n",
      "        7, 5, 9, 5, 7, 3, 8, 7]), tensor([5, 9, 7, 8, 2, 1, 0, 8, 6, 2, 3, 7, 9, 2, 2, 5, 2, 3, 2, 1, 1, 7, 0, 5,\n",
      "        5, 4, 7, 8, 9, 3, 5, 4]), tensor([6, 6, 5, 7, 8, 4, 8, 8, 7, 2, 9, 1, 9, 2, 9, 7, 3, 9, 7, 3, 2, 6, 2, 8,\n",
      "        7, 9, 2, 0, 2, 4, 1, 0]), tensor([3, 8, 4, 8, 4, 4, 6, 3, 5, 7, 7, 8, 5, 6, 3, 2, 1, 8, 3, 6, 7, 4, 2, 3,\n",
      "        0, 8, 3, 3, 4, 9, 6, 9]), tensor([7, 0, 1, 4, 3, 6, 3, 8, 6, 3, 5, 1, 3, 4, 1, 9, 3, 5, 0, 4, 2, 6, 1, 5,\n",
      "        3, 2, 8, 5, 7, 8, 6, 1]), tensor([1, 0, 6, 2, 5, 9, 6, 7, 2, 3, 6, 4, 6, 3, 3, 9, 4, 7, 0, 8, 6, 5, 6, 2,\n",
      "        0, 1, 3, 9, 4, 2, 5, 6]), tensor([8, 3, 2, 5, 6, 0, 6, 0, 6, 9, 1, 3, 3, 6, 5, 8, 6, 6, 1, 4, 9, 7, 2, 4,\n",
      "        7, 8, 7, 1, 4, 8, 7, 9]), tensor([1, 7, 0, 2, 9, 2, 1, 6, 7, 6, 4, 5, 2, 7, 4, 1, 4, 5, 9, 1, 5, 7, 7, 3,\n",
      "        8, 1, 9, 4, 5, 3, 0, 7]), tensor([6, 9, 5, 1, 3, 6, 9, 1, 4, 4, 5, 3, 4, 9, 9, 1, 2, 2, 2, 4, 6, 8, 7, 9,\n",
      "        9, 4, 8, 8, 9, 0, 7, 6]), tensor([4, 0, 8, 8, 4, 2, 0, 1, 2, 0, 2, 1, 5, 4, 6, 0, 0, 3, 4, 5, 6, 8, 7, 6,\n",
      "        0, 3, 1, 8, 4, 8, 9, 9]), tensor([5, 5, 8, 2, 5, 4, 4, 2, 5, 4, 7, 2, 7, 1, 0, 2, 4, 6, 9, 8, 0, 4, 9, 1,\n",
      "        9, 2, 7, 3, 5, 4, 3, 4]), tensor([2, 1, 0, 2, 4, 3, 7, 8, 4, 5, 5, 9, 0, 4, 3, 4, 5, 5, 5, 7, 6, 1, 3, 3,\n",
      "        7, 0, 7, 7, 6, 8, 3, 5]), tensor([5, 8, 1, 9, 4, 6, 2, 2, 3, 6, 3, 3, 2, 5, 3, 6, 1, 1, 7, 8, 2, 5, 9, 0,\n",
      "        8, 3, 4, 4, 2, 7, 0, 7]), tensor([3, 3, 2, 3, 7, 1, 6, 2, 3, 4, 0, 6, 6, 4, 8, 5, 0, 3, 6, 4, 7, 3, 3, 6,\n",
      "        0, 2, 4, 4, 1, 8, 1, 9]), tensor([3, 2, 2, 4, 2, 3, 3, 3, 5, 3, 5, 8, 3, 9, 7, 4, 0, 6, 1, 6, 1, 6, 7, 7,\n",
      "        4, 8, 9, 6, 1, 5, 4, 9]), tensor([4, 7, 9, 7, 9, 6, 1, 0, 9, 9, 5, 1, 7, 2, 9, 3, 5, 6, 8, 1, 7, 4, 3, 8,\n",
      "        4, 7, 8, 8, 9, 6, 8, 4]), tensor([5, 6, 4, 5, 9, 6, 0, 5, 3, 1, 7, 4, 6, 7, 4, 5, 8, 3, 7, 2, 7, 1, 8, 8,\n",
      "        8, 7, 8, 6, 6, 5, 7, 9]), tensor([8, 5, 6, 0, 6, 2, 3, 2, 8, 9, 9, 1, 9, 5, 8, 4, 4, 2, 4, 6, 7, 2, 8, 3,\n",
      "        0, 7, 8, 8, 3, 9, 9, 5]), tensor([9, 2, 6, 9, 7, 8, 7, 4, 7, 9, 2, 3, 9, 5, 3, 5, 0, 1, 2, 9, 1, 2, 8, 5,\n",
      "        1, 7, 9, 0, 3, 3, 6, 9]), tensor([3, 2, 3, 0, 0, 2, 9, 7, 3, 9, 8, 5, 6, 8, 5, 9, 5, 2, 4, 2, 5, 4, 2, 5,\n",
      "        4, 2, 7, 1, 6, 6, 3, 4]), tensor([5, 6, 4, 6, 7, 8, 8, 1, 7, 2, 3, 4, 2, 4, 1, 8, 0, 7, 2, 7, 3, 2, 9, 7,\n",
      "        4, 6, 6, 3, 7, 1, 4, 7]), tensor([6, 1, 7, 3, 6, 3, 4, 6, 8, 0, 4, 1, 7, 9, 6, 4, 9, 2, 6, 7, 1, 7, 5, 2,\n",
      "        9, 8, 2, 4, 6, 3, 3, 2]), tensor([2, 8, 3, 6, 8, 1, 8, 3, 0, 1, 4, 7, 3, 7, 7, 3, 3, 9, 9, 6, 4, 2, 5, 8,\n",
      "        9, 3, 3, 7, 4, 1, 6, 9]), tensor([4, 3, 2, 6, 1, 8, 3, 4, 4, 0, 2, 1, 9, 0, 5, 4, 5, 3, 6, 4, 1, 4, 0, 7,\n",
      "        3, 6, 2, 3, 4, 4, 5, 2]), tensor([9, 6, 8, 0, 4, 6, 6, 1, 7, 5, 2, 3, 3, 2, 0, 3, 8, 2, 6, 2, 5, 1, 4, 2,\n",
      "        2, 1, 7, 3, 4, 6, 9, 7]), tensor([8, 0, 6, 3, 4, 6, 8, 1, 2, 3, 3, 1, 9, 5, 3, 2, 6, 9, 1, 9, 2, 3, 6, 4,\n",
      "        2, 4, 8, 6, 9, 4, 7, 0]), tensor([3, 1, 3, 8, 3, 4, 1, 2, 6, 3, 6, 7, 7, 8, 3, 2, 9, 5, 4, 6, 9, 5, 2, 3,\n",
      "        8, 5, 3, 8, 3, 7, 9, 0]), tensor([2, 5, 1, 0, 5, 6, 3, 9, 7, 9, 6, 6, 7, 1, 2, 0, 8, 6, 2, 2, 7, 8, 6, 2,\n",
      "        4, 6, 9, 7, 3, 2, 5, 4]), tensor([5, 1, 9, 5, 0, 5, 8, 4, 1, 7, 9, 3, 3, 3, 4, 9, 1, 3, 3, 9, 5, 6, 8, 2,\n",
      "        4, 1, 4, 0, 6, 7, 8, 0]), tensor([6, 1, 2, 1, 6, 9, 8, 1, 3, 7, 3, 7, 9, 5, 4, 2, 3, 6, 8, 8, 5, 5, 1, 8,\n",
      "        8, 5, 7, 9, 7, 0, 4, 4]), tensor([2, 7, 9, 4, 6, 7, 5, 4, 7, 6, 1, 4, 4, 2, 0, 9, 6, 3, 5, 1, 1, 7, 8, 3,\n",
      "        2, 6, 2, 0, 6, 4, 5, 5]), tensor([6, 4, 6, 4, 6, 1, 5, 4, 7, 8, 6, 7, 7, 0, 8, 4, 6, 6, 9, 1, 2, 1, 7, 4,\n",
      "        3, 4, 9, 9, 6, 4, 4, 3]), tensor([3, 3, 7, 5, 2, 7, 8, 9, 9, 2, 7, 4, 7, 7, 5, 8, 7, 4, 4, 9, 0, 1, 8, 7,\n",
      "        5, 4, 5, 3, 7, 4, 6, 5]), tensor([5, 6, 7, 9, 0, 9, 5, 9, 4, 0, 1, 7, 8, 3, 5, 1, 8, 6, 5, 0, 2, 3, 7, 1,\n",
      "        0, 1, 0, 7, 7, 6, 0, 4]), tensor([7, 0, 0, 5, 3, 4, 8, 2, 5, 2, 7, 3, 2, 3, 2, 7, 8, 0, 7, 6, 9, 5, 8, 6,\n",
      "        7, 3, 5, 0, 9, 7, 1, 0]), tensor([6, 5, 7, 8, 4, 3, 1, 9, 0, 2, 9, 1, 3, 4, 4, 3, 3, 6, 2, 3, 8, 6, 4, 9,\n",
      "        5, 6, 1, 8, 4, 4, 3, 4]), tensor([2, 9, 4, 3, 7, 9, 6, 3, 5, 4, 8, 9, 8, 8, 3, 0, 1, 2, 2, 4, 1, 9, 6, 4,\n",
      "        6, 5, 5, 4, 6, 2, 6, 1]), tensor([4, 9, 9, 7, 6, 1, 2, 6, 0, 2, 4, 2, 5, 9, 4, 8, 4, 6, 1, 5, 9, 4, 1, 8,\n",
      "        9, 3, 1, 7, 1, 3, 3, 9]), tensor([1, 3, 8, 9, 9, 1, 9, 4, 0, 7, 8, 5, 5, 5, 3, 8, 9, 4, 7, 4, 4, 9, 2, 6,\n",
      "        1, 5, 0, 7, 3, 6, 6, 7]), tensor([1, 1, 8, 2, 8, 7, 2, 0, 8, 2, 6, 6, 5, 1, 6, 8, 2, 3, 7, 2, 3, 9, 7, 6,\n",
      "        1, 3, 9, 2, 4, 0, 3, 7]), tensor([8, 1, 1, 8, 5, 3, 5, 4, 6, 6, 1, 8, 2, 3, 6, 2, 5, 9, 9, 4, 8, 4, 1, 7,\n",
      "        9, 0, 8, 7, 3, 3, 8, 4]), tensor([1, 8, 2, 7, 6, 4, 8, 9, 2, 5, 3, 2, 6, 1, 1, 0, 6, 1, 6, 7, 8, 5, 9, 1,\n",
      "        5, 0, 9, 4, 2, 1, 7, 2]), tensor([9, 8, 8, 9, 5, 5, 3, 8, 2, 0, 3, 6, 1, 1, 9, 0, 9, 7, 5, 3, 2, 9, 5, 5,\n",
      "        4, 2, 9, 2, 3, 0, 6, 4]), tensor([1, 7, 4, 7, 2, 8, 5, 8, 6, 0, 1, 3, 2, 2, 3, 6, 6, 0, 2, 8, 3, 2, 8, 6,\n",
      "        1, 8, 4, 5, 4, 2, 3, 9]), tensor([0, 4, 0, 4, 5, 4, 2, 7, 3, 7, 3, 3, 6, 9, 4, 8, 5, 6, 0, 3, 6, 7, 2, 5,\n",
      "        3, 1, 1, 9, 7, 5, 4, 2]), tensor([1, 6, 4, 8, 9, 8, 5, 5, 8, 3, 0, 9, 6, 4, 8, 3, 8, 4, 9, 2, 3, 6, 6, 2,\n",
      "        8, 4, 1, 3, 7, 2, 6, 2]), tensor([2, 3, 2, 4, 0, 8, 3, 5, 1, 4, 3, 8, 4, 1, 4, 1, 4, 9, 6, 7, 9, 6, 8, 0,\n",
      "        3, 4, 3, 8, 4, 7, 5, 4]), tensor([1, 1, 2, 6, 7, 7, 0, 1, 0, 5, 2, 8, 9, 7, 9, 1, 1, 3, 3, 5, 6, 7, 4, 9,\n",
      "        4, 9, 3, 6, 6, 2, 8, 7]), tensor([2, 5, 9, 8, 3, 8, 1, 3, 3, 3, 5, 2, 5, 4, 4, 9, 2, 7, 1, 4, 8, 3, 7, 7,\n",
      "        6, 7, 9, 4, 7, 7, 0, 1]), tensor([6, 1, 2, 8, 2, 2, 7, 6, 7, 1, 8, 7, 5, 1, 3, 1, 0, 3, 6, 5, 3, 8, 6, 3,\n",
      "        4, 9, 6, 1, 5, 0, 0, 7]), tensor([6, 3, 4, 5, 1, 6, 6, 2, 8, 3, 9, 8, 6, 7, 2, 4, 2, 5, 1, 9, 4, 3, 8, 7,\n",
      "        1, 8, 1, 2, 0, 9, 2, 4]), tensor([3, 4, 6, 1, 3, 5, 2, 9, 7, 5, 3, 7, 9, 9, 6, 4, 8, 0, 7, 0, 8, 4, 2, 1,\n",
      "        9, 7, 7, 3, 8, 6, 3, 0]), tensor([9, 8, 5, 6, 4, 8, 1, 5, 5, 7, 0, 3, 6, 1, 3, 4, 4, 2, 2, 1, 7, 4, 2, 4,\n",
      "        6, 1, 8, 2, 4, 6, 3, 0]), tensor([8, 8, 4, 4, 2, 0, 7, 0, 8, 9, 1, 4, 6, 7, 6, 8, 1, 8, 2, 6, 6, 7, 5, 7,\n",
      "        9, 9, 3, 9, 4, 4, 6, 6]), tensor([1, 4, 8, 4, 4, 5, 2, 2, 2, 9, 1, 8, 0, 6, 2, 2, 0, 3, 6, 6, 1, 3, 6, 3,\n",
      "        4, 1, 5, 8, 1, 0, 7, 4]), tensor([5, 0, 3, 2, 8, 9, 8, 7, 8, 3, 5, 9, 5, 5, 1, 2, 4, 7, 2, 9, 7, 8, 3, 7,\n",
      "        4, 6, 3, 8, 8, 4, 5, 1]), tensor([8, 1, 4, 2, 2, 7, 8, 9, 0, 2, 7, 9, 1, 5, 7, 8, 4, 3, 9, 5, 9, 1, 0, 8,\n",
      "        6, 3, 6, 3, 5, 8, 0, 0]), tensor([3, 8, 2, 5, 0, 6, 7, 6, 6, 2, 7, 4, 8, 8, 2, 6, 3, 6, 7, 1, 4, 7, 4, 4,\n",
      "        7, 1, 6, 5, 2, 6, 7, 9]), tensor([6, 2, 8, 2, 1, 1, 8, 8, 3, 5, 7, 8, 6, 7, 4, 3, 7, 3, 8, 9, 6, 2, 2, 4,\n",
      "        5, 7, 0, 2, 3, 9, 5, 7]), tensor([4, 6, 5, 8, 3, 1, 3, 7, 4, 9, 4, 3, 9, 7, 2, 0, 8, 6, 9, 1, 9, 9, 6, 7,\n",
      "        1, 4, 7, 0, 3, 8, 7, 2]), tensor([8, 5, 9, 4, 2, 0, 6, 9, 8, 5, 6, 1, 3, 8, 9, 1, 8, 9, 4, 0, 8, 7, 4, 8,\n",
      "        2, 1, 2, 7, 5, 4, 0, 8]), tensor([3, 4, 7, 2, 4, 6, 8, 5, 7, 9, 5, 7, 4, 4, 3, 7, 3, 4, 1, 5, 6, 9, 7, 4,\n",
      "        0, 2, 5, 8, 0, 7, 7, 2]), tensor([2, 0, 4, 8, 4, 0, 6, 7, 8, 9, 6, 5, 0, 6, 0, 4, 6, 3, 3, 8, 7, 4, 3, 9,\n",
      "        1, 2, 6, 5, 2, 3, 2, 0]), tensor([2, 6, 0, 7, 2, 1, 8, 4, 8, 7, 9, 2, 1, 4, 5, 7, 7, 3, 2, 5, 9, 4, 4, 7,\n",
      "        3, 2, 0, 9, 6, 7, 3, 9]), tensor([1, 2, 1, 9, 7, 2, 3, 4, 8, 1, 8, 3, 5, 0, 5, 3, 8, 5, 7, 4, 9, 0, 6, 8,\n",
      "        4, 2, 4, 4, 4, 3, 7, 8]), tensor([7, 1, 3, 7, 8, 9, 5, 5, 2, 4, 4, 5, 0, 8, 6, 6, 4, 0, 8, 8, 9, 6, 7, 1,\n",
      "        5, 1, 2, 1, 3, 2, 2, 2]), tensor([4, 5, 7, 5, 9, 2, 0, 5, 7, 0, 5, 6, 5, 3, 3, 2, 3, 7, 3, 8, 2, 9, 8, 1,\n",
      "        7, 3, 2, 6, 3, 7, 1, 8]), tensor([5, 7, 8, 5, 2, 1, 8, 7, 7, 7, 7, 6, 5, 2, 6, 1, 2, 3, 4, 1, 0, 3, 9, 1,\n",
      "        8, 2, 3, 7, 4, 9, 5, 7]), tensor([4, 3, 9, 8, 6, 2, 2, 7, 3, 8, 3, 0, 8, 9, 0, 9, 8, 6, 4, 5, 7, 1, 4, 8,\n",
      "        4, 0, 2, 3, 3, 1, 1, 7]), tensor([6, 2, 2, 5, 9, 8, 9, 9, 3, 4, 7, 9, 2, 0, 1, 1, 1, 4, 8, 6, 8, 0, 9, 5,\n",
      "        6, 7, 6, 8, 2, 4, 4, 2]), tensor([6, 2, 5, 7, 2, 9, 7, 6, 2, 2, 0, 7, 4, 5, 2, 3, 6, 1, 9, 8, 1, 8, 6, 6,\n",
      "        3, 9, 1, 9, 7, 6, 9, 6]), tensor([9, 3, 0, 4, 2, 3, 4, 8, 6, 9, 2, 1, 1, 0, 5, 6, 7, 0, 4, 1, 1, 7, 0, 3,\n",
      "        1, 9, 2, 7, 3, 5, 4, 1]), tensor([2, 6, 4, 0, 3, 6, 2, 3, 5, 9, 5, 8, 9, 3, 3, 7, 8, 9, 4, 1, 1, 7, 0, 7,\n",
      "        0, 6, 7, 6, 0, 2, 9, 4]), tensor([8, 5, 5, 9, 3, 3, 5, 7, 1, 2, 3, 3, 5, 2, 6, 4, 1, 1, 9, 1, 4, 6, 6, 2,\n",
      "        2, 6, 6, 6, 2, 5, 0, 3]), tensor([0, 5, 1, 1, 8, 4, 5, 3, 5, 1, 6, 4, 3, 1, 2, 7, 9, 6, 3, 8, 5, 4, 6, 9,\n",
      "        1, 5, 7, 7, 6, 2, 2, 7]), tensor([5, 6, 1, 5, 7, 7, 8, 2, 8, 3, 7, 6, 6, 2, 9, 9, 0, 2, 7, 3, 1, 0, 8, 2,\n",
      "        4, 4, 4, 7, 1, 8, 2, 0]), tensor([3, 4, 4, 6, 9, 8, 0, 6, 8, 3, 9, 2, 1, 5, 4, 5, 6, 8, 4, 2, 5, 9, 3, 6,\n",
      "        4, 7, 8, 5, 9, 5, 6, 0]), tensor([6, 9, 7, 2, 9, 2, 2, 6, 4, 6, 1, 6, 3, 9, 4, 0, 3, 8, 2, 6, 9, 2, 7, 2,\n",
      "        5, 4, 3, 6, 8, 7, 6, 2]), tensor([1, 1, 8, 7, 3, 2, 0, 5, 4, 3, 8, 8, 8, 9, 6, 6, 9, 6, 6, 3, 6, 2, 2, 6,\n",
      "        8, 5, 9, 6, 7, 1, 9, 0]), tensor([3, 3, 0, 2, 3, 9, 9, 8, 3, 0, 4, 2, 4, 6, 4, 5, 4, 4, 9, 8, 5, 8, 3, 4,\n",
      "        1, 6, 8, 7, 2, 6, 2, 3]), tensor([5, 6, 3, 5, 2, 5, 6, 7, 1, 2, 9, 8, 9, 4, 8, 8, 5, 5, 8, 4, 4, 6, 8, 3,\n",
      "        6, 4, 9, 6, 1, 0, 5, 1]), tensor([4, 0, 9, 2, 6, 3, 6, 7, 4, 4, 4, 3, 8, 5, 1, 8, 3, 4, 2, 5, 6, 0, 7, 8,\n",
      "        7, 4, 2, 2, 2, 9, 3, 5]), tensor([0, 9, 9, 0, 1, 3, 7, 1, 9, 4, 5, 2, 4, 9, 5, 7, 7, 4, 2, 8, 3, 1, 7, 8,\n",
      "        4, 6, 8, 0, 5, 5, 7, 1]), tensor([7, 6, 2, 1, 5, 1, 9, 0, 4, 0, 3, 2, 7, 3, 9, 3, 5, 4, 0, 6, 9, 5, 4, 2,\n",
      "        3, 8, 5, 8, 3, 0, 4, 1]), tensor([4, 9, 5, 8, 9, 0, 0, 2, 9, 5, 9, 1, 3, 0, 8, 4, 1, 4, 6, 9, 9, 8, 9, 7,\n",
      "        2, 0, 1, 9, 9, 3, 9, 0]), tensor([2, 3, 7, 3, 1, 4, 6, 8, 3, 4, 3, 3, 8, 3, 7, 1, 6, 3, 8, 4, 7, 9, 8, 6,\n",
      "        3, 0, 4, 5, 7, 6, 7, 2]), tensor([5, 0, 2, 6, 3, 3, 0, 6, 4, 4, 4, 4, 4, 9, 9, 6, 7, 4, 0, 2, 6, 1, 9, 5,\n",
      "        9, 9, 0, 5, 8, 2, 7, 3]), tensor([9, 5, 2, 8, 9, 5, 8, 0, 0, 3, 0, 6, 3, 7, 8, 0, 1, 2, 2, 6, 1, 1, 4, 2,\n",
      "        2, 5, 4, 3, 9, 3, 4, 4]), tensor([3, 7, 2, 9, 2, 1, 4, 7, 5, 5, 9, 4, 6, 9, 7, 7, 7, 4, 1, 8, 3, 3, 8, 0,\n",
      "        8, 7, 6, 7, 7, 9, 4, 4]), tensor([3, 3, 7, 2, 1, 5, 2, 0, 5, 8, 6, 7, 6, 1, 6, 5, 6, 2, 1, 4, 1, 8, 7, 9,\n",
      "        9, 7, 3, 2, 2, 4, 7, 2]), tensor([3, 9, 6, 3, 9, 5, 1, 0, 9, 0, 7, 4, 3, 5, 7, 2, 7, 6, 8, 7, 5, 4, 5, 9,\n",
      "        4, 3, 5, 0, 2, 8, 5, 3]), tensor([1, 9, 3, 7, 3, 6, 3, 4, 4, 2, 5, 9, 2, 1, 1, 9, 7, 9, 0, 1, 6, 8, 5, 2,\n",
      "        5, 3, 7, 8, 7, 7, 0, 8]), tensor([5, 6, 6, 5, 5, 2, 7, 7, 9, 7, 1, 0, 6, 8, 6, 4, 0, 2, 4, 5, 5, 0, 5, 3,\n",
      "        3, 4, 5, 6, 7, 1, 8, 7]), tensor([1, 6, 2, 0, 4, 7, 3, 7, 4, 8, 6, 3, 8, 4, 6, 6, 0, 8, 7, 3, 3, 0, 5, 6,\n",
      "        1, 5, 0, 9, 9, 3, 3, 0]), tensor([6, 1, 6, 6, 5, 7, 2, 2, 0, 9, 2, 6, 8, 2, 8, 3, 7, 7, 3, 3, 9, 5, 7, 3,\n",
      "        0, 9, 4, 5, 6, 7, 2, 7]), tensor([5, 5, 8, 7, 4, 9, 5, 2, 3, 6, 3, 0, 2, 7, 2, 4, 2, 7, 4, 1, 5, 7, 9, 7,\n",
      "        3, 9, 8, 8, 5, 1, 9, 6]), tensor([1, 6, 4, 8, 0, 5, 6, 9, 8, 8, 4, 4, 4, 1, 7, 5, 1, 4, 6, 5, 0, 3, 2, 8,\n",
      "        7, 8, 5, 5, 1, 1, 3, 8]), tensor([7, 9, 9, 1, 3, 6, 3, 4, 4, 4, 7, 1, 3, 0, 1, 5, 3, 4, 9, 2, 4, 2, 4, 6,\n",
      "        7, 9, 4, 7, 1, 4, 0, 8]), tensor([3, 3, 5, 4, 0, 8, 4, 3, 4, 0, 1, 8, 4, 3, 2, 9, 5, 4, 4, 5, 4, 1, 6, 4,\n",
      "        4, 5, 8, 6, 7, 3, 2, 6]), tensor([7, 4, 2, 3, 8, 8, 2, 6, 3, 4, 8, 1, 7, 8, 4, 8, 7, 8, 9, 9, 9, 2, 6, 9,\n",
      "        4, 0, 8, 8, 8, 0, 5, 6]), tensor([6, 6, 6, 2, 9, 9, 2, 3, 5, 4, 6, 1, 0, 8, 9, 5, 7, 3, 3, 2, 4, 1, 3, 8,\n",
      "        1, 8, 2, 2, 6, 5, 8, 5]), tensor([1, 2, 4, 0, 5, 2, 5, 5, 0, 7, 1, 6, 5, 8, 9, 7, 4, 9, 4, 3, 3, 2, 5, 6,\n",
      "        8, 0, 4, 2, 3, 6, 0, 6]), tensor([3, 3, 5, 9, 4, 7, 1, 5, 0, 1, 6, 1, 7, 9, 4, 0, 4, 5, 2, 9, 4, 9, 8, 8,\n",
      "        7, 6, 2, 0, 9, 3, 6, 7]), tensor([3, 2, 7, 6, 6, 1, 0, 5, 7, 3, 5, 9, 4, 3, 2, 8, 5, 8, 1, 9, 6, 7, 6, 7,\n",
      "        3, 6, 2, 5, 4, 8, 8, 6]), tensor([7, 4, 6, 5, 1, 5, 9, 6, 0, 9, 5, 8, 5, 7, 3, 9, 8, 3, 2, 6, 5, 7, 5, 1,\n",
      "        1, 5, 4, 1, 4, 5, 8, 2]), tensor([9, 6, 3, 3, 4, 6, 2, 4, 1, 1, 4, 7, 2, 7, 0, 2, 8, 8, 8, 8, 7, 7, 1, 2,\n",
      "        6, 4, 1, 4, 6, 2, 5, 8]), tensor([2, 4, 8, 3, 1, 8, 8, 4, 4, 0, 8, 2, 8, 0, 3, 4, 5, 8, 7, 5, 7, 0, 1, 1,\n",
      "        9, 7, 8, 6, 1, 9, 6, 3]), tensor([6, 9, 4, 0, 4, 9, 7, 2, 2, 2, 0, 5, 6, 6, 3, 7, 8, 6, 2, 6, 1, 1, 9, 9,\n",
      "        4, 5, 3, 6, 8, 5, 8, 6]), tensor([6, 1, 2, 3, 7, 6, 9, 0, 4, 8, 2, 3, 6, 9, 5, 5, 9, 4, 0, 4, 1, 1, 8, 9,\n",
      "        6, 4, 2, 3, 3, 0, 7, 1]), tensor([8, 8, 5, 3, 3, 7, 7, 1, 0, 1, 2, 1, 9, 0, 4, 1, 3, 6, 7, 3, 7, 3, 9, 0,\n",
      "        1, 8, 9, 2, 6, 6, 0, 9]), tensor([1, 6, 1, 2, 7, 8, 0, 5, 6, 8, 2, 5, 5, 3, 5, 9, 1, 8, 5, 3, 1, 2, 4, 3,\n",
      "        7, 3, 5, 4, 8, 6, 7, 1]), tensor([2, 3, 9, 8, 3, 8, 7, 7, 9, 7, 0, 9, 4, 0, 9, 6, 1, 9, 8, 6, 4, 7, 2, 9,\n",
      "        5, 4, 7, 1, 2, 1, 2, 6]), tensor([9, 2, 0, 5, 4, 0, 5, 5, 4, 6, 9, 9, 1, 6, 7, 7, 7, 2, 5, 1, 2, 6, 6, 3,\n",
      "        8, 9, 8, 4, 1, 0, 8, 3]), tensor([9, 8, 8, 7, 8, 3, 6, 0, 7, 4, 8, 6, 9, 9, 4, 7, 7, 2, 2, 1, 5, 3, 4, 3,\n",
      "        5, 5, 6, 8, 2, 7, 8, 9]), tensor([4, 2, 1, 7, 4, 4, 4, 7, 4, 3, 6, 0, 7, 7, 8, 0, 9, 1, 2, 6, 2, 9, 7, 1,\n",
      "        9, 7, 3, 3, 1, 4, 3, 5]), tensor([3, 3, 9, 4, 1, 4, 6, 6, 7, 5, 4, 6, 9, 9, 8, 3, 8, 1, 2, 2, 7, 5, 6, 1,\n",
      "        2, 6, 0, 1, 2, 0, 7, 6]), tensor([8, 8, 2, 8, 4, 5, 0, 6, 1, 7, 9, 7, 3, 9, 4, 6, 2, 8, 7, 1, 6, 8, 7, 6,\n",
      "        2, 4, 8, 2, 8, 0, 1, 5]), tensor([3, 8, 1, 7, 4, 9, 3, 7, 9, 5, 1, 8, 3, 0, 9, 3, 6, 2, 4, 2, 7, 6, 0, 9,\n",
      "        8, 8, 1, 5, 7, 7, 1, 7]), tensor([5, 4, 4, 0, 7, 8, 7, 3, 7, 0, 2, 5, 5, 2, 2, 9, 2, 6, 3, 2, 0, 4, 7, 8,\n",
      "        6, 6, 0, 1, 9, 3, 8, 3]), tensor([9, 7, 1, 7, 1, 3, 4, 8, 5, 6, 0, 6, 4, 1, 1, 2, 9, 0, 4, 2, 1, 3, 4, 7,\n",
      "        6, 1, 8, 5, 7, 3, 6, 5]), tensor([0, 4, 6, 2, 2, 5, 2, 3, 8, 2, 1, 7, 3, 8, 8, 9, 5, 0, 1, 2, 1, 4, 9, 6,\n",
      "        3, 1, 1, 4, 7, 8, 3, 6]), tensor([9, 3, 2, 8, 3, 8, 4, 9, 4, 7, 7, 6, 3, 2, 4, 5, 7, 3, 7, 4, 6, 6, 9, 3,\n",
      "        0, 8, 4, 1, 2, 1, 8, 1]), tensor([9, 4, 8, 9, 9, 3, 3, 7, 0, 0, 6, 1, 6, 4, 4, 4, 2, 2, 7, 3, 6, 3, 4, 0,\n",
      "        0, 1, 3, 8, 3, 5, 7, 9]), tensor([6, 6, 3, 7, 5, 1, 2, 7, 7, 5, 8, 0, 9, 1, 6, 1, 4, 9, 1, 2, 5, 2, 3, 6,\n",
      "        7, 1, 2, 7, 9, 2, 7, 4]), tensor([4, 4, 6, 7, 2, 7, 3, 3, 7, 8, 8, 7, 0, 1, 4, 0, 9, 7, 9, 9, 1, 2, 0, 4,\n",
      "        7, 4, 3, 3, 1, 7, 5, 7]), tensor([2, 5, 6, 0, 3, 1, 4, 7, 5, 3, 2, 5, 8, 4, 7, 4, 6, 8, 3, 0, 1, 7, 9, 2,\n",
      "        9, 1, 4, 6, 5, 1, 0, 6]), tensor([3, 7, 3, 1, 8, 2, 8, 9, 8, 8, 1, 0, 9, 6, 6, 6, 4, 1, 4, 7, 3, 0, 7, 9,\n",
      "        8, 9, 5, 4, 6, 4, 7, 2]), tensor([0, 8, 3, 8, 1, 1, 2, 4, 8, 1, 0, 8, 1, 8, 5, 3, 2, 7, 0, 2, 4, 9, 4, 4,\n",
      "        4, 5, 5, 6, 9, 5, 4, 7]), tensor([3, 2, 3, 3, 9, 6, 7, 7, 8, 1, 1, 6, 6, 5, 7, 9, 4, 7, 4, 7, 0, 2, 2, 9,\n",
      "        7, 7, 7, 5, 6, 1, 2, 3]), tensor([4, 6, 2, 0, 9, 2, 7, 8, 2, 2, 8, 7, 7, 1, 6, 7, 9, 9, 0, 1, 5, 1, 1, 3,\n",
      "        6, 7, 9, 8, 3, 3, 8, 5]), tensor([2, 4, 3, 6, 8, 0, 5, 6, 6, 5, 0, 1, 2, 8, 1, 8, 2, 1, 8, 1, 7, 1, 9, 1,\n",
      "        8, 3, 5, 4, 1, 0, 8, 4]), tensor([4, 6, 8, 2, 2, 5, 5, 0, 2, 6, 9, 8, 6, 1, 0, 6, 4, 8, 3, 4, 7, 7, 5, 9,\n",
      "        2, 5, 6, 6, 9, 9, 4, 8]), tensor([5, 6, 9, 3, 4, 0, 2, 8, 3, 1, 9, 2, 3, 6, 7, 0, 8, 5, 6, 4, 6, 4, 1, 3,\n",
      "        9, 8, 8, 9, 3, 2, 6, 0]), tensor([5, 2, 7, 4, 8, 3, 2, 4, 8, 4, 1, 5, 0, 3, 3, 1, 9, 2, 8, 7, 8, 2, 3, 4,\n",
      "        4, 5, 4, 9, 0, 7, 1, 1]), tensor([7, 9, 6, 1, 6, 7, 7, 4, 6, 3, 3, 6, 1, 0, 6, 9, 9, 8, 4, 9, 6, 2, 5, 4,\n",
      "        7, 2, 6, 7, 2, 6, 9, 3]), tensor([7, 0, 4, 3, 5, 3, 4, 3, 4, 6, 9, 8, 8, 6, 4, 0, 6, 3, 7, 4, 2, 8, 1, 7,\n",
      "        4, 4, 9, 3, 6, 2, 0, 8]), tensor([7, 0, 5, 0, 4, 3, 1, 3, 0, 9, 5, 4, 3, 7, 6, 6, 2, 9, 6, 7, 6, 5, 6, 8,\n",
      "        2, 1, 3, 6, 6, 5, 9, 4]), tensor([5, 0, 2, 0, 7, 4, 6, 2, 3, 3, 8, 6, 3, 8, 9, 4, 0, 2, 8, 4, 8, 2, 5, 7,\n",
      "        0, 3, 6, 8, 1, 5, 9, 2]), tensor([2, 8, 9, 4, 1, 0, 5, 8, 4, 2, 8, 2, 2, 6, 7, 4, 7, 3, 7, 4, 5, 8, 8, 3,\n",
      "        9, 9, 0, 6, 4, 6, 3, 0]), tensor([4, 9, 2, 5, 6, 5, 6, 3, 1, 7, 8, 6, 4, 7, 3, 3, 8, 0, 0, 9, 2, 8, 5, 4,\n",
      "        9, 6, 4, 4, 2, 0, 1, 1]), tensor([9, 3, 8, 2, 1, 9, 5, 8, 2, 8, 2, 3, 7, 6, 6, 4, 9, 2, 6, 2, 9, 8, 0, 5,\n",
      "        7, 2, 6, 5, 2, 1, 0, 7]), tensor([2, 4, 2, 7, 2, 6, 3, 3, 1, 5, 4, 0, 3, 7, 7, 5, 6, 5, 6, 7, 2, 6, 3, 5,\n",
      "        4, 8, 9, 0, 9, 7, 5, 7]), tensor([7, 9, 3, 4, 8, 4, 3, 9, 3, 1, 0, 2, 5, 2, 8, 7, 9, 7, 7, 7, 9, 2, 6, 0,\n",
      "        6, 7, 6, 1, 8, 0, 3, 8]), tensor([5, 0, 5, 6, 9, 1, 1, 2, 2, 8, 9, 7, 7, 5, 8, 6, 1, 4, 0, 1, 8, 4, 3, 4,\n",
      "        7, 9, 3, 7, 5, 5, 3, 9]), tensor([1, 2, 1, 2, 7, 4, 6, 9, 3, 4, 4, 1, 7, 8, 1, 6, 5, 9, 6, 0, 9, 5, 3, 8,\n",
      "        8, 2, 8, 5, 7, 0, 7, 6]), tensor([9, 6, 9, 2, 9, 4, 8, 5, 2, 0, 3, 2, 6, 4, 7, 4, 1, 7, 7, 8, 5, 7, 0, 6,\n",
      "        4, 2, 1, 3, 8, 3, 3, 4]), tensor([7, 5, 9, 1, 0, 4, 3, 7, 6, 4, 3, 1, 8, 4, 7, 2, 5, 7, 3, 1, 5, 1, 9, 2,\n",
      "        9, 6, 2, 6, 1, 8, 3, 9]), tensor([8, 4, 0, 6, 8, 4, 5, 1, 0, 4, 6, 4, 4, 8, 5, 7, 7, 7, 6, 5, 5, 7, 9, 7,\n",
      "        6, 2, 8, 2, 1, 3, 3, 2]), tensor([8, 9, 4, 0, 7, 3, 6, 8, 1, 2, 6, 1, 6, 5, 2, 9, 7, 2, 8, 7, 3, 7, 6, 3,\n",
      "        2, 1, 7, 4, 4, 8, 5, 0]), tensor([2, 3, 6, 1, 6, 6, 5, 0, 3, 5, 5, 2, 5, 1, 7, 8, 7, 3, 2, 7, 0, 9, 3, 4,\n",
      "        9, 0, 4, 6, 6, 5, 9, 9]), tensor([4, 2, 7, 3, 8, 1, 4, 2, 3, 7, 8, 4, 0, 4, 5, 4, 2, 9, 3, 5, 8, 0, 1, 9,\n",
      "        6, 7, 3, 7, 4, 4, 6, 6]), tensor([2, 1, 3, 3, 6, 7, 0, 5, 9, 8, 9, 3, 7, 9, 9, 2, 8, 8, 0, 1, 4, 4, 0, 2,\n",
      "        8, 3, 4, 1, 3, 3, 2, 7]), tensor([8, 7, 0, 4, 3, 4, 4, 5, 7, 9, 4, 5, 2, 4, 5, 6, 1, 7, 6, 7, 6, 6, 0, 3,\n",
      "        5, 1, 1, 2, 4, 6, 9, 8]), tensor([1, 0, 1, 6, 8, 5, 4, 0, 4, 0, 4, 9, 3, 8, 5, 2, 8, 6, 2, 8, 6, 4, 4, 0,\n",
      "        8, 7, 5, 2, 8, 7, 2, 9]), tensor([5, 9, 2, 1, 0, 4, 1, 7, 7, 1, 7, 3, 5, 8, 7, 2, 5, 1, 5, 2, 0, 6, 0, 1,\n",
      "        4, 4, 4, 8, 0, 3, 2, 2]), tensor([3, 5, 4, 6, 3, 6, 5, 1, 8, 3, 1, 6, 7, 8, 4, 2, 0, 3, 7, 8, 1, 3, 9, 6,\n",
      "        2, 8, 1, 4, 6, 8, 3, 0]), tensor([8, 7, 7, 5, 4, 7, 7, 6, 1, 8, 1, 7, 7, 0, 3, 1, 2, 5, 5, 3, 8, 9, 4, 0,\n",
      "        9, 5, 1, 7, 2, 1, 5, 2]), tensor([8, 3, 2, 0, 7, 1, 3, 4, 4, 5, 7, 0, 6, 7, 3, 3, 7, 8, 8, 2, 5, 6, 9, 7,\n",
      "        1, 2, 9, 3, 0, 5, 5, 0]), tensor([9, 1, 2, 6, 5, 6, 4, 1, 4, 6, 3, 3, 6, 3, 0, 8, 4, 7, 5, 5, 7, 0, 7, 9,\n",
      "        4, 3, 2, 9, 4, 7, 1, 8]), tensor([8, 8, 5, 8, 3, 8, 9, 3, 2, 0, 2, 1, 8, 4, 4, 6, 6, 9, 7, 4, 1, 9, 1, 3,\n",
      "        5, 6, 6, 2, 1, 7, 3, 6]), tensor([8, 2, 9, 3, 9, 6, 0, 4, 1, 2, 6, 2, 3, 3, 4, 9, 7, 3, 2, 6, 2, 9, 7, 8,\n",
      "        5, 6, 9, 6, 0, 3, 8, 1]), tensor([3, 2, 7, 5, 0, 4, 5, 6, 8, 9, 1, 9, 1, 0, 1, 2])]\n"
     ]
    },
    {
     "data": {
      "text/plain": [
       "tensor([9, 2, 1,  ..., 0, 1, 2])"
      ]
     },
     "execution_count": 55,
     "metadata": {},
     "output_type": "execute_result"
    }
   ],
   "execution_count": 55
  },
  {
   "metadata": {
    "ExecuteTime": {
     "end_time": "2025-05-20T06:00:18.075443Z",
     "start_time": "2025-05-20T06:00:18.069923Z"
    }
   },
   "cell_type": "code",
   "source": [
    "try:\n",
    "    import torchmetrics, mlxtend\n",
    "\n",
    "    print(f\"mlxtend version: {mlxtend.__version__}\")\n",
    "    assert int(mlxtend.__version__.split(\".\")[1]) >= 19, \"mlxtend should be 0.19.0 or higher\"\n",
    "except:\n",
    "    !pip install torchmetrics -U mlxtend\n",
    "    import torchmetrics, mlxtend\n",
    "\n",
    "    print(\"please install mlxtend lol\")"
   ],
   "id": "37f2ae750f2c914",
   "outputs": [
    {
     "name": "stdout",
     "output_type": "stream",
     "text": [
      "mlxtend version: 0.23.4\n"
     ]
    }
   ],
   "execution_count": 56
  },
  {
   "metadata": {
    "ExecuteTime": {
     "end_time": "2025-05-20T06:00:18.174367Z",
     "start_time": "2025-05-20T06:00:18.171164Z"
    }
   },
   "cell_type": "code",
   "source": [
    "import mlxtend\n",
    "\n",
    "print(mlxtend.__version__)"
   ],
   "id": "3a4625bc4e3204c3",
   "outputs": [
    {
     "name": "stdout",
     "output_type": "stream",
     "text": [
      "0.23.4\n"
     ]
    }
   ],
   "execution_count": 57
  },
  {
   "metadata": {
    "ExecuteTime": {
     "end_time": "2025-05-20T06:00:18.516182Z",
     "start_time": "2025-05-20T06:00:18.247863Z"
    }
   },
   "cell_type": "code",
   "source": [
    "from torchmetrics import ConfusionMatrix\n",
    "from mlxtend.plotting import plot_confusion_matrix\n",
    "\n",
    "confmat = ConfusionMatrix(num_classes=len(class_names), task=\"multiclass\")\n",
    "confmat_tensor = confmat(preds=y_pred_tensor, target=test_data.targets)"
   ],
   "id": "352ee737cf281a87",
   "outputs": [],
   "execution_count": 58
  },
  {
   "metadata": {
    "ExecuteTime": {
     "end_time": "2025-05-20T06:06:29.956327Z",
     "start_time": "2025-05-20T06:06:29.729995Z"
    }
   },
   "cell_type": "code",
   "source": [
    "fig, ax = plot_confusion_matrix(\n",
    "    conf_mat=confmat_tensor.numpy(),\n",
    "    class_names=class_names,\n",
    "    figsize=(10, 7)\n",
    ")"
   ],
   "id": "ed59f80edd27b2b0",
   "outputs": [
    {
     "data": {
      "text/plain": [
       "<Figure size 1000x700 with 1 Axes>"
      ],
      "image/png": "[encoded data removed]"
     },
     "metadata": {},
     "output_type": "display_data"
    }
   ],
   "execution_count": 60
  },
  {
   "metadata": {},
   "cell_type": "markdown",
   "source": "## saving model",
   "id": "9a9c25348c6eb78f"
  },
  {
   "metadata": {
    "ExecuteTime": {
     "end_time": "2025-05-20T06:12:13.094334Z",
     "start_time": "2025-05-20T06:12:13.079787Z"
    }
   },
   "cell_type": "code",
   "source": [
    "from pathlib import Path\n",
    "\n",
    "MODEL_PATH = Path(\"models\")\n",
    "MODEL_PATH.mkdir(parents=True, exist_ok=True)\n",
    "\n",
    "MODEL_NAME = \"03_pytorch_computer_vision_model_2.pth\"\n",
    "MODEL_SAVE_PATH = MODEL_PATH / MODEL_NAME\n",
    "\n",
    "print(f\"saving model to {MODEL_SAVE_PATH}\")\n",
    "torch.save(obj=model_2.state_dict(),\n",
    "           f=MODEL_SAVE_PATH)"
   ],
   "id": "c63c43608985eabd",
   "outputs": [
    {
     "name": "stdout",
     "output_type": "stream",
     "text": [
      "saving model to models\\03_pytorch_computer_vision_model_2.pth\n"
     ]
    }
   ],
   "execution_count": 61
  },
  {
   "metadata": {},
   "cell_type": "markdown",
   "source": "## loading model",
   "id": "a0e6ab7905b5c705"
  },
  {
   "metadata": {
    "ExecuteTime": {
     "end_time": "2025-05-20T06:15:00.714377Z",
     "start_time": "2025-05-20T06:15:00.702178Z"
    }
   },
   "cell_type": "code",
   "source": [
    "torch.manual_seed(42)\n",
    "loaded_model_2 = FashionMNISTModelV2(input_shape=1,\n",
    "                                     hidden_units=10,\n",
    "                                     output_shape=len(class_names))\n",
    "loaded_model_2.load_state_dict(torch.load(f=MODEL_SAVE_PATH))"
   ],
   "id": "d48227f130cae59",
   "outputs": [
    {
     "data": {
      "text/plain": [
       "<All keys matched successfully>"
      ]
     },
     "execution_count": 62,
     "metadata": {},
     "output_type": "execute_result"
    }
   ],
   "execution_count": 62
  },
  {
   "metadata": {
    "ExecuteTime": {
     "end_time": "2025-05-20T06:17:01.324941Z",
     "start_time": "2025-05-20T06:16:59.674977Z"
    }
   },
   "cell_type": "code",
   "source": [
    "torch.manual_seed(42)\n",
    "loaded_model_2_results = eval_model(model=loaded_model_2,\n",
    "                                    data_loader=test_dataloader,\n",
    "                                    loss_fn=loss_fn,\n",
    "                                    accuracy_fn=accuracy_fn)\n",
    "loaded_model_2_results"
   ],
   "id": "18b4bc0d951cc8ca",
   "outputs": [
    {
     "name": "stderr",
     "output_type": "stream",
     "text": [
      "100%|██████████| 313/313 [00:01<00:00, 190.85it/s]\n"
     ]
    },
    {
     "data": {
      "text/plain": [
       "{'model_name': 'FashionMNISTModelV2',\n",
       " 'model_loss': 0.3381359279155731,\n",
       " 'model_acc': 87.59984025559105}"
      ]
     },
     "execution_count": 63,
     "metadata": {},
     "output_type": "execute_result"
    }
   ],
   "execution_count": 63
  },
  {
   "metadata": {
    "ExecuteTime": {
     "end_time": "2025-05-20T06:34:13.558441Z",
     "start_time": "2025-05-20T06:34:13.553222Z"
    }
   },
   "cell_type": "code",
   "source": [
    "torch.isclose(torch.tensor(model_2_results[\"model_loss\"]),\n",
    "              torch.tensor(loaded_model_2_results[\"model_loss\"]))"
   ],
   "id": "5660136c68a44315",
   "outputs": [
    {
     "data": {
      "text/plain": [
       "tensor(True)"
      ]
     },
     "execution_count": 64,
     "metadata": {},
     "output_type": "execute_result"
    }
   ],
   "execution_count": 64
  },
  {
   "metadata": {},
   "cell_type": "code",
   "outputs": [],
   "execution_count": null,
   "source": "",
   "id": "6d976d0eddfb2f7b"
  }
 ],
 "metadata": {
  "kernelspec": {
   "display_name": "Python 3",
   "language": "python",
   "name": "python3"
  },
  "language_info": {
   "codemirror_mode": {
    "name": "ipython",
    "version": 2
   },
   "file_extension": ".py",
   "mimetype": "text/x-python",
   "name": "python",
   "nbconvert_exporter": "python",
   "pygments_lexer": "ipython2",
   "version": "2.7.6"
  }
 },
 "nbformat": 4,
 "nbformat_minor": 5
}
