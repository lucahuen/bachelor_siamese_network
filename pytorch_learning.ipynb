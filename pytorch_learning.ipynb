{
 "nbformat": 4,
 "nbformat_minor": 0,
 "metadata": {
  "colab": {
   "provenance": [],
   "toc_visible": true
  },
  "kernelspec": {
   "name": "python3",
   "display_name": "Python 3 (ipykernel)",
   "language": "python"
  },
  "language_info": {
   "name": "python"
  }
 },
 "cells": [
  {
   "cell_type": "code",
   "source": [
    "import torch\n",
    "import numpy as np\n",
    "import matplotlib.pyplot as plt\n",
    "print(torch.__version__)"
   ],
   "metadata": {
    "colab": {
     "base_uri": "https://localhost:8080/"
    },
    "id": "3l2LeZD-6UZb",
    "outputId": "b5b109e5-c06d-4337-ac7d-742fa75eabcf"
   },
   "outputs": [],
   "execution_count": null
  },
  {
   "cell_type": "code",
   "source": [
    "scalar = torch.tensor(7)\n",
    "scalar"
   ],
   "metadata": {
    "colab": {
     "base_uri": "https://localhost:8080/"
    },
    "id": "uUDjiyIa7JO4",
    "outputId": "ee171797-ff10-495e-b856-e32978a209cc"
   },
   "outputs": [],
   "execution_count": null
  },
  {
   "cell_type": "code",
   "source": [
    "scalar.ndim"
   ],
   "metadata": {
    "colab": {
     "base_uri": "https://localhost:8080/"
    },
    "id": "A1U4GrA-7pMY",
    "outputId": "abbc55fd-8979-44cd-cd9a-0b7e3f82a656"
   },
   "outputs": [],
   "execution_count": null
  },
  {
   "cell_type": "code",
   "source": [
    "scalar.item()"
   ],
   "metadata": {
    "colab": {
     "base_uri": "https://localhost:8080/"
    },
    "id": "lV_wxSGP7pxJ",
    "outputId": "21d72164-0512-4bb9-d751-1e61363eec7e"
   },
   "outputs": [],
   "execution_count": null
  },
  {
   "cell_type": "code",
   "source": [
    "vector = torch.tensor([7,7])\n",
    "vector"
   ],
   "metadata": {
    "colab": {
     "base_uri": "https://localhost:8080/"
    },
    "id": "AK6MmAqy8Oq9",
    "outputId": "224fa177-1f8f-400d-99b7-4004ad90bf92"
   },
   "outputs": [],
   "execution_count": null
  },
  {
   "cell_type": "code",
   "source": [
    "vector.ndim"
   ],
   "metadata": {
    "colab": {
     "base_uri": "https://localhost:8080/"
    },
    "id": "fSQETHUC8XIc",
    "outputId": "4c0ccb1e-9133-462f-fd1f-0d93f44b7fb0"
   },
   "outputs": [],
   "execution_count": null
  },
  {
   "cell_type": "code",
   "source": [
    "vector.shape"
   ],
   "metadata": {
    "colab": {
     "base_uri": "https://localhost:8080/"
    },
    "id": "zvxwUE1O8jH9",
    "outputId": "01c07740-bdbd-43e5-eddb-b797e47e3de3"
   },
   "outputs": [],
   "execution_count": null
  },
  {
   "cell_type": "code",
   "source": [
    "MATRIX = torch.tensor([[7, 8],\n",
    "                       [9, 10]])\n",
    "MATRIX"
   ],
   "metadata": {
    "colab": {
     "base_uri": "https://localhost:8080/"
    },
    "id": "8P-Mhmy_8nzF",
    "outputId": "48668080-8efc-480a-a2ca-2f0588d87756"
   },
   "outputs": [],
   "execution_count": null
  },
  {
   "cell_type": "code",
   "source": [
    "MATRIX.ndim"
   ],
   "metadata": {
    "colab": {
     "base_uri": "https://localhost:8080/"
    },
    "id": "AUNZtgza83TV",
    "outputId": "afe757d2-f48c-45bb-813b-f395b63ba2c5"
   },
   "outputs": [],
   "execution_count": null
  },
  {
   "cell_type": "code",
   "source": [
    "MATRIX.shape"
   ],
   "metadata": {
    "colab": {
     "base_uri": "https://localhost:8080/"
    },
    "id": "R46CP1nh8-YV",
    "outputId": "91b7ef14-0aa8-46cb-cfb6-422a206ec145"
   },
   "outputs": [],
   "execution_count": null
  },
  {
   "cell_type": "code",
   "source": [
    "TENSOR = torch.tensor([[[1,2,3],\n",
    "                        [3,6,9],\n",
    "                        [2,4,5]]])\n",
    "TENSOR"
   ],
   "metadata": {
    "colab": {
     "base_uri": "https://localhost:8080/"
    },
    "id": "IfPlOTEx9AE1",
    "outputId": "fb9277e3-dea7-41b3-cf4f-9a7ed6fc11a2"
   },
   "outputs": [],
   "execution_count": null
  },
  {
   "cell_type": "code",
   "source": [
    "TENSOR.ndim"
   ],
   "metadata": {
    "colab": {
     "base_uri": "https://localhost:8080/"
    },
    "id": "7lWnLybo9bqt",
    "outputId": "5a06d0a5-7351-4eaa-b5ad-e4c3c8e69ebd"
   },
   "outputs": [],
   "execution_count": null
  },
  {
   "cell_type": "code",
   "source": [
    "TENSOR.shape"
   ],
   "metadata": {
    "colab": {
     "base_uri": "https://localhost:8080/"
    },
    "id": "drs41fH59ikl",
    "outputId": "b698f711-f70f-4c07-ca5c-fe6fcdfe9a26"
   },
   "outputs": [],
   "execution_count": null
  },
  {
   "cell_type": "code",
   "source": [
    "random_tensor = torch.rand(3, 4)\n",
    "random_tensor"
   ],
   "metadata": {
    "colab": {
     "base_uri": "https://localhost:8080/"
    },
    "id": "RSkmqcpA9lzl",
    "outputId": "f2d11818-558a-4002-c9cc-d299e73d6501"
   },
   "outputs": [],
   "execution_count": null
  },
  {
   "cell_type": "code",
   "source": [
    "random_image_size_tensor = torch.rand(size=(3, 224, 224)) # height width, color channels\n",
    "random_image_size_tensor.shape, random_image_size_tensor.ndim"
   ],
   "metadata": {
    "colab": {
     "base_uri": "https://localhost:8080/"
    },
    "id": "n_rrp_Pm_QzO",
    "outputId": "3323e70b-f307-4e87-b72e-0e10e31366e9"
   },
   "outputs": [],
   "execution_count": null
  },
  {
   "cell_type": "code",
   "source": [
    "zeros = torch.zeros(size=(3,4))\n",
    "zeros"
   ],
   "metadata": {
    "colab": {
     "base_uri": "https://localhost:8080/"
    },
    "id": "sc1DsWeQ_Qwa",
    "outputId": "9702b416-b94b-4a11-f13e-d76ce847d05e"
   },
   "outputs": [],
   "execution_count": null
  },
  {
   "cell_type": "code",
   "source": [
    "ones = torch.ones(3,4)\n",
    "ones"
   ],
   "metadata": {
    "colab": {
     "base_uri": "https://localhost:8080/"
    },
    "id": "04SthFf9_QtQ",
    "outputId": "6f579306-b227-4802-b0db-caba91dccb0e"
   },
   "outputs": [],
   "execution_count": null
  },
  {
   "cell_type": "code",
   "source": [
    "ones.dtype"
   ],
   "metadata": {
    "colab": {
     "base_uri": "https://localhost:8080/"
    },
    "id": "VfluIO87_Qp3",
    "outputId": "e75c47b6-b8c7-4882-e251-8fa223f67ef6"
   },
   "outputs": [],
   "execution_count": null
  },
  {
   "cell_type": "code",
   "source": [
    "random_tensor.dtype"
   ],
   "metadata": {
    "colab": {
     "base_uri": "https://localhost:8080/"
    },
    "id": "eBg70e0OBC39",
    "outputId": "cfb90ed3-3c6d-422b-e798-06ffa47b51a3"
   },
   "outputs": [],
   "execution_count": null
  },
  {
   "cell_type": "code",
   "source": [
    "one_to_ten = torch.arange(start=1, end=11, step=1)\n",
    "one_to_ten"
   ],
   "metadata": {
    "colab": {
     "base_uri": "https://localhost:8080/"
    },
    "id": "Rzx_wqwWBG_l",
    "outputId": "3e9dd989-ba4a-4d98-d12b-daa9a30e02a9"
   },
   "outputs": [],
   "execution_count": null
  },
  {
   "cell_type": "code",
   "source": [
    "ten_zeros = torch.zeros_like(input=one_to_ten)\n",
    "ten_zeros"
   ],
   "metadata": {
    "colab": {
     "base_uri": "https://localhost:8080/"
    },
    "id": "vLsJRiwgBaiN",
    "outputId": "d2a2d479-859d-418a-965f-ccd8115b0494"
   },
   "outputs": [],
   "execution_count": null
  },
  {
   "cell_type": "code",
   "source": [
    "float_32_tensor = torch.tensor([3.0, 6.0, 9.0],\n",
    "                               dtype=None,\n",
    "                               device=None,\n",
    "                               requires_grad=False)\n",
    "float_32_tensor, float_32_tensor.dtype"
   ],
   "metadata": {
    "id": "7J5FblnVCgaV",
    "colab": {
     "base_uri": "https://localhost:8080/"
    },
    "outputId": "6306a44d-4ed3-4384-955a-daed1f63daf0"
   },
   "outputs": [],
   "execution_count": null
  },
  {
   "cell_type": "code",
   "source": [
    "float_16_tensor = float_32_tensor.type(torch.half)\n",
    "float_16_tensor"
   ],
   "metadata": {
    "colab": {
     "base_uri": "https://localhost:8080/"
    },
    "id": "GHAWHRy9DlNG",
    "outputId": "e1a9ef07-1f76-442e-c319-3c97b5f1ee68"
   },
   "outputs": [],
   "execution_count": null
  },
  {
   "cell_type": "code",
   "source": [
    "int_32_tensor = torch.tensor([3,6,9], dtype=torch.int32)\n",
    "int_32_tensor"
   ],
   "metadata": {
    "colab": {
     "base_uri": "https://localhost:8080/"
    },
    "id": "1heuLr7IJ-b_",
    "outputId": "5805eb27-6662-4acb-f498-324b18d306b8"
   },
   "outputs": [],
   "execution_count": null
  },
  {
   "cell_type": "code",
   "source": [
    "float_16_tensor * int_32_tensor"
   ],
   "metadata": {
    "colab": {
     "base_uri": "https://localhost:8080/"
    },
    "id": "sLczjsC9KP2_",
    "outputId": "43959607-1bd7-40b6-b387-6f56089b4ac1"
   },
   "outputs": [],
   "execution_count": null
  },
  {
   "cell_type": "code",
   "source": [
    "some_tensor = torch.rand(3,4)\n",
    "some_tensor"
   ],
   "metadata": {
    "colab": {
     "base_uri": "https://localhost:8080/"
    },
    "id": "3cvssHW0LADP",
    "outputId": "b421b41d-4b32-4333-f5a3-ba3b4edb77dd"
   },
   "outputs": [],
   "execution_count": null
  },
  {
   "cell_type": "code",
   "source": [
    "print(some_tensor)\n",
    "print(f\"Datatype: {some_tensor.dtype}\")\n",
    "print(f\"Shape: {some_tensor.shape}\")\n",
    "print(f\"Device: {some_tensor.device}\")"
   ],
   "metadata": {
    "colab": {
     "base_uri": "https://localhost:8080/"
    },
    "id": "Tc4LQ2xTLHz3",
    "outputId": "b0f5729d-cfc3-4bd7-ea41-5757ea4a9a36"
   },
   "outputs": [],
   "execution_count": null
  },
  {
   "cell_type": "code",
   "source": [
    "tensor = torch.tensor([1,2,3])\n",
    "tensor + 10"
   ],
   "metadata": {
    "colab": {
     "base_uri": "https://localhost:8080/"
    },
    "id": "V2roHM74LZKX",
    "outputId": "9cabaad0-02bb-4874-bf88-b7d5f4342e5d"
   },
   "outputs": [],
   "execution_count": null
  },
  {
   "cell_type": "code",
   "source": [
    "tensor * 10"
   ],
   "metadata": {
    "colab": {
     "base_uri": "https://localhost:8080/"
    },
    "id": "6S2-0HyWOfgo",
    "outputId": "1c55f2c9-e147-4f52-83b4-3d7957cf2a90"
   },
   "outputs": [],
   "execution_count": null
  },
  {
   "cell_type": "code",
   "source": [
    "tensor - 10"
   ],
   "metadata": {
    "colab": {
     "base_uri": "https://localhost:8080/"
    },
    "id": "K2e-lo6NOkXQ",
    "outputId": "5d73792a-c479-49ad-dd58-e65f3c6948c6"
   },
   "outputs": [],
   "execution_count": null
  },
  {
   "cell_type": "code",
   "source": [
    "torch.mul(tensor, 10)"
   ],
   "metadata": {
    "colab": {
     "base_uri": "https://localhost:8080/"
    },
    "id": "ReOBkU47Owln",
    "outputId": "48ec9e7f-7070-42de-a3e5-a2d3231a19cb"
   },
   "outputs": [],
   "execution_count": null
  },
  {
   "cell_type": "code",
   "source": [
    "torch.add(tensor, 10)"
   ],
   "metadata": {
    "colab": {
     "base_uri": "https://localhost:8080/"
    },
    "id": "x-tzCbC-O5WY",
    "outputId": "1638d7e5-dee0-4e82-aac8-41ebb148d958"
   },
   "outputs": [],
   "execution_count": null
  },
  {
   "cell_type": "code",
   "source": [
    "tensor_2 = torch.tensor([2,3,4])\n",
    "tensor_2"
   ],
   "metadata": {
    "colab": {
     "base_uri": "https://localhost:8080/"
    },
    "id": "bOgMTawRO-7Q",
    "outputId": "eb447e2f-12f1-41ea-afa3-1f1a0ab4eb42"
   },
   "outputs": [],
   "execution_count": null
  },
  {
   "cell_type": "code",
   "source": [
    "torch.mul(tensor, tensor_2)"
   ],
   "metadata": {
    "colab": {
     "base_uri": "https://localhost:8080/"
    },
    "id": "X-jWDUEfPU8Y",
    "outputId": "c39b892a-915d-4dad-8f3e-356fa945da9d"
   },
   "outputs": [],
   "execution_count": null
  },
  {
   "cell_type": "code",
   "source": [
    "print(tensor, \"*\", tensor)\n",
    "print(f\"Equals: {tensor * tensor}\")"
   ],
   "metadata": {
    "colab": {
     "base_uri": "https://localhost:8080/"
    },
    "id": "sWMiJs1VPh34",
    "outputId": "e7a628a7-ebe8-403a-ddbb-ed3d01cc807e"
   },
   "outputs": [],
   "execution_count": null
  },
  {
   "cell_type": "code",
   "source": [
    "%%time\n",
    "torch.matmul(tensor, tensor)"
   ],
   "metadata": {
    "colab": {
     "base_uri": "https://localhost:8080/"
    },
    "id": "YaVjAj38gPvD",
    "outputId": "e3cc4017-aca5-4119-cc32-d4f0a600d5c9"
   },
   "outputs": [],
   "execution_count": null
  },
  {
   "cell_type": "code",
   "source": [
    "%%time\n",
    "value=0\n",
    "for i in range(len(tensor)):\n",
    "  value += tensor[i] * tensor[i]\n",
    "value"
   ],
   "metadata": {
    "colab": {
     "base_uri": "https://localhost:8080/"
    },
    "id": "rf7ROTjng9kL",
    "outputId": "387e3558-b0c7-448a-f5d9-de9d88d68dd8"
   },
   "outputs": [],
   "execution_count": null
  },
  {
   "cell_type": "code",
   "source": [
    "torch.matmul(torch.rand(3,5), torch.rand(5,2))"
   ],
   "metadata": {
    "colab": {
     "base_uri": "https://localhost:8080/"
    },
    "id": "QmFJKDmhhbnD",
    "outputId": "a9e44145-a512-4e4c-9a2f-269c39fc4413"
   },
   "outputs": [],
   "execution_count": null
  },
  {
   "cell_type": "code",
   "source": [
    "tensor_A = torch.tensor([[1,2],\n",
    "                         [3,4],\n",
    "                         [4,6]])\n",
    "tensor_B = torch.tensor([[7,10],\n",
    "                         [8,11],\n",
    "                         [9,12]])\n",
    "torch.mm(tensor_A, tensor_B.T)"
   ],
   "metadata": {
    "colab": {
     "base_uri": "https://localhost:8080/"
    },
    "id": "LoSZClrsjw7s",
    "outputId": "4e5b7a08-a52e-41bd-9fcb-32d22830fc51"
   },
   "outputs": [],
   "execution_count": null
  },
  {
   "cell_type": "code",
   "source": [
    "x = torch.arange(1,100,10)\n",
    "x, x.dtype"
   ],
   "metadata": {
    "colab": {
     "base_uri": "https://localhost:8080/"
    },
    "id": "PHPkRUz7nD3k",
    "outputId": "295e8190-f453-4786-f276-f3f18583a0e0"
   },
   "outputs": [],
   "execution_count": null
  },
  {
   "cell_type": "code",
   "source": [
    "x.min(), x.argmin(), x[0]"
   ],
   "metadata": {
    "colab": {
     "base_uri": "https://localhost:8080/"
    },
    "id": "T8BL00RJpdE9",
    "outputId": "fe8eb60e-a519-499d-9f11-369c04be36a9"
   },
   "outputs": [],
   "execution_count": null
  },
  {
   "cell_type": "code",
   "source": [
    "x.max(), x.argmax(), x[9]"
   ],
   "metadata": {
    "colab": {
     "base_uri": "https://localhost:8080/"
    },
    "id": "VOsU798DpfnM",
    "outputId": "1c15e761-9d94-4c81-dd12-ff41651e172a"
   },
   "outputs": [],
   "execution_count": null
  },
  {
   "cell_type": "code",
   "source": [
    "x.type(torch.float32).mean()"
   ],
   "metadata": {
    "colab": {
     "base_uri": "https://localhost:8080/"
    },
    "id": "M_jYh6OmpmO0",
    "outputId": "1b89dca6-5cc0-4b6e-cb75-4a3e2d5569bb"
   },
   "outputs": [],
   "execution_count": null
  },
  {
   "cell_type": "code",
   "source": [
    "x.sum()"
   ],
   "metadata": {
    "colab": {
     "base_uri": "https://localhost:8080/"
    },
    "id": "P_aWEhkrpm9k",
    "outputId": "4d5495f6-49af-4f0c-fffd-c69b118b1473"
   },
   "outputs": [],
   "execution_count": null
  },
  {
   "cell_type": "code",
   "source": [
    "import torch\n",
    "x = torch.arange(1.,10.)\n",
    "x, x.shape"
   ],
   "metadata": {
    "colab": {
     "base_uri": "https://localhost:8080/"
    },
    "id": "t6LuxYi_qT08",
    "outputId": "46cd5819-df34-4efa-eeb2-919954563603"
   },
   "outputs": [],
   "execution_count": null
  },
  {
   "cell_type": "code",
   "source": [
    "x_reshaped = x.reshape(1,9)\n",
    "x_reshaped, x_reshaped.shape"
   ],
   "metadata": {
    "colab": {
     "base_uri": "https://localhost:8080/"
    },
    "id": "TnCLYhU2tSmV",
    "outputId": "bdba6819-9d41-447c-e084-b5087ecea563"
   },
   "outputs": [],
   "execution_count": null
  },
  {
   "cell_type": "code",
   "source": [
    "z = x.view(1,9)\n",
    "z, z.shape"
   ],
   "metadata": {
    "colab": {
     "base_uri": "https://localhost:8080/"
    },
    "id": "YPdHXvGSvPVm",
    "outputId": "08206bef-40c1-4a95-8a2f-5986f445a9e4"
   },
   "outputs": [],
   "execution_count": null
  },
  {
   "cell_type": "code",
   "source": [
    "z[:,0] = 5\n",
    "z, x"
   ],
   "metadata": {
    "colab": {
     "base_uri": "https://localhost:8080/"
    },
    "id": "o-j6FfKLwDNG",
    "outputId": "85163d31-ac7b-4273-da21-778826da5e17"
   },
   "outputs": [],
   "execution_count": null
  },
  {
   "cell_type": "code",
   "source": [
    "x_stacked = torch.stack([x,x,x,x],dim=1)\n",
    "x_stacked, x_stacked.shape"
   ],
   "metadata": {
    "colab": {
     "base_uri": "https://localhost:8080/"
    },
    "id": "hKzz1PrDwOsF",
    "outputId": "ec600f99-caed-4ba9-e2c1-4ae2ef433d4a"
   },
   "outputs": [],
   "execution_count": null
  },
  {
   "cell_type": "code",
   "source": [
    "x_reshaped"
   ],
   "metadata": {
    "colab": {
     "base_uri": "https://localhost:8080/"
    },
    "id": "3Z73zCANwmWG",
    "outputId": "f97da983-cf03-43c8-fbf7-0ec354173aaf"
   },
   "outputs": [],
   "execution_count": null
  },
  {
   "cell_type": "code",
   "source": [
    "x_reshaped.shape"
   ],
   "metadata": {
    "colab": {
     "base_uri": "https://localhost:8080/"
    },
    "id": "tw9hQVVaw9C2",
    "outputId": "ae6411df-6fa9-4d93-dabd-cf78343f82a8"
   },
   "outputs": [],
   "execution_count": null
  },
  {
   "cell_type": "code",
   "source": [
    "x_reshaped.squeeze()"
   ],
   "metadata": {
    "colab": {
     "base_uri": "https://localhost:8080/"
    },
    "id": "Rm71-gcwxY3-",
    "outputId": "921b3384-24c2-4cf1-ed0f-2f6dedf031db"
   },
   "outputs": [],
   "execution_count": null
  },
  {
   "cell_type": "code",
   "source": [
    "print(f\"prev tns: {x_reshaped}\")\n",
    "print(f\"prev shape: {x_reshaped.shape}\")\n",
    "x_squeezed = x_reshaped.squeeze()\n",
    "print(f\"squeezed tns: {x_squeezed}\")\n",
    "print(f\"squeezed shape: {x_squeezed.shape}\")"
   ],
   "metadata": {
    "colab": {
     "base_uri": "https://localhost:8080/"
    },
    "id": "GEDy-f-Zxage",
    "outputId": "37709559-968d-4e90-840d-bbf32c6e1e59"
   },
   "outputs": [],
   "execution_count": null
  },
  {
   "cell_type": "code",
   "source": [
    "x_unsqueezed = x_squeezed.unsqueeze(0)\n",
    "print(f\"unsqueezed tns: {x_unsqueezed}\")\n",
    "print(f\"unsqueezed shape: {x_unsqueezed.shape}\")"
   ],
   "metadata": {
    "colab": {
     "base_uri": "https://localhost:8080/"
    },
    "id": "V_uN6zScxiFu",
    "outputId": "817ae842-2c7b-467e-8473-96d998840fb0"
   },
   "outputs": [],
   "execution_count": null
  },
  {
   "cell_type": "code",
   "source": [
    "x = torch.arange(1.,10.)\n",
    "x, x.shape"
   ],
   "metadata": {
    "colab": {
     "base_uri": "https://localhost:8080/"
    },
    "id": "jLR-CZBdyOXW",
    "outputId": "b1dfd8fd-0a57-4bbb-c2a3-77949207386a"
   },
   "outputs": [],
   "execution_count": null
  },
  {
   "cell_type": "code",
   "source": [
    "x = x.unsqueeze(0)\n",
    "x"
   ],
   "metadata": {
    "colab": {
     "base_uri": "https://localhost:8080/"
    },
    "id": "MOmmYVXazD4m",
    "outputId": "b957563a-9191-4808-a8e3-044ec210592f"
   },
   "outputs": [],
   "execution_count": null
  },
  {
   "cell_type": "code",
   "source": [
    "x.permute(1,0)"
   ],
   "metadata": {
    "colab": {
     "base_uri": "https://localhost:8080/"
    },
    "id": "7q25W62gzdzO",
    "outputId": "67bae6e7-51db-4ae4-ba75-e13480c1469e"
   },
   "outputs": [],
   "execution_count": null
  },
  {
   "cell_type": "code",
   "source": [
    "x_original = torch.rand(224,224,3)\n",
    "x_permuted = x_original.permute(2,0,1)"
   ],
   "metadata": {
    "id": "hj6-2L2MzgaW"
   },
   "outputs": [],
   "execution_count": null
  },
  {
   "cell_type": "code",
   "source": [
    "x_original[0,0,0] = 70540354\n",
    "x_original[0,0,0], x_permuted[0,0,0]"
   ],
   "metadata": {
    "colab": {
     "base_uri": "https://localhost:8080/"
    },
    "id": "7_UAtS2-0Pve",
    "outputId": "8cfee299-b1db-4f33-b890-8110f62d6f57"
   },
   "outputs": [],
   "execution_count": null
  },
  {
   "cell_type": "markdown",
   "source": [
    "# Indexing"
   ],
   "metadata": {
    "id": "2M2o4ZGy1mRT"
   }
  },
  {
   "cell_type": "code",
   "source": [
    "import torch\n",
    "x = torch.arange(1,10).reshape(1,3,3)\n",
    "x, x.shape"
   ],
   "metadata": {
    "colab": {
     "base_uri": "https://localhost:8080/"
    },
    "id": "FdAN6ED50Zg-",
    "outputId": "0aab1c2a-38c2-478c-e6fc-c0546697df5e"
   },
   "outputs": [],
   "execution_count": null
  },
  {
   "cell_type": "code",
   "source": [
    "x[0]"
   ],
   "metadata": {
    "colab": {
     "base_uri": "https://localhost:8080/"
    },
    "id": "3EvCa03D1pm_",
    "outputId": "cebcb705-5aed-412b-efa9-4533d1c0320d"
   },
   "outputs": [],
   "execution_count": null
  },
  {
   "cell_type": "code",
   "source": [
    "x[0,0]"
   ],
   "metadata": {
    "colab": {
     "base_uri": "https://localhost:8080/"
    },
    "id": "vlbvdB2s1sp2",
    "outputId": "ff90dbdc-48a8-4129-e139-31ab07116643"
   },
   "outputs": [],
   "execution_count": null
  },
  {
   "cell_type": "code",
   "source": [
    "x[0,2,2]"
   ],
   "metadata": {
    "colab": {
     "base_uri": "https://localhost:8080/"
    },
    "id": "gNPKo9f61tGv",
    "outputId": "6d27d563-3adc-4568-cf16-1c68e34b04e5"
   },
   "outputs": [],
   "execution_count": null
  },
  {
   "cell_type": "code",
   "source": [
    "x[:,:,0:3:2]"
   ],
   "metadata": {
    "colab": {
     "base_uri": "https://localhost:8080/"
    },
    "id": "-ir_Bsmd1uG-",
    "outputId": "46a386d0-f998-43f4-c9b7-ae3a4b516e49"
   },
   "outputs": [],
   "execution_count": null
  },
  {
   "cell_type": "code",
   "source": [
    "x"
   ],
   "metadata": {
    "colab": {
     "base_uri": "https://localhost:8080/"
    },
    "id": "0WEeSxxB2NQf",
    "outputId": "21d0df75-4320-48af-8d63-bc506adbf436"
   },
   "outputs": [],
   "execution_count": null
  },
  {
   "cell_type": "markdown",
   "source": [
    "# PyTorch and NumPy"
   ],
   "metadata": {
    "id": "ckcpKtUP27sm"
   }
  },
  {
   "cell_type": "code",
   "source": [
    "import torch\n",
    "import numpy as np\n",
    "\n",
    "array = np.arange(1.0,8.0)\n",
    "tensor = torch.from_numpy(array)\n",
    "array, tensor, tensor.dtype"
   ],
   "metadata": {
    "colab": {
     "base_uri": "https://localhost:8080/"
    },
    "id": "-gWJyY6329s-",
    "outputId": "a77f9431-3515-46c3-e030-5fff920b929d"
   },
   "outputs": [],
   "execution_count": null
  },
  {
   "cell_type": "code",
   "source": [
    "array = array+1\n",
    "array, tensor"
   ],
   "metadata": {
    "colab": {
     "base_uri": "https://localhost:8080/"
    },
    "id": "nuLMbkoA3wgf",
    "outputId": "7579982a-250e-4856-d9d4-a3171f46b8f8"
   },
   "outputs": [],
   "execution_count": null
  },
  {
   "cell_type": "code",
   "source": [
    "tensor = torch.ones(7)\n",
    "numpy_tensor = tensor.numpy()\n",
    "tensor, numpy_tensor"
   ],
   "metadata": {
    "colab": {
     "base_uri": "https://localhost:8080/"
    },
    "id": "65usrSwh4V-3",
    "outputId": "89538834-4be5-4c2c-f454-2213d83eae5e"
   },
   "outputs": [],
   "execution_count": null
  },
  {
   "cell_type": "code",
   "source": [
    "tensor = tensor + 1\n",
    "tensor, numpy_tensor"
   ],
   "metadata": {
    "colab": {
     "base_uri": "https://localhost:8080/"
    },
    "id": "CVmG2OBA4nHn",
    "outputId": "18185731-442b-4a37-9c69-e2576fc10741"
   },
   "outputs": [],
   "execution_count": null
  },
  {
   "cell_type": "markdown",
   "source": [
    "# Reproducabilty\n"
   ],
   "metadata": {
    "id": "h75ibnWg5R_L"
   }
  },
  {
   "cell_type": "code",
   "source": [
    "import torch\n",
    "random_tns_A = torch.rand(3,4)\n",
    "random_tns_B = torch.rand(3,4)\n",
    "print(random_tns_A)\n",
    "print(random_tns_B)\n",
    "print(random_tns_A==random_tns_B)"
   ],
   "metadata": {
    "colab": {
     "base_uri": "https://localhost:8080/"
    },
    "id": "f6e0QnYM40pH",
    "outputId": "d949b29f-a176-4e2b-e7f2-d57e285b6e2f"
   },
   "outputs": [],
   "execution_count": null
  },
  {
   "cell_type": "code",
   "source": [
    "import torch\n",
    "\n",
    "RANDOM_SEED = 42\n",
    "\n",
    "torch.manual_seed(RANDOM_SEED)\n",
    "random_tns_C = torch.rand(3,4)\n",
    "\n",
    "torch.manual_seed(RANDOM_SEED)\n",
    "random_tns_D = torch.rand(3,4)\n",
    "\n",
    "print(random_tns_C)\n",
    "print(random_tns_D)\n",
    "print(random_tns_C==random_tns_D)"
   ],
   "metadata": {
    "colab": {
     "base_uri": "https://localhost:8080/"
    },
    "id": "JUEUGoxJ5ha3",
    "outputId": "b8b238b5-6524-44c7-8483-80d372d3d05f"
   },
   "outputs": [],
   "execution_count": null
  },
  {
   "metadata": {},
   "cell_type": "markdown",
   "source": "# GPU Stuff"
  },
  {
   "metadata": {
    "ExecuteTime": {
     "end_time": "2025-05-14T11:52:05.347147Z",
     "start_time": "2025-05-14T11:52:03.793679Z"
    }
   },
   "cell_type": "code",
   "source": [
    "import torch\n",
    "torch.cuda.is_available()"
   ],
   "outputs": [
    {
     "data": {
      "text/plain": [
       "False"
      ]
     },
     "execution_count": 1,
     "metadata": {},
     "output_type": "execute_result"
    }
   ],
   "execution_count": 1
  },
  {
   "metadata": {
    "ExecuteTime": {
     "end_time": "2025-05-14T11:52:07.013209Z",
     "start_time": "2025-05-14T11:52:07.009055Z"
    }
   },
   "cell_type": "code",
   "source": [
    "device = \"cuda\" if torch.cuda.is_available() else \"cpu\"\n",
    "device"
   ],
   "outputs": [
    {
     "data": {
      "text/plain": [
       "'cpu'"
      ]
     },
     "execution_count": 2,
     "metadata": {},
     "output_type": "execute_result"
    }
   ],
   "execution_count": 2
  },
  {
   "metadata": {
    "ExecuteTime": {
     "end_time": "2025-05-14T11:52:08.247762Z",
     "start_time": "2025-05-14T11:52:08.244162Z"
    }
   },
   "cell_type": "code",
   "source": "torch.cuda.device_count()",
   "outputs": [
    {
     "data": {
      "text/plain": [
       "0"
      ]
     },
     "execution_count": 3,
     "metadata": {},
     "output_type": "execute_result"
    }
   ],
   "execution_count": 3
  },
  {
   "metadata": {
    "ExecuteTime": {
     "end_time": "2025-05-14T11:52:09.355772Z",
     "start_time": "2025-05-14T11:52:09.348182Z"
    }
   },
   "cell_type": "code",
   "source": [
    "tensor = torch.rand(2)\n",
    "tensor, tensor.device"
   ],
   "outputs": [
    {
     "data": {
      "text/plain": [
       "(tensor([0.2810, 0.3097]), device(type='cpu'))"
      ]
     },
     "execution_count": 4,
     "metadata": {},
     "output_type": "execute_result"
    }
   ],
   "execution_count": 4
  },
  {
   "metadata": {
    "ExecuteTime": {
     "end_time": "2025-05-14T11:52:10.539159Z",
     "start_time": "2025-05-14T11:52:10.535287Z"
    }
   },
   "cell_type": "code",
   "source": [
    "tensor_on_gpu = tensor.to(device)\n",
    "tensor_on_gpu, tensor.device"
   ],
   "outputs": [
    {
     "data": {
      "text/plain": [
       "(tensor([0.2810, 0.3097]), device(type='cpu'))"
      ]
     },
     "execution_count": 5,
     "metadata": {},
     "output_type": "execute_result"
    }
   ],
   "execution_count": 5
  },
  {
   "metadata": {
    "ExecuteTime": {
     "end_time": "2025-05-14T11:52:11.663800Z",
     "start_time": "2025-05-14T11:52:11.659034Z"
    }
   },
   "cell_type": "code",
   "source": [
    "tensor_on_cpu = tensor_on_gpu.to(\"cpu\")\n",
    "tensor_on_cpu, tensor_on_gpu.device"
   ],
   "outputs": [
    {
     "data": {
      "text/plain": [
       "(tensor([0.2810, 0.3097]), device(type='cpu'))"
      ]
     },
     "execution_count": 6,
     "metadata": {},
     "output_type": "execute_result"
    }
   ],
   "execution_count": 6
  },
  {
   "metadata": {},
   "cell_type": "code",
   "source": "",
   "outputs": [],
   "execution_count": null
  }
 ]
}
